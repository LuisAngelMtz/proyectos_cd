{
 "cells": [
  {
   "cell_type": "markdown",
   "id": "8dc9ab37",
   "metadata": {},
   "source": [
    "# HR:\n",
    "* 1. Cargar y explorar los datos\n",
    "* 2. Transformar los datos\n",
    "* 3. Modelar los Datos\n",
    "* 4. Crear el proceso de Score y evaluar los modelos\n",
    "* 5. Crear pipeline para scorear los datos (score.py)"
   ]
  },
  {
   "cell_type": "code",
   "execution_count": 3,
   "id": "0759a8a6",
   "metadata": {},
   "outputs": [
    {
     "data": {
      "text/html": [
       "<div>\n",
       "<style scoped>\n",
       "    .dataframe tbody tr th:only-of-type {\n",
       "        vertical-align: middle;\n",
       "    }\n",
       "\n",
       "    .dataframe tbody tr th {\n",
       "        vertical-align: top;\n",
       "    }\n",
       "\n",
       "    .dataframe thead th {\n",
       "        text-align: right;\n",
       "    }\n",
       "</style>\n",
       "<table border=\"1\" class=\"dataframe\">\n",
       "  <thead>\n",
       "    <tr style=\"text-align: right;\">\n",
       "      <th></th>\n",
       "      <th>id</th>\n",
       "      <th>satisfaction_level</th>\n",
       "      <th>last_evaluation</th>\n",
       "      <th>number_project</th>\n",
       "      <th>average_montly_hours</th>\n",
       "      <th>time_spend_company</th>\n",
       "      <th>Work_accident</th>\n",
       "      <th>promotion_last_5years</th>\n",
       "      <th>area</th>\n",
       "      <th>salary</th>\n",
       "      <th>left</th>\n",
       "    </tr>\n",
       "  </thead>\n",
       "  <tbody>\n",
       "    <tr>\n",
       "      <th>0</th>\n",
       "      <td>3903</td>\n",
       "      <td>0.78</td>\n",
       "      <td>0.79</td>\n",
       "      <td>3</td>\n",
       "      <td>203</td>\n",
       "      <td>2</td>\n",
       "      <td>0</td>\n",
       "      <td>0</td>\n",
       "      <td>sales</td>\n",
       "      <td>low</td>\n",
       "      <td>0</td>\n",
       "    </tr>\n",
       "    <tr>\n",
       "      <th>1</th>\n",
       "      <td>2048</td>\n",
       "      <td>0.48</td>\n",
       "      <td>0.85</td>\n",
       "      <td>3</td>\n",
       "      <td>279</td>\n",
       "      <td>4</td>\n",
       "      <td>0</td>\n",
       "      <td>0</td>\n",
       "      <td>IT</td>\n",
       "      <td>low</td>\n",
       "      <td>0</td>\n",
       "    </tr>\n",
       "    <tr>\n",
       "      <th>2</th>\n",
       "      <td>4181</td>\n",
       "      <td>0.19</td>\n",
       "      <td>0.93</td>\n",
       "      <td>3</td>\n",
       "      <td>110</td>\n",
       "      <td>4</td>\n",
       "      <td>0</td>\n",
       "      <td>0</td>\n",
       "      <td>technical</td>\n",
       "      <td>medium</td>\n",
       "      <td>0</td>\n",
       "    </tr>\n",
       "  </tbody>\n",
       "</table>\n",
       "</div>"
      ],
      "text/plain": [
       "     id  satisfaction_level  last_evaluation  number_project  \\\n",
       "0  3903                0.78             0.79               3   \n",
       "1  2048                0.48             0.85               3   \n",
       "2  4181                0.19             0.93               3   \n",
       "\n",
       "   average_montly_hours  time_spend_company  Work_accident  \\\n",
       "0                   203                   2              0   \n",
       "1                   279                   4              0   \n",
       "2                   110                   4              0   \n",
       "\n",
       "   promotion_last_5years       area  salary  left  \n",
       "0                      0      sales     low     0  \n",
       "1                      0         IT     low     0  \n",
       "2                      0  technical  medium     0  "
      ]
     },
     "execution_count": 3,
     "metadata": {},
     "output_type": "execute_result"
    }
   ],
   "source": [
    "# 1. Carga de datos:\n",
    "import pandas as pd\n",
    "df = pd.read_csv('HR_train.csv') \n",
    "df.head(3)"
   ]
  },
  {
   "cell_type": "code",
   "execution_count": 4,
   "id": "c10bd69d",
   "metadata": {},
   "outputs": [],
   "source": [
    "tar = 'left'\n",
    "vard = ['area', 'salary']\n",
    "varc = [c for c in df.columns if c not in ['id', tar]+vard]"
   ]
  },
  {
   "cell_type": "markdown",
   "id": "5a825da0",
   "metadata": {},
   "source": [
    "# Transformar los datos:"
   ]
  },
  {
   "cell_type": "code",
   "execution_count": 5,
   "id": "5ee52d99",
   "metadata": {},
   "outputs": [],
   "source": [
    "seed_ = 10"
   ]
  },
  {
   "cell_type": "code",
   "execution_count": 6,
   "id": "14b22b76",
   "metadata": {},
   "outputs": [],
   "source": [
    "# Primero el split:\n",
    "from sklearn.model_selection import train_test_split\n",
    "\n",
    "X = df[varc+vard].copy()\n",
    "y = df[tar].copy()\n",
    "\n",
    "Xt, Xv, yt, yv = train_test_split(X, y, test_size=.2, random_state=seed_)"
   ]
  },
  {
   "cell_type": "code",
   "execution_count": 7,
   "id": "1fc03898",
   "metadata": {},
   "outputs": [
    {
     "data": {
      "text/plain": [
       "sales          0.281279\n",
       "technical      0.180956\n",
       "support        0.150641\n",
       "IT             0.080633\n",
       "product_mng    0.057610\n",
       "marketing      0.057193\n",
       "RandD          0.051672\n",
       "accounting     0.050943\n",
       "hr             0.048443\n",
       "management     0.040629\n",
       "Name: area, dtype: float64"
      ]
     },
     "execution_count": 7,
     "metadata": {},
     "output_type": "execute_result"
    }
   ],
   "source": [
    "Xt['area'].value_counts(1, dropna=False)"
   ]
  },
  {
   "cell_type": "code",
   "execution_count": 8,
   "id": "d3521df9",
   "metadata": {},
   "outputs": [
    {
     "data": {
      "text/plain": [
       "low       0.486926\n",
       "medium    0.430357\n",
       "high      0.082717\n",
       "Name: salary, dtype: float64"
      ]
     },
     "execution_count": 8,
     "metadata": {},
     "output_type": "execute_result"
    }
   ],
   "source": [
    "Xt['salary'].value_counts(1, dropna=False)"
   ]
  },
  {
   "cell_type": "code",
   "execution_count": 9,
   "id": "f66c57ec",
   "metadata": {},
   "outputs": [],
   "source": [
    "import numpy as np\n",
    "\n",
    "def norm_cat(df, column, threshold=0.05, label='category', others_label='Others',\n",
    "            new_col=True):\n",
    "    \n",
    "    '''Salida de mi función: \n",
    "    1. Df con variables normalizadas.\n",
    "    2. Diccionario de normalización'''\n",
    "    \n",
    "    aux = pd.DataFrame(df[column].value_counts(1, dropna=False))\n",
    "    aux[label] = aux.index\n",
    "    aux[label] = aux[label].map(lambda x:\n",
    "                                x if aux.loc[x, column]>threshold else others_label)\n",
    "    aux_dict = dict(zip(aux.index, aux[label]))\n",
    "    \n",
    "    if new_col:\n",
    "        df[column+'_norm'] = df[column].map(aux_dict)\n",
    "    else:\n",
    "        df[column] = df[column].map(aux_dict)\n",
    "        \n",
    "    return(df, aux_dict)\n",
    "\n",
    "def WoE(df, column, tar, label='_WoE'):\n",
    "    \n",
    "    '''Salida de mi función: \n",
    "    1. Df con variables normalizadas.\n",
    "    2. Diccionario de WoEs'''\n",
    "    \n",
    "    df[column].fillna('Missings', inplace=True)\n",
    "    aux = df[[tar, column]].pivot_table(index=column, columns=tar, aggfunc='size')\n",
    "    woe = aux.apply(lambda x:x/sum(x)).apply(lambda x:np.log(x[1]/x[0]), axis=1)\n",
    "    aux['WoE'] = woe\n",
    "    aux_dict = dict(zip(aux.index, aux['WoE']))\n",
    "    \n",
    "    df[column+label] = df[column].map(aux_dict)\n",
    "    \n",
    "    return(df, aux_dict)"
   ]
  },
  {
   "cell_type": "code",
   "execution_count": 10,
   "id": "a9fa8bba",
   "metadata": {},
   "outputs": [
    {
     "data": {
      "text/html": [
       "<div>\n",
       "<style scoped>\n",
       "    .dataframe tbody tr th:only-of-type {\n",
       "        vertical-align: middle;\n",
       "    }\n",
       "\n",
       "    .dataframe tbody tr th {\n",
       "        vertical-align: top;\n",
       "    }\n",
       "\n",
       "    .dataframe thead th {\n",
       "        text-align: right;\n",
       "    }\n",
       "</style>\n",
       "<table border=\"1\" class=\"dataframe\">\n",
       "  <thead>\n",
       "    <tr style=\"text-align: right;\">\n",
       "      <th></th>\n",
       "      <th>satisfaction_level</th>\n",
       "      <th>last_evaluation</th>\n",
       "      <th>number_project</th>\n",
       "      <th>average_montly_hours</th>\n",
       "      <th>time_spend_company</th>\n",
       "      <th>Work_accident</th>\n",
       "      <th>promotion_last_5years</th>\n",
       "      <th>area</th>\n",
       "      <th>salary</th>\n",
       "      <th>left</th>\n",
       "      <th>area_norm</th>\n",
       "      <th>area_norm_WoE</th>\n",
       "      <th>salary_norm</th>\n",
       "      <th>salary_norm_WoE</th>\n",
       "    </tr>\n",
       "  </thead>\n",
       "  <tbody>\n",
       "    <tr>\n",
       "      <th>8282</th>\n",
       "      <td>0.80</td>\n",
       "      <td>0.60</td>\n",
       "      <td>5</td>\n",
       "      <td>217</td>\n",
       "      <td>3</td>\n",
       "      <td>0</td>\n",
       "      <td>0</td>\n",
       "      <td>management</td>\n",
       "      <td>high</td>\n",
       "      <td>0</td>\n",
       "      <td>Others</td>\n",
       "      <td>-0.074886</td>\n",
       "      <td>high</td>\n",
       "      <td>-1.500416</td>\n",
       "    </tr>\n",
       "    <tr>\n",
       "      <th>63</th>\n",
       "      <td>0.61</td>\n",
       "      <td>0.55</td>\n",
       "      <td>5</td>\n",
       "      <td>266</td>\n",
       "      <td>2</td>\n",
       "      <td>0</td>\n",
       "      <td>0</td>\n",
       "      <td>sales</td>\n",
       "      <td>medium</td>\n",
       "      <td>0</td>\n",
       "      <td>sales</td>\n",
       "      <td>0.055122</td>\n",
       "      <td>medium</td>\n",
       "      <td>-0.182641</td>\n",
       "    </tr>\n",
       "  </tbody>\n",
       "</table>\n",
       "</div>"
      ],
      "text/plain": [
       "      satisfaction_level  last_evaluation  number_project  \\\n",
       "8282                0.80             0.60               5   \n",
       "63                  0.61             0.55               5   \n",
       "\n",
       "      average_montly_hours  time_spend_company  Work_accident  \\\n",
       "8282                   217                   3              0   \n",
       "63                     266                   2              0   \n",
       "\n",
       "      promotion_last_5years        area  salary  left area_norm  \\\n",
       "8282                      0  management    high     0    Others   \n",
       "63                        0       sales  medium     0     sales   \n",
       "\n",
       "      area_norm_WoE salary_norm  salary_norm_WoE  \n",
       "8282      -0.074886        high        -1.500416  \n",
       "63         0.055122      medium        -0.182641  "
      ]
     },
     "execution_count": 10,
     "metadata": {},
     "output_type": "execute_result"
    }
   ],
   "source": [
    "aux = Xt.copy()\n",
    "aux[tar] = yt\n",
    "woes = dict()\n",
    "norms = dict()\n",
    "\n",
    "for c in vard:\n",
    "    aux, norms[c] = norm_cat(aux, c)\n",
    "    aux, woes[c] = WoE(aux, c+'_norm', tar)\n",
    "\n",
    "aux.head(2)"
   ]
  },
  {
   "cell_type": "code",
   "execution_count": 11,
   "id": "5062e9d6",
   "metadata": {},
   "outputs": [],
   "source": [
    "def woes_norms(df, disc_cols, woes_cols, disc_dict, woe_dict, \n",
    "               label='_norm', wlabel='_woe'):\n",
    "    \n",
    "    for c in disc_cols:\n",
    "        df[c+label] = df[c].map(lambda x:disc_dict.get(c).get(x, 'Others'))\n",
    "    for c in woes_cols:\n",
    "        df[c+wlabel] = df[c+label].map(lambda x:woe_dict.get(c).get(x, 0))\n",
    "    \n",
    "    return(df)"
   ]
  },
  {
   "cell_type": "code",
   "execution_count": 12,
   "id": "4dc3a507",
   "metadata": {},
   "outputs": [],
   "source": [
    "Xt = woes_norms(Xt, vard, vard, norms, woes)\n",
    "Xv = woes_norms(Xv, vard, vard, norms, woes)"
   ]
  },
  {
   "cell_type": "code",
   "execution_count": 13,
   "id": "347879b6",
   "metadata": {},
   "outputs": [
    {
     "data": {
      "text/html": [
       "<div>\n",
       "<style scoped>\n",
       "    .dataframe tbody tr th:only-of-type {\n",
       "        vertical-align: middle;\n",
       "    }\n",
       "\n",
       "    .dataframe tbody tr th {\n",
       "        vertical-align: top;\n",
       "    }\n",
       "\n",
       "    .dataframe thead th {\n",
       "        text-align: right;\n",
       "    }\n",
       "</style>\n",
       "<table border=\"1\" class=\"dataframe\">\n",
       "  <thead>\n",
       "    <tr style=\"text-align: right;\">\n",
       "      <th></th>\n",
       "      <th>satisfaction_level</th>\n",
       "      <th>last_evaluation</th>\n",
       "      <th>number_project</th>\n",
       "      <th>average_montly_hours</th>\n",
       "      <th>time_spend_company</th>\n",
       "      <th>Work_accident</th>\n",
       "      <th>promotion_last_5years</th>\n",
       "      <th>area</th>\n",
       "      <th>salary</th>\n",
       "      <th>area_norm</th>\n",
       "      <th>salary_norm</th>\n",
       "      <th>area_woe</th>\n",
       "      <th>salary_woe</th>\n",
       "    </tr>\n",
       "  </thead>\n",
       "  <tbody>\n",
       "    <tr>\n",
       "      <th>8282</th>\n",
       "      <td>0.80</td>\n",
       "      <td>0.60</td>\n",
       "      <td>5</td>\n",
       "      <td>217</td>\n",
       "      <td>3</td>\n",
       "      <td>0</td>\n",
       "      <td>0</td>\n",
       "      <td>management</td>\n",
       "      <td>high</td>\n",
       "      <td>Others</td>\n",
       "      <td>high</td>\n",
       "      <td>-0.074886</td>\n",
       "      <td>-1.500416</td>\n",
       "    </tr>\n",
       "    <tr>\n",
       "      <th>63</th>\n",
       "      <td>0.61</td>\n",
       "      <td>0.55</td>\n",
       "      <td>5</td>\n",
       "      <td>266</td>\n",
       "      <td>2</td>\n",
       "      <td>0</td>\n",
       "      <td>0</td>\n",
       "      <td>sales</td>\n",
       "      <td>medium</td>\n",
       "      <td>sales</td>\n",
       "      <td>medium</td>\n",
       "      <td>0.055122</td>\n",
       "      <td>-0.182641</td>\n",
       "    </tr>\n",
       "  </tbody>\n",
       "</table>\n",
       "</div>"
      ],
      "text/plain": [
       "      satisfaction_level  last_evaluation  number_project  \\\n",
       "8282                0.80             0.60               5   \n",
       "63                  0.61             0.55               5   \n",
       "\n",
       "      average_montly_hours  time_spend_company  Work_accident  \\\n",
       "8282                   217                   3              0   \n",
       "63                     266                   2              0   \n",
       "\n",
       "      promotion_last_5years        area  salary area_norm salary_norm  \\\n",
       "8282                      0  management    high    Others        high   \n",
       "63                        0       sales  medium     sales      medium   \n",
       "\n",
       "      area_woe  salary_woe  \n",
       "8282 -0.074886   -1.500416  \n",
       "63    0.055122   -0.182641  "
      ]
     },
     "execution_count": 13,
     "metadata": {},
     "output_type": "execute_result"
    }
   ],
   "source": [
    "Xt.head(2)"
   ]
  },
  {
   "cell_type": "markdown",
   "id": "f83ac891",
   "metadata": {},
   "source": [
    "# 3. Modelar los datos:"
   ]
  },
  {
   "cell_type": "code",
   "execution_count": 14,
   "id": "d486130a",
   "metadata": {},
   "outputs": [],
   "source": [
    "predictors = varc + ['salary_woe', 'area_woe']"
   ]
  },
  {
   "cell_type": "code",
   "execution_count": 15,
   "id": "907a1ac5",
   "metadata": {},
   "outputs": [],
   "source": [
    "from sklearn.preprocessing import OneHotEncoder, StandardScaler\n",
    "from sklearn.discriminant_analysis import LinearDiscriminantAnalysis\n",
    "from sklearn.metrics import precision_score, classification_report\n",
    "from sklearn.pipeline import make_pipeline"
   ]
  },
  {
   "cell_type": "code",
   "execution_count": 16,
   "id": "de5cbd58",
   "metadata": {},
   "outputs": [],
   "source": [
    "pipe = make_pipeline(StandardScaler(with_mean=False),\n",
    "                    LinearDiscriminantAnalysis(),\n",
    "                    verbose=2)"
   ]
  },
  {
   "cell_type": "code",
   "execution_count": 17,
   "id": "660c5667",
   "metadata": {},
   "outputs": [
    {
     "name": "stdout",
     "output_type": "stream",
     "text": [
      "[Pipeline] .... (step 1 of 2) Processing standardscaler, total=   0.0s\n",
      "[Pipeline]  (step 2 of 2) Processing lineardiscriminantanalysis, total=   0.0s\n",
      "CPU times: user 9.4 ms, sys: 1.78 ms, total: 11.2 ms\n",
      "Wall time: 10.2 ms\n"
     ]
    },
    {
     "data": {
      "text/html": [
       "<style>#sk-container-id-1 {color: black;background-color: white;}#sk-container-id-1 pre{padding: 0;}#sk-container-id-1 div.sk-toggleable {background-color: white;}#sk-container-id-1 label.sk-toggleable__label {cursor: pointer;display: block;width: 100%;margin-bottom: 0;padding: 0.3em;box-sizing: border-box;text-align: center;}#sk-container-id-1 label.sk-toggleable__label-arrow:before {content: \"▸\";float: left;margin-right: 0.25em;color: #696969;}#sk-container-id-1 label.sk-toggleable__label-arrow:hover:before {color: black;}#sk-container-id-1 div.sk-estimator:hover label.sk-toggleable__label-arrow:before {color: black;}#sk-container-id-1 div.sk-toggleable__content {max-height: 0;max-width: 0;overflow: hidden;text-align: left;background-color: #f0f8ff;}#sk-container-id-1 div.sk-toggleable__content pre {margin: 0.2em;color: black;border-radius: 0.25em;background-color: #f0f8ff;}#sk-container-id-1 input.sk-toggleable__control:checked~div.sk-toggleable__content {max-height: 200px;max-width: 100%;overflow: auto;}#sk-container-id-1 input.sk-toggleable__control:checked~label.sk-toggleable__label-arrow:before {content: \"▾\";}#sk-container-id-1 div.sk-estimator input.sk-toggleable__control:checked~label.sk-toggleable__label {background-color: #d4ebff;}#sk-container-id-1 div.sk-label input.sk-toggleable__control:checked~label.sk-toggleable__label {background-color: #d4ebff;}#sk-container-id-1 input.sk-hidden--visually {border: 0;clip: rect(1px 1px 1px 1px);clip: rect(1px, 1px, 1px, 1px);height: 1px;margin: -1px;overflow: hidden;padding: 0;position: absolute;width: 1px;}#sk-container-id-1 div.sk-estimator {font-family: monospace;background-color: #f0f8ff;border: 1px dotted black;border-radius: 0.25em;box-sizing: border-box;margin-bottom: 0.5em;}#sk-container-id-1 div.sk-estimator:hover {background-color: #d4ebff;}#sk-container-id-1 div.sk-parallel-item::after {content: \"\";width: 100%;border-bottom: 1px solid gray;flex-grow: 1;}#sk-container-id-1 div.sk-label:hover label.sk-toggleable__label {background-color: #d4ebff;}#sk-container-id-1 div.sk-serial::before {content: \"\";position: absolute;border-left: 1px solid gray;box-sizing: border-box;top: 0;bottom: 0;left: 50%;z-index: 0;}#sk-container-id-1 div.sk-serial {display: flex;flex-direction: column;align-items: center;background-color: white;padding-right: 0.2em;padding-left: 0.2em;position: relative;}#sk-container-id-1 div.sk-item {position: relative;z-index: 1;}#sk-container-id-1 div.sk-parallel {display: flex;align-items: stretch;justify-content: center;background-color: white;position: relative;}#sk-container-id-1 div.sk-item::before, #sk-container-id-1 div.sk-parallel-item::before {content: \"\";position: absolute;border-left: 1px solid gray;box-sizing: border-box;top: 0;bottom: 0;left: 50%;z-index: -1;}#sk-container-id-1 div.sk-parallel-item {display: flex;flex-direction: column;z-index: 1;position: relative;background-color: white;}#sk-container-id-1 div.sk-parallel-item:first-child::after {align-self: flex-end;width: 50%;}#sk-container-id-1 div.sk-parallel-item:last-child::after {align-self: flex-start;width: 50%;}#sk-container-id-1 div.sk-parallel-item:only-child::after {width: 0;}#sk-container-id-1 div.sk-dashed-wrapped {border: 1px dashed gray;margin: 0 0.4em 0.5em 0.4em;box-sizing: border-box;padding-bottom: 0.4em;background-color: white;}#sk-container-id-1 div.sk-label label {font-family: monospace;font-weight: bold;display: inline-block;line-height: 1.2em;}#sk-container-id-1 div.sk-label-container {text-align: center;}#sk-container-id-1 div.sk-container {/* jupyter's `normalize.less` sets `[hidden] { display: none; }` but bootstrap.min.css set `[hidden] { display: none !important; }` so we also need the `!important` here to be able to override the default hidden behavior on the sphinx rendered scikit-learn.org. See: https://github.com/scikit-learn/scikit-learn/issues/21755 */display: inline-block !important;position: relative;}#sk-container-id-1 div.sk-text-repr-fallback {display: none;}</style><div id=\"sk-container-id-1\" class=\"sk-top-container\"><div class=\"sk-text-repr-fallback\"><pre>Pipeline(steps=[(&#x27;standardscaler&#x27;, StandardScaler(with_mean=False)),\n",
       "                (&#x27;lineardiscriminantanalysis&#x27;, LinearDiscriminantAnalysis())],\n",
       "         verbose=2)</pre><b>In a Jupyter environment, please rerun this cell to show the HTML representation or trust the notebook. <br />On GitHub, the HTML representation is unable to render, please try loading this page with nbviewer.org.</b></div><div class=\"sk-container\" hidden><div class=\"sk-item sk-dashed-wrapped\"><div class=\"sk-label-container\"><div class=\"sk-label sk-toggleable\"><input class=\"sk-toggleable__control sk-hidden--visually\" id=\"sk-estimator-id-1\" type=\"checkbox\" ><label for=\"sk-estimator-id-1\" class=\"sk-toggleable__label sk-toggleable__label-arrow\">Pipeline</label><div class=\"sk-toggleable__content\"><pre>Pipeline(steps=[(&#x27;standardscaler&#x27;, StandardScaler(with_mean=False)),\n",
       "                (&#x27;lineardiscriminantanalysis&#x27;, LinearDiscriminantAnalysis())],\n",
       "         verbose=2)</pre></div></div></div><div class=\"sk-serial\"><div class=\"sk-item\"><div class=\"sk-estimator sk-toggleable\"><input class=\"sk-toggleable__control sk-hidden--visually\" id=\"sk-estimator-id-2\" type=\"checkbox\" ><label for=\"sk-estimator-id-2\" class=\"sk-toggleable__label sk-toggleable__label-arrow\">StandardScaler</label><div class=\"sk-toggleable__content\"><pre>StandardScaler(with_mean=False)</pre></div></div></div><div class=\"sk-item\"><div class=\"sk-estimator sk-toggleable\"><input class=\"sk-toggleable__control sk-hidden--visually\" id=\"sk-estimator-id-3\" type=\"checkbox\" ><label for=\"sk-estimator-id-3\" class=\"sk-toggleable__label sk-toggleable__label-arrow\">LinearDiscriminantAnalysis</label><div class=\"sk-toggleable__content\"><pre>LinearDiscriminantAnalysis()</pre></div></div></div></div></div></div></div>"
      ],
      "text/plain": [
       "Pipeline(steps=[('standardscaler', StandardScaler(with_mean=False)),\n",
       "                ('lineardiscriminantanalysis', LinearDiscriminantAnalysis())],\n",
       "         verbose=2)"
      ]
     },
     "execution_count": 17,
     "metadata": {},
     "output_type": "execute_result"
    }
   ],
   "source": [
    "%%time\n",
    "pipe.fit(Xt[predictors], yt)"
   ]
  },
  {
   "cell_type": "markdown",
   "id": "f6ac6e78",
   "metadata": {},
   "source": [
    "# 4. Predecir y evaluar el modelo:"
   ]
  },
  {
   "cell_type": "code",
   "execution_count": 18,
   "id": "1d2d97c8",
   "metadata": {},
   "outputs": [
    {
     "name": "stdout",
     "output_type": "stream",
     "text": [
      "0.5618153364632238\n",
      "0.5733333333333334\n"
     ]
    }
   ],
   "source": [
    "print(precision_score(yt, pipe.predict(Xt[predictors])))\n",
    "print(precision_score(yv, pipe.predict(Xv[predictors])))"
   ]
  },
  {
   "cell_type": "code",
   "execution_count": 19,
   "id": "98677143",
   "metadata": {},
   "outputs": [
    {
     "data": {
      "text/plain": [
       "['hr_models/pipe_hr.joblib']"
      ]
     },
     "execution_count": 19,
     "metadata": {},
     "output_type": "execute_result"
    }
   ],
   "source": [
    "out_path = 'hr_models/'\n",
    "import joblib as jb\n",
    "pipe_name = 'pipe_hr.joblib'\n",
    "jb.dump(pipe, out_path+pipe_name)"
   ]
  },
  {
   "cell_type": "markdown",
   "id": "696740cb",
   "metadata": {},
   "source": [
    "# 5. Construcción del score:"
   ]
  },
  {
   "cell_type": "code",
   "execution_count": 20,
   "id": "64235efb",
   "metadata": {},
   "outputs": [
    {
     "data": {
      "text/html": [
       "<div>\n",
       "<style scoped>\n",
       "    .dataframe tbody tr th:only-of-type {\n",
       "        vertical-align: middle;\n",
       "    }\n",
       "\n",
       "    .dataframe tbody tr th {\n",
       "        vertical-align: top;\n",
       "    }\n",
       "\n",
       "    .dataframe thead th {\n",
       "        text-align: right;\n",
       "    }\n",
       "</style>\n",
       "<table border=\"1\" class=\"dataframe\">\n",
       "  <thead>\n",
       "    <tr style=\"text-align: right;\">\n",
       "      <th></th>\n",
       "      <th>id</th>\n",
       "      <th>satisfaction_level</th>\n",
       "      <th>last_evaluation</th>\n",
       "      <th>number_project</th>\n",
       "      <th>average_montly_hours</th>\n",
       "      <th>time_spend_company</th>\n",
       "      <th>Work_accident</th>\n",
       "      <th>promotion_last_5years</th>\n",
       "      <th>area</th>\n",
       "      <th>salary</th>\n",
       "    </tr>\n",
       "  </thead>\n",
       "  <tbody>\n",
       "    <tr>\n",
       "      <th>0</th>\n",
       "      <td>513</td>\n",
       "      <td>0.11</td>\n",
       "      <td>0.89</td>\n",
       "      <td>6</td>\n",
       "      <td>293</td>\n",
       "      <td>4</td>\n",
       "      <td>0</td>\n",
       "      <td>0</td>\n",
       "      <td>support</td>\n",
       "      <td>low</td>\n",
       "    </tr>\n",
       "    <tr>\n",
       "      <th>1</th>\n",
       "      <td>4942</td>\n",
       "      <td>0.28</td>\n",
       "      <td>0.51</td>\n",
       "      <td>3</td>\n",
       "      <td>124</td>\n",
       "      <td>3</td>\n",
       "      <td>0</td>\n",
       "      <td>0</td>\n",
       "      <td>technical</td>\n",
       "      <td>low</td>\n",
       "    </tr>\n",
       "    <tr>\n",
       "      <th>2</th>\n",
       "      <td>11233</td>\n",
       "      <td>0.70</td>\n",
       "      <td>0.85</td>\n",
       "      <td>4</td>\n",
       "      <td>142</td>\n",
       "      <td>2</td>\n",
       "      <td>0</td>\n",
       "      <td>0</td>\n",
       "      <td>support</td>\n",
       "      <td>low</td>\n",
       "    </tr>\n",
       "  </tbody>\n",
       "</table>\n",
       "</div>"
      ],
      "text/plain": [
       "      id  satisfaction_level  last_evaluation  number_project  \\\n",
       "0    513                0.11             0.89               6   \n",
       "1   4942                0.28             0.51               3   \n",
       "2  11233                0.70             0.85               4   \n",
       "\n",
       "   average_montly_hours  time_spend_company  Work_accident  \\\n",
       "0                   293                   4              0   \n",
       "1                   124                   3              0   \n",
       "2                   142                   2              0   \n",
       "\n",
       "   promotion_last_5years       area salary  \n",
       "0                      0    support    low  \n",
       "1                      0  technical    low  \n",
       "2                      0    support    low  "
      ]
     },
     "execution_count": 20,
     "metadata": {},
     "output_type": "execute_result"
    }
   ],
   "source": [
    "filename = 'HR_test.csv'\n",
    "df = pd.read_csv(general_data_path+filename)\n",
    "df.head(3)"
   ]
  },
  {
   "cell_type": "code",
   "execution_count": 21,
   "id": "b30e7074",
   "metadata": {},
   "outputs": [],
   "source": [
    "# Proceso de score:\n",
    "\n",
    "import pandas as pd\n",
    "import numpy as np\n",
    "import joblib as jb\n",
    "\n",
    "def churn_employee(df, features, joblib_name, label='left'):\n",
    "    \n",
    "    pipeline = jb.load(joblib_name)\n",
    "    aux = df[features]\n",
    "    df[label] = pipeline.predict(aux)\n",
    "    return(df)"
   ]
  },
  {
   "cell_type": "code",
   "execution_count": 22,
   "id": "e9038a76",
   "metadata": {},
   "outputs": [
    {
     "data": {
      "text/html": [
       "<div>\n",
       "<style scoped>\n",
       "    .dataframe tbody tr th:only-of-type {\n",
       "        vertical-align: middle;\n",
       "    }\n",
       "\n",
       "    .dataframe tbody tr th {\n",
       "        vertical-align: top;\n",
       "    }\n",
       "\n",
       "    .dataframe thead th {\n",
       "        text-align: right;\n",
       "    }\n",
       "</style>\n",
       "<table border=\"1\" class=\"dataframe\">\n",
       "  <thead>\n",
       "    <tr style=\"text-align: right;\">\n",
       "      <th></th>\n",
       "      <th>id</th>\n",
       "      <th>left</th>\n",
       "    </tr>\n",
       "  </thead>\n",
       "  <tbody>\n",
       "    <tr>\n",
       "      <th>0</th>\n",
       "      <td>513</td>\n",
       "      <td>1</td>\n",
       "    </tr>\n",
       "    <tr>\n",
       "      <th>1</th>\n",
       "      <td>4942</td>\n",
       "      <td>1</td>\n",
       "    </tr>\n",
       "    <tr>\n",
       "      <th>2</th>\n",
       "      <td>11233</td>\n",
       "      <td>0</td>\n",
       "    </tr>\n",
       "    <tr>\n",
       "      <th>3</th>\n",
       "      <td>10476</td>\n",
       "      <td>0</td>\n",
       "    </tr>\n",
       "    <tr>\n",
       "      <th>4</th>\n",
       "      <td>4193</td>\n",
       "      <td>0</td>\n",
       "    </tr>\n",
       "    <tr>\n",
       "      <th>...</th>\n",
       "      <td>...</td>\n",
       "      <td>...</td>\n",
       "    </tr>\n",
       "    <tr>\n",
       "      <th>2995</th>\n",
       "      <td>6502</td>\n",
       "      <td>0</td>\n",
       "    </tr>\n",
       "    <tr>\n",
       "      <th>2996</th>\n",
       "      <td>8046</td>\n",
       "      <td>0</td>\n",
       "    </tr>\n",
       "    <tr>\n",
       "      <th>2997</th>\n",
       "      <td>14127</td>\n",
       "      <td>0</td>\n",
       "    </tr>\n",
       "    <tr>\n",
       "      <th>2998</th>\n",
       "      <td>6297</td>\n",
       "      <td>0</td>\n",
       "    </tr>\n",
       "    <tr>\n",
       "      <th>2999</th>\n",
       "      <td>5625</td>\n",
       "      <td>0</td>\n",
       "    </tr>\n",
       "  </tbody>\n",
       "</table>\n",
       "<p>3000 rows × 2 columns</p>\n",
       "</div>"
      ],
      "text/plain": [
       "         id  left\n",
       "0       513     1\n",
       "1      4942     1\n",
       "2     11233     0\n",
       "3     10476     0\n",
       "4      4193     0\n",
       "...     ...   ...\n",
       "2995   6502     0\n",
       "2996   8046     0\n",
       "2997  14127     0\n",
       "2998   6297     0\n",
       "2999   5625     0\n",
       "\n",
       "[3000 rows x 2 columns]"
      ]
     },
     "execution_count": 22,
     "metadata": {},
     "output_type": "execute_result"
    }
   ],
   "source": [
    "# Ejecución:\n",
    "\n",
    "pipe_name = out_path+pipe_name\n",
    "\n",
    "# Paso 1. WoEs_norm\n",
    "df_test = woes_norms(df, vard, vard, norms, woes)\n",
    "\n",
    "# Paso 2. Score:\n",
    "df_test = churn_employee(df_test, predictors, pipe_name)\n",
    "df_test[['id', 'left']]"
   ]
  }
 ],
 "metadata": {
  "kernelspec": {
   "display_name": "Python 3 (ipykernel)",
   "language": "python",
   "name": "python3"
  },
  "language_info": {
   "codemirror_mode": {
    "name": "ipython",
    "version": 3
   },
   "file_extension": ".py",
   "mimetype": "text/x-python",
   "name": "python",
   "nbconvert_exporter": "python",
   "pygments_lexer": "ipython3",
   "version": "3.10.6"
  }
 },
 "nbformat": 4,
 "nbformat_minor": 5
}
