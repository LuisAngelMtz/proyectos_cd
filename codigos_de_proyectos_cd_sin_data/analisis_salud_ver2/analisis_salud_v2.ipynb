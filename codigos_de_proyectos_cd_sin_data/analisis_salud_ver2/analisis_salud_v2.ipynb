{
 "cells": [
  {
   "cell_type": "markdown",
   "id": "eb9f2be5",
   "metadata": {},
   "source": [
    "# Librearías"
   ]
  },
  {
   "cell_type": "code",
   "execution_count": 144,
   "id": "cc0c880b",
   "metadata": {},
   "outputs": [],
   "source": [
    "import pandas as pd\n",
    "import numpy as np\n",
    "import os\n",
    "\n",
    "from sklearn.impute import SimpleImputer\n",
    "\n",
    "from scipy.stats import ks_2samp\n",
    "\n",
    "from sklearn.feature_selection import VarianceThreshold\n",
    "\n",
    "import seaborn as sns\n",
    "\n",
    "from varclushi import VarClusHi\n",
    "\n",
    "from sklearn.preprocessing import KBinsDiscretizer\n",
    "\n",
    "from sklearn.model_selection import train_test_split\n",
    "\n",
    "from sklearn.metrics import roc_auc_score, accuracy_score, confusion_matrix\n",
    "\n",
    "from sklearn.linear_model import LogisticRegression\n",
    "\n",
    "from scikitplot.metrics import plot_roc_curve"
   ]
  },
  {
   "cell_type": "code",
   "execution_count": 145,
   "id": "c6343480",
   "metadata": {},
   "outputs": [],
   "source": [
    "pd.set_option('display.max_columns',100)"
   ]
  },
  {
   "cell_type": "markdown",
   "id": "9e1cd1c0",
   "metadata": {},
   "source": [
    "# Funciones"
   ]
  },
  {
   "cell_type": "code",
   "execution_count": 146,
   "id": "f76c6696",
   "metadata": {},
   "outputs": [],
   "source": [
    "from funciones import *"
   ]
  },
  {
   "cell_type": "markdown",
   "id": "73f67276",
   "metadata": {},
   "source": [
    "# Lectura de datos"
   ]
  },
  {
   "cell_type": "code",
   "execution_count": null,
   "id": "04419af0",
   "metadata": {},
   "outputs": [],
   "source": [
    "df = pd.read_csv('healthcare.csv') "
   ]
  },
  {
   "cell_type": "code",
   "execution_count": 149,
   "id": "4e579e8f",
   "metadata": {},
   "outputs": [
    {
     "data": {
      "text/plain": [
       "(5110, 12)"
      ]
     },
     "execution_count": 149,
     "metadata": {},
     "output_type": "execute_result"
    }
   ],
   "source": [
    "df.shape"
   ]
  },
  {
   "cell_type": "code",
   "execution_count": 150,
   "id": "850d98ad",
   "metadata": {
    "scrolled": true
   },
   "outputs": [
    {
     "data": {
      "text/html": [
       "<div>\n",
       "<style scoped>\n",
       "    .dataframe tbody tr th:only-of-type {\n",
       "        vertical-align: middle;\n",
       "    }\n",
       "\n",
       "    .dataframe tbody tr th {\n",
       "        vertical-align: top;\n",
       "    }\n",
       "\n",
       "    .dataframe thead th {\n",
       "        text-align: right;\n",
       "    }\n",
       "</style>\n",
       "<table border=\"1\" class=\"dataframe\">\n",
       "  <thead>\n",
       "    <tr style=\"text-align: right;\">\n",
       "      <th></th>\n",
       "      <th>id</th>\n",
       "      <th>gender</th>\n",
       "      <th>age</th>\n",
       "      <th>hypertension</th>\n",
       "      <th>heart_disease</th>\n",
       "      <th>ever_married</th>\n",
       "      <th>work_type</th>\n",
       "      <th>Residence_type</th>\n",
       "      <th>avg_glucose_level</th>\n",
       "      <th>bmi</th>\n",
       "      <th>smoking_status</th>\n",
       "      <th>stroke</th>\n",
       "    </tr>\n",
       "  </thead>\n",
       "  <tbody>\n",
       "    <tr>\n",
       "      <th>4310</th>\n",
       "      <td>59058</td>\n",
       "      <td>Female</td>\n",
       "      <td>45.0</td>\n",
       "      <td>0</td>\n",
       "      <td>0</td>\n",
       "      <td>Yes</td>\n",
       "      <td>Govt_job</td>\n",
       "      <td>Rural</td>\n",
       "      <td>68.66</td>\n",
       "      <td>25.3</td>\n",
       "      <td>never smoked</td>\n",
       "      <td>0</td>\n",
       "    </tr>\n",
       "    <tr>\n",
       "      <th>5061</th>\n",
       "      <td>38009</td>\n",
       "      <td>Male</td>\n",
       "      <td>41.0</td>\n",
       "      <td>0</td>\n",
       "      <td>0</td>\n",
       "      <td>Yes</td>\n",
       "      <td>Private</td>\n",
       "      <td>Urban</td>\n",
       "      <td>223.78</td>\n",
       "      <td>32.3</td>\n",
       "      <td>never smoked</td>\n",
       "      <td>0</td>\n",
       "    </tr>\n",
       "    <tr>\n",
       "      <th>3797</th>\n",
       "      <td>41962</td>\n",
       "      <td>Female</td>\n",
       "      <td>32.0</td>\n",
       "      <td>0</td>\n",
       "      <td>0</td>\n",
       "      <td>Yes</td>\n",
       "      <td>Private</td>\n",
       "      <td>Rural</td>\n",
       "      <td>108.80</td>\n",
       "      <td>24.0</td>\n",
       "      <td>Unknown</td>\n",
       "      <td>0</td>\n",
       "    </tr>\n",
       "    <tr>\n",
       "      <th>3141</th>\n",
       "      <td>57896</td>\n",
       "      <td>Male</td>\n",
       "      <td>32.0</td>\n",
       "      <td>0</td>\n",
       "      <td>0</td>\n",
       "      <td>Yes</td>\n",
       "      <td>Private</td>\n",
       "      <td>Urban</td>\n",
       "      <td>64.02</td>\n",
       "      <td>23.8</td>\n",
       "      <td>smokes</td>\n",
       "      <td>0</td>\n",
       "    </tr>\n",
       "    <tr>\n",
       "      <th>1010</th>\n",
       "      <td>84</td>\n",
       "      <td>Male</td>\n",
       "      <td>55.0</td>\n",
       "      <td>0</td>\n",
       "      <td>0</td>\n",
       "      <td>Yes</td>\n",
       "      <td>Private</td>\n",
       "      <td>Urban</td>\n",
       "      <td>89.17</td>\n",
       "      <td>31.5</td>\n",
       "      <td>never smoked</td>\n",
       "      <td>0</td>\n",
       "    </tr>\n",
       "    <tr>\n",
       "      <th>2920</th>\n",
       "      <td>51257</td>\n",
       "      <td>Male</td>\n",
       "      <td>32.0</td>\n",
       "      <td>0</td>\n",
       "      <td>0</td>\n",
       "      <td>No</td>\n",
       "      <td>Private</td>\n",
       "      <td>Rural</td>\n",
       "      <td>72.10</td>\n",
       "      <td>23.2</td>\n",
       "      <td>never smoked</td>\n",
       "      <td>0</td>\n",
       "    </tr>\n",
       "    <tr>\n",
       "      <th>2004</th>\n",
       "      <td>32270</td>\n",
       "      <td>Male</td>\n",
       "      <td>53.0</td>\n",
       "      <td>0</td>\n",
       "      <td>0</td>\n",
       "      <td>Yes</td>\n",
       "      <td>Private</td>\n",
       "      <td>Rural</td>\n",
       "      <td>198.24</td>\n",
       "      <td>38.1</td>\n",
       "      <td>never smoked</td>\n",
       "      <td>0</td>\n",
       "    </tr>\n",
       "    <tr>\n",
       "      <th>3490</th>\n",
       "      <td>17745</td>\n",
       "      <td>Male</td>\n",
       "      <td>79.0</td>\n",
       "      <td>1</td>\n",
       "      <td>0</td>\n",
       "      <td>Yes</td>\n",
       "      <td>Self-employed</td>\n",
       "      <td>Urban</td>\n",
       "      <td>84.88</td>\n",
       "      <td>28.7</td>\n",
       "      <td>formerly smoked</td>\n",
       "      <td>0</td>\n",
       "    </tr>\n",
       "    <tr>\n",
       "      <th>4762</th>\n",
       "      <td>27509</td>\n",
       "      <td>Female</td>\n",
       "      <td>76.0</td>\n",
       "      <td>1</td>\n",
       "      <td>0</td>\n",
       "      <td>Yes</td>\n",
       "      <td>Self-employed</td>\n",
       "      <td>Urban</td>\n",
       "      <td>78.68</td>\n",
       "      <td>23.3</td>\n",
       "      <td>never smoked</td>\n",
       "      <td>0</td>\n",
       "    </tr>\n",
       "    <tr>\n",
       "      <th>4257</th>\n",
       "      <td>24854</td>\n",
       "      <td>Female</td>\n",
       "      <td>24.0</td>\n",
       "      <td>0</td>\n",
       "      <td>0</td>\n",
       "      <td>No</td>\n",
       "      <td>Self-employed</td>\n",
       "      <td>Urban</td>\n",
       "      <td>79.42</td>\n",
       "      <td>21.4</td>\n",
       "      <td>never smoked</td>\n",
       "      <td>0</td>\n",
       "    </tr>\n",
       "  </tbody>\n",
       "</table>\n",
       "</div>"
      ],
      "text/plain": [
       "         id  gender   age  hypertension  heart_disease ever_married  \\\n",
       "4310  59058  Female  45.0             0              0          Yes   \n",
       "5061  38009    Male  41.0             0              0          Yes   \n",
       "3797  41962  Female  32.0             0              0          Yes   \n",
       "3141  57896    Male  32.0             0              0          Yes   \n",
       "1010     84    Male  55.0             0              0          Yes   \n",
       "2920  51257    Male  32.0             0              0           No   \n",
       "2004  32270    Male  53.0             0              0          Yes   \n",
       "3490  17745    Male  79.0             1              0          Yes   \n",
       "4762  27509  Female  76.0             1              0          Yes   \n",
       "4257  24854  Female  24.0             0              0           No   \n",
       "\n",
       "          work_type Residence_type  avg_glucose_level   bmi   smoking_status  \\\n",
       "4310       Govt_job          Rural              68.66  25.3     never smoked   \n",
       "5061        Private          Urban             223.78  32.3     never smoked   \n",
       "3797        Private          Rural             108.80  24.0          Unknown   \n",
       "3141        Private          Urban              64.02  23.8           smokes   \n",
       "1010        Private          Urban              89.17  31.5     never smoked   \n",
       "2920        Private          Rural              72.10  23.2     never smoked   \n",
       "2004        Private          Rural             198.24  38.1     never smoked   \n",
       "3490  Self-employed          Urban              84.88  28.7  formerly smoked   \n",
       "4762  Self-employed          Urban              78.68  23.3     never smoked   \n",
       "4257  Self-employed          Urban              79.42  21.4     never smoked   \n",
       "\n",
       "      stroke  \n",
       "4310       0  \n",
       "5061       0  \n",
       "3797       0  \n",
       "3141       0  \n",
       "1010       0  \n",
       "2920       0  \n",
       "2004       0  \n",
       "3490       0  \n",
       "4762       0  \n",
       "4257       0  "
      ]
     },
     "execution_count": 150,
     "metadata": {},
     "output_type": "execute_result"
    }
   ],
   "source": [
    "df.sample(10)"
   ]
  },
  {
   "cell_type": "code",
   "execution_count": 151,
   "id": "0d5dfb5e",
   "metadata": {},
   "outputs": [
    {
     "data": {
      "text/plain": [
       "0    95.127202\n",
       "1     4.872798\n",
       "Name: stroke, dtype: float64"
      ]
     },
     "execution_count": 151,
     "metadata": {},
     "output_type": "execute_result"
    }
   ],
   "source": [
    "df.stroke.value_counts(True)*100"
   ]
  },
  {
   "cell_type": "markdown",
   "id": "67d76ad0",
   "metadata": {},
   "source": [
    "# Limpieza / Pretratamiento"
   ]
  },
  {
   "cell_type": "code",
   "execution_count": 152,
   "id": "8a59ca83",
   "metadata": {},
   "outputs": [],
   "source": [
    "um = ['id']\n",
    "tgt = ['stroke']"
   ]
  },
  {
   "cell_type": "code",
   "execution_count": 153,
   "id": "a3f81797",
   "metadata": {},
   "outputs": [
    {
     "data": {
      "text/plain": [
       "id                     int64\n",
       "gender                object\n",
       "age                  float64\n",
       "hypertension           int64\n",
       "heart_disease          int64\n",
       "ever_married          object\n",
       "work_type             object\n",
       "Residence_type        object\n",
       "avg_glucose_level    float64\n",
       "bmi                  float64\n",
       "smoking_status        object\n",
       "stroke                 int64\n",
       "dtype: object"
      ]
     },
     "execution_count": 153,
     "metadata": {},
     "output_type": "execute_result"
    }
   ],
   "source": [
    "df.dtypes"
   ]
  },
  {
   "cell_type": "code",
   "execution_count": 154,
   "id": "385b65ae",
   "metadata": {},
   "outputs": [],
   "source": [
    "# Continuas / Numéricas\n",
    "varc = ['age','avg_glucose_level','bmi']\n",
    "\n",
    "# Discretas / Categóricas\n",
    "vard = ['gender','hypertension','heart_disease','ever_married','work_type','Residence_type','smoking_status']"
   ]
  },
  {
   "cell_type": "markdown",
   "id": "09e230d1",
   "metadata": {},
   "source": [
    "# Ingeniería de variables"
   ]
  },
  {
   "cell_type": "code",
   "execution_count": 155,
   "id": "b7967325",
   "metadata": {},
   "outputs": [],
   "source": [
    "df['ratio_age_glu'] = df['age'] / df['avg_glucose_level']\n",
    "df['ratio_age_bmi'] = df['age'] / df['bmi']"
   ]
  },
  {
   "cell_type": "code",
   "execution_count": 156,
   "id": "ace3e157",
   "metadata": {},
   "outputs": [],
   "source": [
    "varc = varc + ['ratio_age_bmi','ratio_age_glu']"
   ]
  },
  {
   "cell_type": "code",
   "execution_count": 157,
   "id": "781ecce9",
   "metadata": {
    "cell_style": "split"
   },
   "outputs": [
    {
     "data": {
      "text/plain": [
       "(5, ['age', 'avg_glucose_level', 'bmi', 'ratio_age_bmi', 'ratio_age_glu'])"
      ]
     },
     "execution_count": 157,
     "metadata": {},
     "output_type": "execute_result"
    }
   ],
   "source": [
    "len(varc), varc"
   ]
  },
  {
   "cell_type": "code",
   "execution_count": 158,
   "id": "f92d337d",
   "metadata": {
    "cell_style": "split"
   },
   "outputs": [
    {
     "data": {
      "text/plain": [
       "(7,\n",
       " ['gender',\n",
       "  'hypertension',\n",
       "  'heart_disease',\n",
       "  'ever_married',\n",
       "  'work_type',\n",
       "  'Residence_type',\n",
       "  'smoking_status'])"
      ]
     },
     "execution_count": 158,
     "metadata": {},
     "output_type": "execute_result"
    }
   ],
   "source": [
    "len(vard), vard"
   ]
  },
  {
   "cell_type": "markdown",
   "id": "6b63d812",
   "metadata": {},
   "source": [
    "# Análisis Exploratorio"
   ]
  },
  {
   "cell_type": "markdown",
   "id": "bf0cab99",
   "metadata": {},
   "source": [
    "## Discreto"
   ]
  },
  {
   "cell_type": "markdown",
   "id": "d075ef3d",
   "metadata": {},
   "source": [
    "### Reemplazo de NaN por \"Sin categoría\""
   ]
  },
  {
   "cell_type": "code",
   "execution_count": 159,
   "id": "604f7b1e",
   "metadata": {},
   "outputs": [],
   "source": [
    "for v in vard:\n",
    "    df[v] = df[v].fillna(\"Sin categoría\")"
   ]
  },
  {
   "cell_type": "markdown",
   "id": "544e3278",
   "metadata": {},
   "source": [
    "### Análisis de frecuencias"
   ]
  },
  {
   "cell_type": "code",
   "execution_count": 160,
   "id": "f64ccfe8",
   "metadata": {
    "scrolled": true
   },
   "outputs": [
    {
     "name": "stdout",
     "output_type": "stream",
     "text": [
      "Tabla de frecuencias para la variable gender \n",
      "\n",
      "          FA        FR   FAA       FRA\n",
      "Female  2994  0.585910  2994  0.585910\n",
      "Male    2115  0.413894  5109  0.999804\n",
      "Other      1  0.000196  5110  1.000000 \n",
      "\n",
      "Tabla de frecuencias para la variable hypertension \n",
      "\n",
      "     FA        FR   FAA       FRA\n",
      "0  4612  0.902544  4612  0.902544\n",
      "1   498  0.097456  5110  1.000000 \n",
      "\n",
      "Tabla de frecuencias para la variable heart_disease \n",
      "\n",
      "     FA        FR   FAA       FRA\n",
      "0  4834  0.945988  4834  0.945988\n",
      "1   276  0.054012  5110  1.000000 \n",
      "\n",
      "Tabla de frecuencias para la variable ever_married \n",
      "\n",
      "       FA        FR   FAA       FRA\n",
      "Yes  3353  0.656164  3353  0.656164\n",
      "No   1757  0.343836  5110  1.000000 \n",
      "\n",
      "Tabla de frecuencias para la variable work_type \n",
      "\n",
      "                 FA        FR   FAA       FRA\n",
      "Private        2925  0.572407  2925  0.572407\n",
      "Self-employed   819  0.160274  3744  0.732681\n",
      "children        687  0.134442  4431  0.867123\n",
      "Govt_job        657  0.128571  5088  0.995695\n",
      "Never_worked     22  0.004305  5110  1.000000 \n",
      "\n",
      "Tabla de frecuencias para la variable Residence_type \n",
      "\n",
      "         FA        FR   FAA       FRA\n",
      "Urban  2596  0.508023  2596  0.508023\n",
      "Rural  2514  0.491977  5110  1.000000 \n",
      "\n",
      "Tabla de frecuencias para la variable smoking_status \n",
      "\n",
      "                   FA        FR   FAA       FRA\n",
      "never smoked     1892  0.370254  1892  0.370254\n",
      "Unknown          1544  0.302153  3436  0.672407\n",
      "formerly smoked   885  0.173190  4321  0.845597\n",
      "smokes            789  0.154403  5110  1.000000 \n",
      "\n"
     ]
    }
   ],
   "source": [
    "for v in vard:\n",
    "    freq( df, v )"
   ]
  },
  {
   "cell_type": "markdown",
   "id": "78da0c14",
   "metadata": {},
   "source": [
    "### Normalizar"
   ]
  },
  {
   "cell_type": "code",
   "execution_count": 161,
   "id": "ac75e075",
   "metadata": {},
   "outputs": [],
   "source": [
    "for v in vard:\n",
    "    df = norm( df, v , .05)"
   ]
  },
  {
   "cell_type": "code",
   "execution_count": 162,
   "id": "a2ac50a3",
   "metadata": {},
   "outputs": [
    {
     "data": {
      "text/plain": [
       "(5110, 21)"
      ]
     },
     "execution_count": 162,
     "metadata": {},
     "output_type": "execute_result"
    }
   ],
   "source": [
    "df.shape"
   ]
  },
  {
   "cell_type": "code",
   "execution_count": 163,
   "id": "84e77826",
   "metadata": {},
   "outputs": [
    {
     "data": {
      "text/html": [
       "<div>\n",
       "<style scoped>\n",
       "    .dataframe tbody tr th:only-of-type {\n",
       "        vertical-align: middle;\n",
       "    }\n",
       "\n",
       "    .dataframe tbody tr th {\n",
       "        vertical-align: top;\n",
       "    }\n",
       "\n",
       "    .dataframe thead th {\n",
       "        text-align: right;\n",
       "    }\n",
       "</style>\n",
       "<table border=\"1\" class=\"dataframe\">\n",
       "  <thead>\n",
       "    <tr style=\"text-align: right;\">\n",
       "      <th></th>\n",
       "      <th>id</th>\n",
       "      <th>gender</th>\n",
       "      <th>age</th>\n",
       "      <th>hypertension</th>\n",
       "      <th>heart_disease</th>\n",
       "      <th>ever_married</th>\n",
       "      <th>work_type</th>\n",
       "      <th>Residence_type</th>\n",
       "      <th>avg_glucose_level</th>\n",
       "      <th>bmi</th>\n",
       "      <th>smoking_status</th>\n",
       "      <th>stroke</th>\n",
       "      <th>ratio_age_glu</th>\n",
       "      <th>ratio_age_bmi</th>\n",
       "      <th>n_gender</th>\n",
       "      <th>n_hypertension</th>\n",
       "      <th>n_heart_disease</th>\n",
       "      <th>n_ever_married</th>\n",
       "      <th>n_work_type</th>\n",
       "      <th>n_Residence_type</th>\n",
       "      <th>n_smoking_status</th>\n",
       "    </tr>\n",
       "  </thead>\n",
       "  <tbody>\n",
       "    <tr>\n",
       "      <th>0</th>\n",
       "      <td>9046</td>\n",
       "      <td>Male</td>\n",
       "      <td>67.0</td>\n",
       "      <td>0</td>\n",
       "      <td>1</td>\n",
       "      <td>Yes</td>\n",
       "      <td>Private</td>\n",
       "      <td>Urban</td>\n",
       "      <td>228.69</td>\n",
       "      <td>36.6</td>\n",
       "      <td>formerly smoked</td>\n",
       "      <td>1</td>\n",
       "      <td>0.292973</td>\n",
       "      <td>1.830601</td>\n",
       "      <td>Male</td>\n",
       "      <td>0</td>\n",
       "      <td>1</td>\n",
       "      <td>Yes</td>\n",
       "      <td>Private</td>\n",
       "      <td>Urban</td>\n",
       "      <td>formerly smoked</td>\n",
       "    </tr>\n",
       "    <tr>\n",
       "      <th>1</th>\n",
       "      <td>51676</td>\n",
       "      <td>Female</td>\n",
       "      <td>61.0</td>\n",
       "      <td>0</td>\n",
       "      <td>0</td>\n",
       "      <td>Yes</td>\n",
       "      <td>Self-employed</td>\n",
       "      <td>Rural</td>\n",
       "      <td>202.21</td>\n",
       "      <td>NaN</td>\n",
       "      <td>never smoked</td>\n",
       "      <td>1</td>\n",
       "      <td>0.301667</td>\n",
       "      <td>NaN</td>\n",
       "      <td>Female</td>\n",
       "      <td>0</td>\n",
       "      <td>0</td>\n",
       "      <td>Yes</td>\n",
       "      <td>Self-employed</td>\n",
       "      <td>Rural</td>\n",
       "      <td>never smoked</td>\n",
       "    </tr>\n",
       "    <tr>\n",
       "      <th>2</th>\n",
       "      <td>31112</td>\n",
       "      <td>Male</td>\n",
       "      <td>80.0</td>\n",
       "      <td>0</td>\n",
       "      <td>1</td>\n",
       "      <td>Yes</td>\n",
       "      <td>Private</td>\n",
       "      <td>Rural</td>\n",
       "      <td>105.92</td>\n",
       "      <td>32.5</td>\n",
       "      <td>never smoked</td>\n",
       "      <td>1</td>\n",
       "      <td>0.755287</td>\n",
       "      <td>2.461538</td>\n",
       "      <td>Male</td>\n",
       "      <td>0</td>\n",
       "      <td>1</td>\n",
       "      <td>Yes</td>\n",
       "      <td>Private</td>\n",
       "      <td>Rural</td>\n",
       "      <td>never smoked</td>\n",
       "    </tr>\n",
       "    <tr>\n",
       "      <th>3</th>\n",
       "      <td>60182</td>\n",
       "      <td>Female</td>\n",
       "      <td>49.0</td>\n",
       "      <td>0</td>\n",
       "      <td>0</td>\n",
       "      <td>Yes</td>\n",
       "      <td>Private</td>\n",
       "      <td>Urban</td>\n",
       "      <td>171.23</td>\n",
       "      <td>34.4</td>\n",
       "      <td>smokes</td>\n",
       "      <td>1</td>\n",
       "      <td>0.286165</td>\n",
       "      <td>1.424419</td>\n",
       "      <td>Female</td>\n",
       "      <td>0</td>\n",
       "      <td>0</td>\n",
       "      <td>Yes</td>\n",
       "      <td>Private</td>\n",
       "      <td>Urban</td>\n",
       "      <td>smokes</td>\n",
       "    </tr>\n",
       "    <tr>\n",
       "      <th>4</th>\n",
       "      <td>1665</td>\n",
       "      <td>Female</td>\n",
       "      <td>79.0</td>\n",
       "      <td>1</td>\n",
       "      <td>0</td>\n",
       "      <td>Yes</td>\n",
       "      <td>Self-employed</td>\n",
       "      <td>Rural</td>\n",
       "      <td>174.12</td>\n",
       "      <td>24.0</td>\n",
       "      <td>never smoked</td>\n",
       "      <td>1</td>\n",
       "      <td>0.453710</td>\n",
       "      <td>3.291667</td>\n",
       "      <td>Female</td>\n",
       "      <td>1</td>\n",
       "      <td>0</td>\n",
       "      <td>Yes</td>\n",
       "      <td>Self-employed</td>\n",
       "      <td>Rural</td>\n",
       "      <td>never smoked</td>\n",
       "    </tr>\n",
       "    <tr>\n",
       "      <th>...</th>\n",
       "      <td>...</td>\n",
       "      <td>...</td>\n",
       "      <td>...</td>\n",
       "      <td>...</td>\n",
       "      <td>...</td>\n",
       "      <td>...</td>\n",
       "      <td>...</td>\n",
       "      <td>...</td>\n",
       "      <td>...</td>\n",
       "      <td>...</td>\n",
       "      <td>...</td>\n",
       "      <td>...</td>\n",
       "      <td>...</td>\n",
       "      <td>...</td>\n",
       "      <td>...</td>\n",
       "      <td>...</td>\n",
       "      <td>...</td>\n",
       "      <td>...</td>\n",
       "      <td>...</td>\n",
       "      <td>...</td>\n",
       "      <td>...</td>\n",
       "    </tr>\n",
       "    <tr>\n",
       "      <th>5105</th>\n",
       "      <td>18234</td>\n",
       "      <td>Female</td>\n",
       "      <td>80.0</td>\n",
       "      <td>1</td>\n",
       "      <td>0</td>\n",
       "      <td>Yes</td>\n",
       "      <td>Private</td>\n",
       "      <td>Urban</td>\n",
       "      <td>83.75</td>\n",
       "      <td>NaN</td>\n",
       "      <td>never smoked</td>\n",
       "      <td>0</td>\n",
       "      <td>0.955224</td>\n",
       "      <td>NaN</td>\n",
       "      <td>Female</td>\n",
       "      <td>1</td>\n",
       "      <td>0</td>\n",
       "      <td>Yes</td>\n",
       "      <td>Private</td>\n",
       "      <td>Urban</td>\n",
       "      <td>never smoked</td>\n",
       "    </tr>\n",
       "    <tr>\n",
       "      <th>5106</th>\n",
       "      <td>44873</td>\n",
       "      <td>Female</td>\n",
       "      <td>81.0</td>\n",
       "      <td>0</td>\n",
       "      <td>0</td>\n",
       "      <td>Yes</td>\n",
       "      <td>Self-employed</td>\n",
       "      <td>Urban</td>\n",
       "      <td>125.20</td>\n",
       "      <td>40.0</td>\n",
       "      <td>never smoked</td>\n",
       "      <td>0</td>\n",
       "      <td>0.646965</td>\n",
       "      <td>2.025000</td>\n",
       "      <td>Female</td>\n",
       "      <td>0</td>\n",
       "      <td>0</td>\n",
       "      <td>Yes</td>\n",
       "      <td>Self-employed</td>\n",
       "      <td>Urban</td>\n",
       "      <td>never smoked</td>\n",
       "    </tr>\n",
       "    <tr>\n",
       "      <th>5107</th>\n",
       "      <td>19723</td>\n",
       "      <td>Female</td>\n",
       "      <td>35.0</td>\n",
       "      <td>0</td>\n",
       "      <td>0</td>\n",
       "      <td>Yes</td>\n",
       "      <td>Self-employed</td>\n",
       "      <td>Rural</td>\n",
       "      <td>82.99</td>\n",
       "      <td>30.6</td>\n",
       "      <td>never smoked</td>\n",
       "      <td>0</td>\n",
       "      <td>0.421738</td>\n",
       "      <td>1.143791</td>\n",
       "      <td>Female</td>\n",
       "      <td>0</td>\n",
       "      <td>0</td>\n",
       "      <td>Yes</td>\n",
       "      <td>Self-employed</td>\n",
       "      <td>Rural</td>\n",
       "      <td>never smoked</td>\n",
       "    </tr>\n",
       "    <tr>\n",
       "      <th>5108</th>\n",
       "      <td>37544</td>\n",
       "      <td>Male</td>\n",
       "      <td>51.0</td>\n",
       "      <td>0</td>\n",
       "      <td>0</td>\n",
       "      <td>Yes</td>\n",
       "      <td>Private</td>\n",
       "      <td>Rural</td>\n",
       "      <td>166.29</td>\n",
       "      <td>25.6</td>\n",
       "      <td>formerly smoked</td>\n",
       "      <td>0</td>\n",
       "      <td>0.306693</td>\n",
       "      <td>1.992188</td>\n",
       "      <td>Male</td>\n",
       "      <td>0</td>\n",
       "      <td>0</td>\n",
       "      <td>Yes</td>\n",
       "      <td>Private</td>\n",
       "      <td>Rural</td>\n",
       "      <td>formerly smoked</td>\n",
       "    </tr>\n",
       "    <tr>\n",
       "      <th>5109</th>\n",
       "      <td>44679</td>\n",
       "      <td>Female</td>\n",
       "      <td>44.0</td>\n",
       "      <td>0</td>\n",
       "      <td>0</td>\n",
       "      <td>Yes</td>\n",
       "      <td>Govt_job</td>\n",
       "      <td>Urban</td>\n",
       "      <td>85.28</td>\n",
       "      <td>26.2</td>\n",
       "      <td>Unknown</td>\n",
       "      <td>0</td>\n",
       "      <td>0.515947</td>\n",
       "      <td>1.679389</td>\n",
       "      <td>Female</td>\n",
       "      <td>0</td>\n",
       "      <td>0</td>\n",
       "      <td>Yes</td>\n",
       "      <td>Govt_job</td>\n",
       "      <td>Urban</td>\n",
       "      <td>Unknown</td>\n",
       "    </tr>\n",
       "  </tbody>\n",
       "</table>\n",
       "<p>5110 rows × 21 columns</p>\n",
       "</div>"
      ],
      "text/plain": [
       "         id  gender   age  hypertension  heart_disease ever_married  \\\n",
       "0      9046    Male  67.0             0              1          Yes   \n",
       "1     51676  Female  61.0             0              0          Yes   \n",
       "2     31112    Male  80.0             0              1          Yes   \n",
       "3     60182  Female  49.0             0              0          Yes   \n",
       "4      1665  Female  79.0             1              0          Yes   \n",
       "...     ...     ...   ...           ...            ...          ...   \n",
       "5105  18234  Female  80.0             1              0          Yes   \n",
       "5106  44873  Female  81.0             0              0          Yes   \n",
       "5107  19723  Female  35.0             0              0          Yes   \n",
       "5108  37544    Male  51.0             0              0          Yes   \n",
       "5109  44679  Female  44.0             0              0          Yes   \n",
       "\n",
       "          work_type Residence_type  avg_glucose_level   bmi   smoking_status  \\\n",
       "0           Private          Urban             228.69  36.6  formerly smoked   \n",
       "1     Self-employed          Rural             202.21   NaN     never smoked   \n",
       "2           Private          Rural             105.92  32.5     never smoked   \n",
       "3           Private          Urban             171.23  34.4           smokes   \n",
       "4     Self-employed          Rural             174.12  24.0     never smoked   \n",
       "...             ...            ...                ...   ...              ...   \n",
       "5105        Private          Urban              83.75   NaN     never smoked   \n",
       "5106  Self-employed          Urban             125.20  40.0     never smoked   \n",
       "5107  Self-employed          Rural              82.99  30.6     never smoked   \n",
       "5108        Private          Rural             166.29  25.6  formerly smoked   \n",
       "5109       Govt_job          Urban              85.28  26.2          Unknown   \n",
       "\n",
       "      stroke  ratio_age_glu  ratio_age_bmi n_gender n_hypertension  \\\n",
       "0          1       0.292973       1.830601     Male              0   \n",
       "1          1       0.301667            NaN   Female              0   \n",
       "2          1       0.755287       2.461538     Male              0   \n",
       "3          1       0.286165       1.424419   Female              0   \n",
       "4          1       0.453710       3.291667   Female              1   \n",
       "...      ...            ...            ...      ...            ...   \n",
       "5105       0       0.955224            NaN   Female              1   \n",
       "5106       0       0.646965       2.025000   Female              0   \n",
       "5107       0       0.421738       1.143791   Female              0   \n",
       "5108       0       0.306693       1.992188     Male              0   \n",
       "5109       0       0.515947       1.679389   Female              0   \n",
       "\n",
       "     n_heart_disease n_ever_married    n_work_type n_Residence_type  \\\n",
       "0                  1            Yes        Private            Urban   \n",
       "1                  0            Yes  Self-employed            Rural   \n",
       "2                  1            Yes        Private            Rural   \n",
       "3                  0            Yes        Private            Urban   \n",
       "4                  0            Yes  Self-employed            Rural   \n",
       "...              ...            ...            ...              ...   \n",
       "5105               0            Yes        Private            Urban   \n",
       "5106               0            Yes  Self-employed            Urban   \n",
       "5107               0            Yes  Self-employed            Rural   \n",
       "5108               0            Yes        Private            Rural   \n",
       "5109               0            Yes       Govt_job            Urban   \n",
       "\n",
       "     n_smoking_status  \n",
       "0     formerly smoked  \n",
       "1        never smoked  \n",
       "2        never smoked  \n",
       "3              smokes  \n",
       "4        never smoked  \n",
       "...               ...  \n",
       "5105     never smoked  \n",
       "5106     never smoked  \n",
       "5107     never smoked  \n",
       "5108  formerly smoked  \n",
       "5109          Unknown  \n",
       "\n",
       "[5110 rows x 21 columns]"
      ]
     },
     "execution_count": 163,
     "metadata": {},
     "output_type": "execute_result"
    }
   ],
   "source": [
    "df"
   ]
  },
  {
   "cell_type": "code",
   "execution_count": 164,
   "id": "4cb1e3f0",
   "metadata": {},
   "outputs": [],
   "source": [
    "# Variables normalizadas\n",
    "varn = [v for v in df.filter(like='n_').columns.tolist() ]"
   ]
  },
  {
   "cell_type": "code",
   "execution_count": 165,
   "id": "1ed349c9",
   "metadata": {},
   "outputs": [
    {
     "data": {
      "text/plain": [
       "(7,\n",
       " ['n_gender',\n",
       "  'n_hypertension',\n",
       "  'n_heart_disease',\n",
       "  'n_ever_married',\n",
       "  'n_work_type',\n",
       "  'n_Residence_type',\n",
       "  'n_smoking_status'])"
      ]
     },
     "execution_count": 165,
     "metadata": {},
     "output_type": "execute_result"
    }
   ],
   "source": [
    "varn = [v for v in df.filter(like='n_').columns.tolist() ]"
   ]
  },
  {
   "cell_type": "code",
   "execution_count": 166,
   "id": "ea3d8832",
   "metadata": {
    "scrolled": true
   },
   "outputs": [
    {
     "name": "stdout",
     "output_type": "stream",
     "text": [
      "Tabla de frecuencias para la variable n_gender \n",
      "\n",
      "          FA        FR   FAA       FRA\n",
      "Female  2995  0.586106  2995  0.586106\n",
      "Male    2115  0.413894  5110  1.000000 \n",
      "\n",
      "Tabla de frecuencias para la variable n_hypertension \n",
      "\n",
      "     FA        FR   FAA       FRA\n",
      "0  4612  0.902544  4612  0.902544\n",
      "1   498  0.097456  5110  1.000000 \n",
      "\n",
      "Tabla de frecuencias para la variable n_heart_disease \n",
      "\n",
      "     FA        FR   FAA       FRA\n",
      "0  4834  0.945988  4834  0.945988\n",
      "1   276  0.054012  5110  1.000000 \n",
      "\n",
      "Tabla de frecuencias para la variable n_ever_married \n",
      "\n",
      "       FA        FR   FAA       FRA\n",
      "Yes  3353  0.656164  3353  0.656164\n",
      "No   1757  0.343836  5110  1.000000 \n",
      "\n",
      "Tabla de frecuencias para la variable n_work_type \n",
      "\n",
      "                 FA        FR   FAA       FRA\n",
      "Private        2947  0.576712  2947  0.576712\n",
      "Self-employed   819  0.160274  3766  0.736986\n",
      "children        687  0.134442  4453  0.871429\n",
      "Govt_job        657  0.128571  5110  1.000000 \n",
      "\n",
      "Tabla de frecuencias para la variable n_Residence_type \n",
      "\n",
      "         FA        FR   FAA       FRA\n",
      "Urban  2596  0.508023  2596  0.508023\n",
      "Rural  2514  0.491977  5110  1.000000 \n",
      "\n",
      "Tabla de frecuencias para la variable n_smoking_status \n",
      "\n",
      "                   FA        FR   FAA       FRA\n",
      "never smoked     1892  0.370254  1892  0.370254\n",
      "Unknown          1544  0.302153  3436  0.672407\n",
      "formerly smoked   885  0.173190  4321  0.845597\n",
      "smokes            789  0.154403  5110  1.000000 \n",
      "\n"
     ]
    }
   ],
   "source": [
    "for v in varn:\n",
    "    freq( df, v )"
   ]
  },
  {
   "cell_type": "markdown",
   "id": "a182bf60",
   "metadata": {},
   "source": [
    "### Unarias"
   ]
  },
  {
   "cell_type": "code",
   "execution_count": 167,
   "id": "a28e725e",
   "metadata": {},
   "outputs": [],
   "source": [
    "unarias = [c for c, conteo in zip(varn, [df[v].unique().shape[0] for v in varn ]  ) if conteo == 1  ]"
   ]
  },
  {
   "cell_type": "code",
   "execution_count": 168,
   "id": "7105f3c6",
   "metadata": {},
   "outputs": [
    {
     "data": {
      "text/plain": [
       "(0, [])"
      ]
     },
     "execution_count": 168,
     "metadata": {},
     "output_type": "execute_result"
    }
   ],
   "source": [
    "len(unarias), unarias"
   ]
  },
  {
   "cell_type": "code",
   "execution_count": 169,
   "id": "0da05d7f",
   "metadata": {},
   "outputs": [],
   "source": [
    "varn = [v for v in varn if v  not in unarias]"
   ]
  },
  {
   "cell_type": "markdown",
   "id": "d6764d79",
   "metadata": {},
   "source": [
    "## Continuo"
   ]
  },
  {
   "cell_type": "code",
   "execution_count": 170,
   "id": "ea1d866e",
   "metadata": {},
   "outputs": [],
   "source": [
    "X = df[varc].copy()"
   ]
  },
  {
   "cell_type": "code",
   "execution_count": 171,
   "id": "125a5cfe",
   "metadata": {},
   "outputs": [
    {
     "data": {
      "text/plain": [
       "(5110, 5)"
      ]
     },
     "execution_count": 171,
     "metadata": {},
     "output_type": "execute_result"
    }
   ],
   "source": [
    "X.shape"
   ]
  },
  {
   "cell_type": "markdown",
   "id": "10bdcfc4",
   "metadata": {},
   "source": [
    "## Análisis Univariado"
   ]
  },
  {
   "cell_type": "code",
   "execution_count": 172,
   "id": "bf78c263",
   "metadata": {},
   "outputs": [
    {
     "data": {
      "text/html": [
       "<div>\n",
       "<style scoped>\n",
       "    .dataframe tbody tr th:only-of-type {\n",
       "        vertical-align: middle;\n",
       "    }\n",
       "\n",
       "    .dataframe tbody tr th {\n",
       "        vertical-align: top;\n",
       "    }\n",
       "\n",
       "    .dataframe thead th {\n",
       "        text-align: right;\n",
       "    }\n",
       "</style>\n",
       "<table border=\"1\" class=\"dataframe\">\n",
       "  <thead>\n",
       "    <tr style=\"text-align: right;\">\n",
       "      <th></th>\n",
       "      <th>age</th>\n",
       "      <th>avg_glucose_level</th>\n",
       "      <th>bmi</th>\n",
       "      <th>ratio_age_bmi</th>\n",
       "      <th>ratio_age_glu</th>\n",
       "    </tr>\n",
       "  </thead>\n",
       "  <tbody>\n",
       "    <tr>\n",
       "      <th>count</th>\n",
       "      <td>5110.000000</td>\n",
       "      <td>5110.000000</td>\n",
       "      <td>4909.000000</td>\n",
       "      <td>4909.000000</td>\n",
       "      <td>5110.000000</td>\n",
       "    </tr>\n",
       "    <tr>\n",
       "      <th>mean</th>\n",
       "      <td>43.226614</td>\n",
       "      <td>106.147677</td>\n",
       "      <td>28.893237</td>\n",
       "      <td>1.489989</td>\n",
       "      <td>0.451352</td>\n",
       "    </tr>\n",
       "    <tr>\n",
       "      <th>std</th>\n",
       "      <td>22.612647</td>\n",
       "      <td>45.283560</td>\n",
       "      <td>7.854067</td>\n",
       "      <td>0.832468</td>\n",
       "      <td>0.281029</td>\n",
       "    </tr>\n",
       "    <tr>\n",
       "      <th>min</th>\n",
       "      <td>0.080000</td>\n",
       "      <td>55.120000</td>\n",
       "      <td>10.300000</td>\n",
       "      <td>0.004734</td>\n",
       "      <td>0.000573</td>\n",
       "    </tr>\n",
       "    <tr>\n",
       "      <th>1%</th>\n",
       "      <td>1.080000</td>\n",
       "      <td>56.330900</td>\n",
       "      <td>15.100000</td>\n",
       "      <td>0.057645</td>\n",
       "      <td>0.010853</td>\n",
       "    </tr>\n",
       "    <tr>\n",
       "      <th>10%</th>\n",
       "      <td>11.000000</td>\n",
       "      <td>65.789000</td>\n",
       "      <td>19.700000</td>\n",
       "      <td>0.464232</td>\n",
       "      <td>0.108502</td>\n",
       "    </tr>\n",
       "    <tr>\n",
       "      <th>50%</th>\n",
       "      <td>45.000000</td>\n",
       "      <td>91.885000</td>\n",
       "      <td>28.100000</td>\n",
       "      <td>1.422764</td>\n",
       "      <td>0.403809</td>\n",
       "    </tr>\n",
       "    <tr>\n",
       "      <th>90%</th>\n",
       "      <td>75.000000</td>\n",
       "      <td>192.181000</td>\n",
       "      <td>38.900000</td>\n",
       "      <td>2.606143</td>\n",
       "      <td>0.837678</td>\n",
       "    </tr>\n",
       "    <tr>\n",
       "      <th>99%</th>\n",
       "      <td>82.000000</td>\n",
       "      <td>240.708200</td>\n",
       "      <td>53.400000</td>\n",
       "      <td>3.604024</td>\n",
       "      <td>1.213338</td>\n",
       "    </tr>\n",
       "    <tr>\n",
       "      <th>max</th>\n",
       "      <td>82.000000</td>\n",
       "      <td>271.740000</td>\n",
       "      <td>97.600000</td>\n",
       "      <td>6.991150</td>\n",
       "      <td>1.444934</td>\n",
       "    </tr>\n",
       "  </tbody>\n",
       "</table>\n",
       "</div>"
      ],
      "text/plain": [
       "               age  avg_glucose_level          bmi  ratio_age_bmi  \\\n",
       "count  5110.000000        5110.000000  4909.000000    4909.000000   \n",
       "mean     43.226614         106.147677    28.893237       1.489989   \n",
       "std      22.612647          45.283560     7.854067       0.832468   \n",
       "min       0.080000          55.120000    10.300000       0.004734   \n",
       "1%        1.080000          56.330900    15.100000       0.057645   \n",
       "10%      11.000000          65.789000    19.700000       0.464232   \n",
       "50%      45.000000          91.885000    28.100000       1.422764   \n",
       "90%      75.000000         192.181000    38.900000       2.606143   \n",
       "99%      82.000000         240.708200    53.400000       3.604024   \n",
       "max      82.000000         271.740000    97.600000       6.991150   \n",
       "\n",
       "       ratio_age_glu  \n",
       "count    5110.000000  \n",
       "mean        0.451352  \n",
       "std         0.281029  \n",
       "min         0.000573  \n",
       "1%          0.010853  \n",
       "10%         0.108502  \n",
       "50%         0.403809  \n",
       "90%         0.837678  \n",
       "99%         1.213338  \n",
       "max         1.444934  "
      ]
     },
     "execution_count": 172,
     "metadata": {},
     "output_type": "execute_result"
    }
   ],
   "source": [
    "X.describe(percentiles=[0.01,.1,.9,0.99])"
   ]
  },
  {
   "cell_type": "code",
   "execution_count": 173,
   "id": "0d9224a4",
   "metadata": {
    "scrolled": true
   },
   "outputs": [
    {
     "data": {
      "text/plain": [
       "array([[<AxesSubplot:title={'center':'age'}>,\n",
       "        <AxesSubplot:title={'center':'avg_glucose_level'}>],\n",
       "       [<AxesSubplot:title={'center':'bmi'}>,\n",
       "        <AxesSubplot:title={'center':'ratio_age_bmi'}>],\n",
       "       [<AxesSubplot:title={'center':'ratio_age_glu'}>, <AxesSubplot:>]],\n",
       "      dtype=object)"
      ]
     },
     "execution_count": 173,
     "metadata": {},
     "output_type": "execute_result"
    },
    {
     "data": {
      "image/png": "[encoded data removed]",
      "text/plain": [
       "<Figure size 2000x1000 with 6 Axes>"
      ]
     },
     "metadata": {},
     "output_type": "display_data"
    }
   ],
   "source": [
    "X[varc].hist(figsize=(20,10))"
   ]
  },
  {
   "cell_type": "markdown",
   "id": "82cb94c4",
   "metadata": {},
   "source": [
    "### Valores Aussentes"
   ]
  },
  {
   "cell_type": "code",
   "execution_count": 174,
   "id": "9fdd6c43",
   "metadata": {},
   "outputs": [],
   "source": [
    "miss = 1 - X[varc].describe().T[['count']] / len(X)"
   ]
  },
  {
   "cell_type": "code",
   "execution_count": 175,
   "id": "8a6f0768",
   "metadata": {},
   "outputs": [
    {
     "data": {
      "text/html": [
       "<div>\n",
       "<style scoped>\n",
       "    .dataframe tbody tr th:only-of-type {\n",
       "        vertical-align: middle;\n",
       "    }\n",
       "\n",
       "    .dataframe tbody tr th {\n",
       "        vertical-align: top;\n",
       "    }\n",
       "\n",
       "    .dataframe thead th {\n",
       "        text-align: right;\n",
       "    }\n",
       "</style>\n",
       "<table border=\"1\" class=\"dataframe\">\n",
       "  <thead>\n",
       "    <tr style=\"text-align: right;\">\n",
       "      <th></th>\n",
       "      <th>count</th>\n",
       "    </tr>\n",
       "  </thead>\n",
       "  <tbody>\n",
       "    <tr>\n",
       "      <th>age</th>\n",
       "      <td>0.000000</td>\n",
       "    </tr>\n",
       "    <tr>\n",
       "      <th>avg_glucose_level</th>\n",
       "      <td>0.000000</td>\n",
       "    </tr>\n",
       "    <tr>\n",
       "      <th>bmi</th>\n",
       "      <td>3.933464</td>\n",
       "    </tr>\n",
       "    <tr>\n",
       "      <th>ratio_age_bmi</th>\n",
       "      <td>3.933464</td>\n",
       "    </tr>\n",
       "    <tr>\n",
       "      <th>ratio_age_glu</th>\n",
       "      <td>0.000000</td>\n",
       "    </tr>\n",
       "  </tbody>\n",
       "</table>\n",
       "</div>"
      ],
      "text/plain": [
       "                      count\n",
       "age                0.000000\n",
       "avg_glucose_level  0.000000\n",
       "bmi                3.933464\n",
       "ratio_age_bmi      3.933464\n",
       "ratio_age_glu      0.000000"
      ]
     },
     "execution_count": 175,
     "metadata": {},
     "output_type": "execute_result"
    }
   ],
   "source": [
    "miss*100"
   ]
  },
  {
   "cell_type": "code",
   "execution_count": 176,
   "id": "254b809a",
   "metadata": {},
   "outputs": [
    {
     "data": {
      "text/plain": [
       "((5110, 5), (4909, 5), 0.960665362035225)"
      ]
     },
     "execution_count": 176,
     "metadata": {},
     "output_type": "execute_result"
    }
   ],
   "source": [
    "X.shape , X.dropna().shape , X.dropna().shape[0] / X.shape[0]"
   ]
  },
  {
   "cell_type": "markdown",
   "id": "df661480",
   "metadata": {},
   "source": [
    "### Imputación "
   ]
  },
  {
   "cell_type": "code",
   "execution_count": 177,
   "id": "99813a79",
   "metadata": {},
   "outputs": [],
   "source": [
    "im = SimpleImputer(strategy='mean')"
   ]
  },
  {
   "cell_type": "code",
   "execution_count": 178,
   "id": "22944286",
   "metadata": {},
   "outputs": [
    {
     "data": {
      "text/plain": [
       "SimpleImputer()"
      ]
     },
     "execution_count": 178,
     "metadata": {},
     "output_type": "execute_result"
    }
   ],
   "source": [
    "im.fit(X)"
   ]
  },
  {
   "cell_type": "code",
   "execution_count": 179,
   "id": "f37912a6",
   "metadata": {},
   "outputs": [],
   "source": [
    "X[varc] = im.transform(X[varc])"
   ]
  },
  {
   "cell_type": "code",
   "execution_count": 180,
   "id": "3fbe2e9c",
   "metadata": {},
   "outputs": [
    {
     "data": {
      "text/plain": [
       "((5110, 5), (5110, 5), 1.0)"
      ]
     },
     "execution_count": 180,
     "metadata": {},
     "output_type": "execute_result"
    }
   ],
   "source": [
    "X.shape , X.dropna().shape , X.dropna().shape[0] / X.shape[0]"
   ]
  },
  {
   "cell_type": "markdown",
   "id": "ec3a666a",
   "metadata": {},
   "source": [
    "### Validación de distribución alterada"
   ]
  },
  {
   "cell_type": "code",
   "execution_count": 181,
   "id": "a4e5b30a",
   "metadata": {},
   "outputs": [
    {
     "data": {
      "text/html": [
       "<div>\n",
       "<style scoped>\n",
       "    .dataframe tbody tr th:only-of-type {\n",
       "        vertical-align: middle;\n",
       "    }\n",
       "\n",
       "    .dataframe tbody tr th {\n",
       "        vertical-align: top;\n",
       "    }\n",
       "\n",
       "    .dataframe thead th {\n",
       "        text-align: right;\n",
       "    }\n",
       "</style>\n",
       "<table border=\"1\" class=\"dataframe\">\n",
       "  <thead>\n",
       "    <tr style=\"text-align: right;\">\n",
       "      <th></th>\n",
       "      <th>var</th>\n",
       "      <th>ks</th>\n",
       "    </tr>\n",
       "  </thead>\n",
       "  <tbody>\n",
       "    <tr>\n",
       "      <th>0</th>\n",
       "      <td>age</td>\n",
       "      <td>0.000000</td>\n",
       "    </tr>\n",
       "    <tr>\n",
       "      <th>1</th>\n",
       "      <td>avg_glucose_level</td>\n",
       "      <td>0.000000</td>\n",
       "    </tr>\n",
       "    <tr>\n",
       "      <th>2</th>\n",
       "      <td>bmi</td>\n",
       "      <td>0.021610</td>\n",
       "    </tr>\n",
       "    <tr>\n",
       "      <th>3</th>\n",
       "      <td>ratio_age_bmi</td>\n",
       "      <td>0.020729</td>\n",
       "    </tr>\n",
       "    <tr>\n",
       "      <th>4</th>\n",
       "      <td>ratio_age_glu</td>\n",
       "      <td>0.000000</td>\n",
       "    </tr>\n",
       "  </tbody>\n",
       "</table>\n",
       "</div>"
      ],
      "text/plain": [
       "                 var        ks\n",
       "0                age  0.000000\n",
       "1  avg_glucose_level  0.000000\n",
       "2                bmi  0.021610\n",
       "3      ratio_age_bmi  0.020729\n",
       "4      ratio_age_glu  0.000000"
      ]
     },
     "execution_count": 181,
     "metadata": {},
     "output_type": "execute_result"
    }
   ],
   "source": [
    "pd.DataFrame( map( lambda v: (v , ks_2samp(df[v].dropna() , X[v] ).statistic ) , varc  ) , columns=['var','ks']  )"
   ]
  },
  {
   "cell_type": "code",
   "execution_count": 182,
   "id": "14b701da",
   "metadata": {},
   "outputs": [],
   "source": [
    "# Si el valor de KS > .1 se elimina la variable, es una variable ROTA! (Se alteró  la distribución_)"
   ]
  },
  {
   "cell_type": "markdown",
   "id": "dc976152",
   "metadata": {},
   "source": [
    "### Varianza"
   ]
  },
  {
   "cell_type": "code",
   "execution_count": 183,
   "id": "cd8e4b14",
   "metadata": {},
   "outputs": [],
   "source": [
    "vt = VarianceThreshold(threshold=1.0)"
   ]
  },
  {
   "cell_type": "code",
   "execution_count": 184,
   "id": "064c346f",
   "metadata": {},
   "outputs": [
    {
     "data": {
      "text/plain": [
       "VarianceThreshold(threshold=1.0)"
      ]
     },
     "execution_count": 184,
     "metadata": {},
     "output_type": "execute_result"
    }
   ],
   "source": [
    "vt.fit(X[varc])"
   ]
  },
  {
   "cell_type": "code",
   "execution_count": 185,
   "id": "daebe2f4",
   "metadata": {},
   "outputs": [],
   "source": [
    "sin_varianza = [v for v,u in zip( varc , vt.get_support() ) if not(u) ]"
   ]
  },
  {
   "cell_type": "code",
   "execution_count": 186,
   "id": "35735502",
   "metadata": {},
   "outputs": [
    {
     "data": {
      "text/plain": [
       "['ratio_age_bmi', 'ratio_age_glu']"
      ]
     },
     "execution_count": 186,
     "metadata": {},
     "output_type": "execute_result"
    }
   ],
   "source": [
    "sin_varianza"
   ]
  },
  {
   "cell_type": "code",
   "execution_count": 187,
   "id": "bb35529b",
   "metadata": {
    "scrolled": true
   },
   "outputs": [
    {
     "data": {
      "text/plain": [
       "array([[<AxesSubplot:title={'center':'ratio_age_bmi'}>,\n",
       "        <AxesSubplot:title={'center':'ratio_age_glu'}>]], dtype=object)"
      ]
     },
     "execution_count": 187,
     "metadata": {},
     "output_type": "execute_result"
    },
    {
     "data": {
      "image/png": "[encoded data removed]",
      "text/plain": [
       "<Figure size 640x480 with 2 Axes>"
      ]
     },
     "metadata": {},
     "output_type": "display_data"
    }
   ],
   "source": [
    "X[sin_varianza].hist()"
   ]
  },
  {
   "cell_type": "code",
   "execution_count": 188,
   "id": "d6fd9359",
   "metadata": {},
   "outputs": [],
   "source": [
    "X.drop( sin_varianza , axis=1 , inplace=True)"
   ]
  },
  {
   "cell_type": "code",
   "execution_count": 189,
   "id": "b6c4a905",
   "metadata": {},
   "outputs": [],
   "source": [
    "varc = [v for v in varc if v not in sin_varianza]"
   ]
  },
  {
   "cell_type": "code",
   "execution_count": 190,
   "id": "1be470d8",
   "metadata": {},
   "outputs": [
    {
     "data": {
      "text/plain": [
       "(3, ['age', 'avg_glucose_level', 'bmi'])"
      ]
     },
     "execution_count": 190,
     "metadata": {},
     "output_type": "execute_result"
    }
   ],
   "source": [
    "len(varc), varc"
   ]
  },
  {
   "cell_type": "markdown",
   "id": "288609ef",
   "metadata": {},
   "source": [
    "### Valores Extremos"
   ]
  },
  {
   "cell_type": "code",
   "execution_count": 191,
   "id": "02b89005",
   "metadata": {},
   "outputs": [],
   "source": [
    "ext = X[varc].describe( percentiles=[.01,.99] ).T[['1%','99%']].reset_index()\n",
    "\n",
    "for v, li, ls in ext.values:\n",
    "    X[f'ol_{v}'] = (( X[v] < li ) | ( X[v] > ls )).astype(int)\n",
    "    \n",
    "X['ext'] = X.filter(like='ol_').max(axis=1)\n",
    "\n",
    "X.drop(X.filter(like='ol_').columns, axis=1, inplace=True)"
   ]
  },
  {
   "cell_type": "code",
   "execution_count": 192,
   "id": "79fd0f6c",
   "metadata": {},
   "outputs": [
    {
     "data": {
      "text/plain": [
       "0    95.18591\n",
       "1     4.81409\n",
       "Name: ext, dtype: float64"
      ]
     },
     "execution_count": 192,
     "metadata": {},
     "output_type": "execute_result"
    }
   ],
   "source": [
    "X['ext'].value_counts(True)*100"
   ]
  },
  {
   "cell_type": "code",
   "execution_count": 193,
   "id": "1560710d",
   "metadata": {},
   "outputs": [],
   "source": [
    "X[um] = df[um]"
   ]
  },
  {
   "cell_type": "code",
   "execution_count": 194,
   "id": "45f90ca0",
   "metadata": {},
   "outputs": [],
   "source": [
    "X = X.loc[X['ext'] == 0].reset_index(drop=True).drop(['ext'],axis=1)"
   ]
  },
  {
   "cell_type": "code",
   "execution_count": 195,
   "id": "633dc1bd",
   "metadata": {},
   "outputs": [
    {
     "name": "stdout",
     "output_type": "stream",
     "text": [
      "(4864, 4)\n"
     ]
    },
    {
     "data": {
      "text/html": [
       "<div>\n",
       "<style scoped>\n",
       "    .dataframe tbody tr th:only-of-type {\n",
       "        vertical-align: middle;\n",
       "    }\n",
       "\n",
       "    .dataframe tbody tr th {\n",
       "        vertical-align: top;\n",
       "    }\n",
       "\n",
       "    .dataframe thead th {\n",
       "        text-align: right;\n",
       "    }\n",
       "</style>\n",
       "<table border=\"1\" class=\"dataframe\">\n",
       "  <thead>\n",
       "    <tr style=\"text-align: right;\">\n",
       "      <th></th>\n",
       "      <th>age</th>\n",
       "      <th>avg_glucose_level</th>\n",
       "      <th>bmi</th>\n",
       "      <th>id</th>\n",
       "    </tr>\n",
       "  </thead>\n",
       "  <tbody>\n",
       "    <tr>\n",
       "      <th>0</th>\n",
       "      <td>67.0</td>\n",
       "      <td>228.69</td>\n",
       "      <td>36.600000</td>\n",
       "      <td>9046</td>\n",
       "    </tr>\n",
       "    <tr>\n",
       "      <th>1</th>\n",
       "      <td>61.0</td>\n",
       "      <td>202.21</td>\n",
       "      <td>28.893237</td>\n",
       "      <td>51676</td>\n",
       "    </tr>\n",
       "    <tr>\n",
       "      <th>2</th>\n",
       "      <td>80.0</td>\n",
       "      <td>105.92</td>\n",
       "      <td>32.500000</td>\n",
       "      <td>31112</td>\n",
       "    </tr>\n",
       "    <tr>\n",
       "      <th>3</th>\n",
       "      <td>49.0</td>\n",
       "      <td>171.23</td>\n",
       "      <td>34.400000</td>\n",
       "      <td>60182</td>\n",
       "    </tr>\n",
       "    <tr>\n",
       "      <th>4</th>\n",
       "      <td>79.0</td>\n",
       "      <td>174.12</td>\n",
       "      <td>24.000000</td>\n",
       "      <td>1665</td>\n",
       "    </tr>\n",
       "  </tbody>\n",
       "</table>\n",
       "</div>"
      ],
      "text/plain": [
       "    age  avg_glucose_level        bmi     id\n",
       "0  67.0             228.69  36.600000   9046\n",
       "1  61.0             202.21  28.893237  51676\n",
       "2  80.0             105.92  32.500000  31112\n",
       "3  49.0             171.23  34.400000  60182\n",
       "4  79.0             174.12  24.000000   1665"
      ]
     },
     "execution_count": 195,
     "metadata": {},
     "output_type": "execute_result"
    }
   ],
   "source": [
    "print(X.shape)\n",
    "X.head()"
   ]
  },
  {
   "cell_type": "markdown",
   "id": "a55857c7",
   "metadata": {},
   "source": [
    "### Análisis Bivariado"
   ]
  },
  {
   "cell_type": "code",
   "execution_count": 196,
   "id": "440d770c",
   "metadata": {},
   "outputs": [
    {
     "data": {
      "text/html": [
       "<div>\n",
       "<style scoped>\n",
       "    .dataframe tbody tr th:only-of-type {\n",
       "        vertical-align: middle;\n",
       "    }\n",
       "\n",
       "    .dataframe tbody tr th {\n",
       "        vertical-align: top;\n",
       "    }\n",
       "\n",
       "    .dataframe thead th {\n",
       "        text-align: right;\n",
       "    }\n",
       "</style>\n",
       "<table border=\"1\" class=\"dataframe\">\n",
       "  <thead>\n",
       "    <tr style=\"text-align: right;\">\n",
       "      <th></th>\n",
       "      <th>age</th>\n",
       "      <th>avg_glucose_level</th>\n",
       "      <th>bmi</th>\n",
       "    </tr>\n",
       "  </thead>\n",
       "  <tbody>\n",
       "    <tr>\n",
       "      <th>age</th>\n",
       "      <td>1.000000</td>\n",
       "      <td>0.218482</td>\n",
       "      <td>0.324577</td>\n",
       "    </tr>\n",
       "    <tr>\n",
       "      <th>avg_glucose_level</th>\n",
       "      <td>0.218482</td>\n",
       "      <td>1.000000</td>\n",
       "      <td>0.169822</td>\n",
       "    </tr>\n",
       "    <tr>\n",
       "      <th>bmi</th>\n",
       "      <td>0.324577</td>\n",
       "      <td>0.169822</td>\n",
       "      <td>1.000000</td>\n",
       "    </tr>\n",
       "  </tbody>\n",
       "</table>\n",
       "</div>"
      ],
      "text/plain": [
       "                        age  avg_glucose_level       bmi\n",
       "age                1.000000           0.218482  0.324577\n",
       "avg_glucose_level  0.218482           1.000000  0.169822\n",
       "bmi                0.324577           0.169822  1.000000"
      ]
     },
     "execution_count": 196,
     "metadata": {},
     "output_type": "execute_result"
    }
   ],
   "source": [
    "X[varc].corr()"
   ]
  },
  {
   "cell_type": "code",
   "execution_count": 197,
   "id": "3cd2261d",
   "metadata": {
    "scrolled": true
   },
   "outputs": [
    {
     "data": {
      "text/plain": [
       "<seaborn.axisgrid.PairGrid at 0x7fc58ad861d0>"
      ]
     },
     "execution_count": 197,
     "metadata": {},
     "output_type": "execute_result"
    },
    {
     "data": {
      "image/png": "[encoded data removed]",
      "text/plain": [
       "<Figure size 750x750 with 12 Axes>"
      ]
     },
     "metadata": {},
     "output_type": "display_data"
    }
   ],
   "source": [
    "sns.pairplot(X[varc].sample(500))"
   ]
  },
  {
   "cell_type": "markdown",
   "id": "bdc9377b",
   "metadata": {},
   "source": [
    "### Multicolinealidad"
   ]
  },
  {
   "cell_type": "code",
   "execution_count": 198,
   "id": "b2b0fd18",
   "metadata": {},
   "outputs": [],
   "source": [
    "vc = VarClusHi( df=X[varc] , feat_list=varc )"
   ]
  },
  {
   "cell_type": "code",
   "execution_count": 199,
   "id": "0e11d541",
   "metadata": {},
   "outputs": [
    {
     "data": {
      "text/plain": [
       "<varclushi.varclushi.VarClusHi at 0x7fc58aa3bc50>"
      ]
     },
     "execution_count": 199,
     "metadata": {},
     "output_type": "execute_result"
    }
   ],
   "source": [
    "vc.varclus()"
   ]
  },
  {
   "cell_type": "code",
   "execution_count": 200,
   "id": "6c4c3a75",
   "metadata": {},
   "outputs": [],
   "source": [
    "rs = vc.rsquare\n",
    "rs = rs.sort_values(by=['Cluster','RS_Ratio'] , ascending=[1,1]).reset_index(drop=True)"
   ]
  },
  {
   "cell_type": "code",
   "execution_count": 201,
   "id": "9f677c42",
   "metadata": {},
   "outputs": [],
   "source": [
    "rs['id'] = rs.groupby('Cluster').cumcount() + 1"
   ]
  },
  {
   "cell_type": "code",
   "execution_count": 202,
   "id": "de28c3db",
   "metadata": {},
   "outputs": [
    {
     "data": {
      "text/html": [
       "<div>\n",
       "<style scoped>\n",
       "    .dataframe tbody tr th:only-of-type {\n",
       "        vertical-align: middle;\n",
       "    }\n",
       "\n",
       "    .dataframe tbody tr th {\n",
       "        vertical-align: top;\n",
       "    }\n",
       "\n",
       "    .dataframe thead th {\n",
       "        text-align: right;\n",
       "    }\n",
       "</style>\n",
       "<table border=\"1\" class=\"dataframe\">\n",
       "  <thead>\n",
       "    <tr style=\"text-align: right;\">\n",
       "      <th></th>\n",
       "      <th>Cluster</th>\n",
       "      <th>Variable</th>\n",
       "      <th>RS_Own</th>\n",
       "      <th>RS_NC</th>\n",
       "      <th>RS_Ratio</th>\n",
       "      <th>id</th>\n",
       "    </tr>\n",
       "  </thead>\n",
       "  <tbody>\n",
       "    <tr>\n",
       "      <th>0</th>\n",
       "      <td>0</td>\n",
       "      <td>age</td>\n",
       "      <td>0.585555</td>\n",
       "      <td>0</td>\n",
       "      <td>0.414445</td>\n",
       "      <td>1</td>\n",
       "    </tr>\n",
       "    <tr>\n",
       "      <th>1</th>\n",
       "      <td>0</td>\n",
       "      <td>bmi</td>\n",
       "      <td>0.531078</td>\n",
       "      <td>0</td>\n",
       "      <td>0.468922</td>\n",
       "      <td>2</td>\n",
       "    </tr>\n",
       "    <tr>\n",
       "      <th>2</th>\n",
       "      <td>0</td>\n",
       "      <td>avg_glucose_level</td>\n",
       "      <td>0.364964</td>\n",
       "      <td>0</td>\n",
       "      <td>0.635036</td>\n",
       "      <td>3</td>\n",
       "    </tr>\n",
       "  </tbody>\n",
       "</table>\n",
       "</div>"
      ],
      "text/plain": [
       "  Cluster           Variable    RS_Own RS_NC  RS_Ratio  id\n",
       "0       0                age  0.585555     0  0.414445   1\n",
       "1       0                bmi  0.531078     0  0.468922   2\n",
       "2       0  avg_glucose_level  0.364964     0  0.635036   3"
      ]
     },
     "execution_count": 202,
     "metadata": {},
     "output_type": "execute_result"
    }
   ],
   "source": [
    "rs"
   ]
  },
  {
   "cell_type": "code",
   "execution_count": 203,
   "id": "6b97e198",
   "metadata": {},
   "outputs": [],
   "source": [
    "varc = rs.loc[ rs['id'] == 1 ]['Variable'].tolist()"
   ]
  },
  {
   "cell_type": "code",
   "execution_count": 204,
   "id": "e47b0ae6",
   "metadata": {
    "scrolled": true
   },
   "outputs": [
    {
     "data": {
      "text/plain": [
       "array([[<AxesSubplot:title={'center':'age'}>]], dtype=object)"
      ]
     },
     "execution_count": 204,
     "metadata": {},
     "output_type": "execute_result"
    },
    {
     "data": {
      "image/png": "[encoded data removed]",
      "text/plain": [
       "<Figure size 640x480 with 1 Axes>"
      ]
     },
     "metadata": {},
     "output_type": "display_data"
    }
   ],
   "source": [
    "X[varc].hist()"
   ]
  },
  {
   "cell_type": "markdown",
   "id": "b7797d5c",
   "metadata": {},
   "source": [
    "### Discretizar"
   ]
  },
  {
   "cell_type": "code",
   "execution_count": 205,
   "id": "130f9b38",
   "metadata": {},
   "outputs": [],
   "source": [
    "for v in varc:\n",
    "    for k in range(2,7):\n",
    "        X = discretizar(X, v, k)"
   ]
  },
  {
   "cell_type": "code",
   "execution_count": 206,
   "id": "6859bdf4",
   "metadata": {},
   "outputs": [
    {
     "data": {
      "text/plain": [
       "(4864, 9)"
      ]
     },
     "execution_count": 206,
     "metadata": {},
     "output_type": "execute_result"
    }
   ],
   "source": [
    "X.shape"
   ]
  },
  {
   "cell_type": "code",
   "execution_count": 207,
   "id": "cfa2f52f",
   "metadata": {},
   "outputs": [
    {
     "data": {
      "text/html": [
       "<div>\n",
       "<style scoped>\n",
       "    .dataframe tbody tr th:only-of-type {\n",
       "        vertical-align: middle;\n",
       "    }\n",
       "\n",
       "    .dataframe tbody tr th {\n",
       "        vertical-align: top;\n",
       "    }\n",
       "\n",
       "    .dataframe thead th {\n",
       "        text-align: right;\n",
       "    }\n",
       "</style>\n",
       "<table border=\"1\" class=\"dataframe\">\n",
       "  <thead>\n",
       "    <tr style=\"text-align: right;\">\n",
       "      <th></th>\n",
       "      <th>age</th>\n",
       "      <th>avg_glucose_level</th>\n",
       "      <th>bmi</th>\n",
       "      <th>id</th>\n",
       "      <th>d_age_2</th>\n",
       "      <th>d_age_3</th>\n",
       "      <th>d_age_4</th>\n",
       "      <th>d_age_5</th>\n",
       "      <th>d_age_6</th>\n",
       "    </tr>\n",
       "  </thead>\n",
       "  <tbody>\n",
       "    <tr>\n",
       "      <th>0</th>\n",
       "      <td>67.0</td>\n",
       "      <td>228.69</td>\n",
       "      <td>36.600000</td>\n",
       "      <td>9046</td>\n",
       "      <td>(45.0, 82.0]</td>\n",
       "      <td>(56.0, 82.0]</td>\n",
       "      <td>(61.0, 82.0]</td>\n",
       "      <td>(65.0, 82.0]</td>\n",
       "      <td>(56.0, 68.0]</td>\n",
       "    </tr>\n",
       "    <tr>\n",
       "      <th>1</th>\n",
       "      <td>61.0</td>\n",
       "      <td>202.21</td>\n",
       "      <td>28.893237</td>\n",
       "      <td>51676</td>\n",
       "      <td>(45.0, 82.0]</td>\n",
       "      <td>(56.0, 82.0]</td>\n",
       "      <td>(45.0, 61.0]</td>\n",
       "      <td>(52.0, 65.0]</td>\n",
       "      <td>(56.0, 68.0]</td>\n",
       "    </tr>\n",
       "    <tr>\n",
       "      <th>2</th>\n",
       "      <td>80.0</td>\n",
       "      <td>105.92</td>\n",
       "      <td>32.500000</td>\n",
       "      <td>31112</td>\n",
       "      <td>(45.0, 82.0]</td>\n",
       "      <td>(56.0, 82.0]</td>\n",
       "      <td>(61.0, 82.0]</td>\n",
       "      <td>(65.0, 82.0]</td>\n",
       "      <td>(68.0, 82.0]</td>\n",
       "    </tr>\n",
       "    <tr>\n",
       "      <th>3</th>\n",
       "      <td>49.0</td>\n",
       "      <td>171.23</td>\n",
       "      <td>34.400000</td>\n",
       "      <td>60182</td>\n",
       "      <td>(45.0, 82.0]</td>\n",
       "      <td>(33.0, 56.0]</td>\n",
       "      <td>(45.0, 61.0]</td>\n",
       "      <td>(38.0, 52.0]</td>\n",
       "      <td>(45.0, 56.0]</td>\n",
       "    </tr>\n",
       "    <tr>\n",
       "      <th>4</th>\n",
       "      <td>79.0</td>\n",
       "      <td>174.12</td>\n",
       "      <td>24.000000</td>\n",
       "      <td>1665</td>\n",
       "      <td>(45.0, 82.0]</td>\n",
       "      <td>(56.0, 82.0]</td>\n",
       "      <td>(61.0, 82.0]</td>\n",
       "      <td>(65.0, 82.0]</td>\n",
       "      <td>(68.0, 82.0]</td>\n",
       "    </tr>\n",
       "    <tr>\n",
       "      <th>...</th>\n",
       "      <td>...</td>\n",
       "      <td>...</td>\n",
       "      <td>...</td>\n",
       "      <td>...</td>\n",
       "      <td>...</td>\n",
       "      <td>...</td>\n",
       "      <td>...</td>\n",
       "      <td>...</td>\n",
       "      <td>...</td>\n",
       "    </tr>\n",
       "    <tr>\n",
       "      <th>4859</th>\n",
       "      <td>80.0</td>\n",
       "      <td>83.75</td>\n",
       "      <td>28.893237</td>\n",
       "      <td>18234</td>\n",
       "      <td>(45.0, 82.0]</td>\n",
       "      <td>(56.0, 82.0]</td>\n",
       "      <td>(61.0, 82.0]</td>\n",
       "      <td>(65.0, 82.0]</td>\n",
       "      <td>(68.0, 82.0]</td>\n",
       "    </tr>\n",
       "    <tr>\n",
       "      <th>4860</th>\n",
       "      <td>81.0</td>\n",
       "      <td>125.20</td>\n",
       "      <td>40.000000</td>\n",
       "      <td>44873</td>\n",
       "      <td>(45.0, 82.0]</td>\n",
       "      <td>(56.0, 82.0]</td>\n",
       "      <td>(61.0, 82.0]</td>\n",
       "      <td>(65.0, 82.0]</td>\n",
       "      <td>(68.0, 82.0]</td>\n",
       "    </tr>\n",
       "    <tr>\n",
       "      <th>4861</th>\n",
       "      <td>35.0</td>\n",
       "      <td>82.99</td>\n",
       "      <td>30.600000</td>\n",
       "      <td>19723</td>\n",
       "      <td>(1.0790000000000002, 45.0]</td>\n",
       "      <td>(33.0, 56.0]</td>\n",
       "      <td>(26.0, 45.0]</td>\n",
       "      <td>(22.0, 38.0]</td>\n",
       "      <td>(33.0, 45.0]</td>\n",
       "    </tr>\n",
       "    <tr>\n",
       "      <th>4862</th>\n",
       "      <td>51.0</td>\n",
       "      <td>166.29</td>\n",
       "      <td>25.600000</td>\n",
       "      <td>37544</td>\n",
       "      <td>(45.0, 82.0]</td>\n",
       "      <td>(33.0, 56.0]</td>\n",
       "      <td>(45.0, 61.0]</td>\n",
       "      <td>(38.0, 52.0]</td>\n",
       "      <td>(45.0, 56.0]</td>\n",
       "    </tr>\n",
       "    <tr>\n",
       "      <th>4863</th>\n",
       "      <td>44.0</td>\n",
       "      <td>85.28</td>\n",
       "      <td>26.200000</td>\n",
       "      <td>44679</td>\n",
       "      <td>(1.0790000000000002, 45.0]</td>\n",
       "      <td>(33.0, 56.0]</td>\n",
       "      <td>(26.0, 45.0]</td>\n",
       "      <td>(38.0, 52.0]</td>\n",
       "      <td>(33.0, 45.0]</td>\n",
       "    </tr>\n",
       "  </tbody>\n",
       "</table>\n",
       "<p>4864 rows × 9 columns</p>\n",
       "</div>"
      ],
      "text/plain": [
       "       age  avg_glucose_level        bmi     id                     d_age_2  \\\n",
       "0     67.0             228.69  36.600000   9046                (45.0, 82.0]   \n",
       "1     61.0             202.21  28.893237  51676                (45.0, 82.0]   \n",
       "2     80.0             105.92  32.500000  31112                (45.0, 82.0]   \n",
       "3     49.0             171.23  34.400000  60182                (45.0, 82.0]   \n",
       "4     79.0             174.12  24.000000   1665                (45.0, 82.0]   \n",
       "...    ...                ...        ...    ...                         ...   \n",
       "4859  80.0              83.75  28.893237  18234                (45.0, 82.0]   \n",
       "4860  81.0             125.20  40.000000  44873                (45.0, 82.0]   \n",
       "4861  35.0              82.99  30.600000  19723  (1.0790000000000002, 45.0]   \n",
       "4862  51.0             166.29  25.600000  37544                (45.0, 82.0]   \n",
       "4863  44.0              85.28  26.200000  44679  (1.0790000000000002, 45.0]   \n",
       "\n",
       "           d_age_3       d_age_4       d_age_5       d_age_6  \n",
       "0     (56.0, 82.0]  (61.0, 82.0]  (65.0, 82.0]  (56.0, 68.0]  \n",
       "1     (56.0, 82.0]  (45.0, 61.0]  (52.0, 65.0]  (56.0, 68.0]  \n",
       "2     (56.0, 82.0]  (61.0, 82.0]  (65.0, 82.0]  (68.0, 82.0]  \n",
       "3     (33.0, 56.0]  (45.0, 61.0]  (38.0, 52.0]  (45.0, 56.0]  \n",
       "4     (56.0, 82.0]  (61.0, 82.0]  (65.0, 82.0]  (68.0, 82.0]  \n",
       "...            ...           ...           ...           ...  \n",
       "4859  (56.0, 82.0]  (61.0, 82.0]  (65.0, 82.0]  (68.0, 82.0]  \n",
       "4860  (56.0, 82.0]  (61.0, 82.0]  (65.0, 82.0]  (68.0, 82.0]  \n",
       "4861  (33.0, 56.0]  (26.0, 45.0]  (22.0, 38.0]  (33.0, 45.0]  \n",
       "4862  (33.0, 56.0]  (45.0, 61.0]  (38.0, 52.0]  (45.0, 56.0]  \n",
       "4863  (33.0, 56.0]  (26.0, 45.0]  (38.0, 52.0]  (33.0, 45.0]  \n",
       "\n",
       "[4864 rows x 9 columns]"
      ]
     },
     "execution_count": 207,
     "metadata": {},
     "output_type": "execute_result"
    }
   ],
   "source": [
    "X"
   ]
  },
  {
   "cell_type": "code",
   "execution_count": 208,
   "id": "8247b4b2",
   "metadata": {},
   "outputs": [],
   "source": [
    "vari = X.filter(like='d_').columns.tolist()"
   ]
  },
  {
   "cell_type": "code",
   "execution_count": 209,
   "id": "35a3cb73",
   "metadata": {},
   "outputs": [
    {
     "data": {
      "text/plain": [
       "(5, ['d_age_2', 'd_age_3', 'd_age_4', 'd_age_5', 'd_age_6'])"
      ]
     },
     "execution_count": 209,
     "metadata": {},
     "output_type": "execute_result"
    }
   ],
   "source": [
    "len(vari), vari"
   ]
  },
  {
   "cell_type": "markdown",
   "id": "38bfb097",
   "metadata": {},
   "source": [
    "## Poder predictivo"
   ]
  },
  {
   "cell_type": "code",
   "execution_count": 210,
   "id": "e53e9b44",
   "metadata": {},
   "outputs": [],
   "source": [
    "X = X[um+vari].merge( df[um+varn] , on = um , how='left' ).reset_index(drop=True)\n",
    "y = X[um].merge(df[um+tgt], on = um, how='left').reset_index(drop=True)"
   ]
  },
  {
   "cell_type": "code",
   "execution_count": 211,
   "id": "660ebf2c",
   "metadata": {
    "cell_style": "split"
   },
   "outputs": [
    {
     "name": "stdout",
     "output_type": "stream",
     "text": [
      "(4864, 13)\n"
     ]
    },
    {
     "data": {
      "text/html": [
       "<div>\n",
       "<style scoped>\n",
       "    .dataframe tbody tr th:only-of-type {\n",
       "        vertical-align: middle;\n",
       "    }\n",
       "\n",
       "    .dataframe tbody tr th {\n",
       "        vertical-align: top;\n",
       "    }\n",
       "\n",
       "    .dataframe thead th {\n",
       "        text-align: right;\n",
       "    }\n",
       "</style>\n",
       "<table border=\"1\" class=\"dataframe\">\n",
       "  <thead>\n",
       "    <tr style=\"text-align: right;\">\n",
       "      <th></th>\n",
       "      <th>id</th>\n",
       "      <th>d_age_2</th>\n",
       "      <th>d_age_3</th>\n",
       "      <th>d_age_4</th>\n",
       "      <th>d_age_5</th>\n",
       "      <th>d_age_6</th>\n",
       "      <th>n_gender</th>\n",
       "      <th>n_hypertension</th>\n",
       "      <th>n_heart_disease</th>\n",
       "      <th>n_ever_married</th>\n",
       "      <th>n_work_type</th>\n",
       "      <th>n_Residence_type</th>\n",
       "      <th>n_smoking_status</th>\n",
       "    </tr>\n",
       "  </thead>\n",
       "  <tbody>\n",
       "    <tr>\n",
       "      <th>0</th>\n",
       "      <td>9046</td>\n",
       "      <td>(45.0, 82.0]</td>\n",
       "      <td>(56.0, 82.0]</td>\n",
       "      <td>(61.0, 82.0]</td>\n",
       "      <td>(65.0, 82.0]</td>\n",
       "      <td>(56.0, 68.0]</td>\n",
       "      <td>Male</td>\n",
       "      <td>0</td>\n",
       "      <td>1</td>\n",
       "      <td>Yes</td>\n",
       "      <td>Private</td>\n",
       "      <td>Urban</td>\n",
       "      <td>formerly smoked</td>\n",
       "    </tr>\n",
       "    <tr>\n",
       "      <th>1</th>\n",
       "      <td>51676</td>\n",
       "      <td>(45.0, 82.0]</td>\n",
       "      <td>(56.0, 82.0]</td>\n",
       "      <td>(45.0, 61.0]</td>\n",
       "      <td>(52.0, 65.0]</td>\n",
       "      <td>(56.0, 68.0]</td>\n",
       "      <td>Female</td>\n",
       "      <td>0</td>\n",
       "      <td>0</td>\n",
       "      <td>Yes</td>\n",
       "      <td>Self-employed</td>\n",
       "      <td>Rural</td>\n",
       "      <td>never smoked</td>\n",
       "    </tr>\n",
       "    <tr>\n",
       "      <th>2</th>\n",
       "      <td>31112</td>\n",
       "      <td>(45.0, 82.0]</td>\n",
       "      <td>(56.0, 82.0]</td>\n",
       "      <td>(61.0, 82.0]</td>\n",
       "      <td>(65.0, 82.0]</td>\n",
       "      <td>(68.0, 82.0]</td>\n",
       "      <td>Male</td>\n",
       "      <td>0</td>\n",
       "      <td>1</td>\n",
       "      <td>Yes</td>\n",
       "      <td>Private</td>\n",
       "      <td>Rural</td>\n",
       "      <td>never smoked</td>\n",
       "    </tr>\n",
       "    <tr>\n",
       "      <th>3</th>\n",
       "      <td>60182</td>\n",
       "      <td>(45.0, 82.0]</td>\n",
       "      <td>(33.0, 56.0]</td>\n",
       "      <td>(45.0, 61.0]</td>\n",
       "      <td>(38.0, 52.0]</td>\n",
       "      <td>(45.0, 56.0]</td>\n",
       "      <td>Female</td>\n",
       "      <td>0</td>\n",
       "      <td>0</td>\n",
       "      <td>Yes</td>\n",
       "      <td>Private</td>\n",
       "      <td>Urban</td>\n",
       "      <td>smokes</td>\n",
       "    </tr>\n",
       "    <tr>\n",
       "      <th>4</th>\n",
       "      <td>1665</td>\n",
       "      <td>(45.0, 82.0]</td>\n",
       "      <td>(56.0, 82.0]</td>\n",
       "      <td>(61.0, 82.0]</td>\n",
       "      <td>(65.0, 82.0]</td>\n",
       "      <td>(68.0, 82.0]</td>\n",
       "      <td>Female</td>\n",
       "      <td>1</td>\n",
       "      <td>0</td>\n",
       "      <td>Yes</td>\n",
       "      <td>Self-employed</td>\n",
       "      <td>Rural</td>\n",
       "      <td>never smoked</td>\n",
       "    </tr>\n",
       "  </tbody>\n",
       "</table>\n",
       "</div>"
      ],
      "text/plain": [
       "      id       d_age_2       d_age_3       d_age_4       d_age_5  \\\n",
       "0   9046  (45.0, 82.0]  (56.0, 82.0]  (61.0, 82.0]  (65.0, 82.0]   \n",
       "1  51676  (45.0, 82.0]  (56.0, 82.0]  (45.0, 61.0]  (52.0, 65.0]   \n",
       "2  31112  (45.0, 82.0]  (56.0, 82.0]  (61.0, 82.0]  (65.0, 82.0]   \n",
       "3  60182  (45.0, 82.0]  (33.0, 56.0]  (45.0, 61.0]  (38.0, 52.0]   \n",
       "4   1665  (45.0, 82.0]  (56.0, 82.0]  (61.0, 82.0]  (65.0, 82.0]   \n",
       "\n",
       "        d_age_6 n_gender n_hypertension n_heart_disease n_ever_married  \\\n",
       "0  (56.0, 68.0]     Male              0               1            Yes   \n",
       "1  (56.0, 68.0]   Female              0               0            Yes   \n",
       "2  (68.0, 82.0]     Male              0               1            Yes   \n",
       "3  (45.0, 56.0]   Female              0               0            Yes   \n",
       "4  (68.0, 82.0]   Female              1               0            Yes   \n",
       "\n",
       "     n_work_type n_Residence_type n_smoking_status  \n",
       "0        Private            Urban  formerly smoked  \n",
       "1  Self-employed            Rural     never smoked  \n",
       "2        Private            Rural     never smoked  \n",
       "3        Private            Urban           smokes  \n",
       "4  Self-employed            Rural     never smoked  "
      ]
     },
     "execution_count": 211,
     "metadata": {},
     "output_type": "execute_result"
    }
   ],
   "source": [
    "print(X.shape)\n",
    "X.head()"
   ]
  },
  {
   "cell_type": "code",
   "execution_count": 212,
   "id": "5156579f",
   "metadata": {
    "cell_style": "split"
   },
   "outputs": [
    {
     "name": "stdout",
     "output_type": "stream",
     "text": [
      "(4864, 2)\n"
     ]
    },
    {
     "data": {
      "text/html": [
       "<div>\n",
       "<style scoped>\n",
       "    .dataframe tbody tr th:only-of-type {\n",
       "        vertical-align: middle;\n",
       "    }\n",
       "\n",
       "    .dataframe tbody tr th {\n",
       "        vertical-align: top;\n",
       "    }\n",
       "\n",
       "    .dataframe thead th {\n",
       "        text-align: right;\n",
       "    }\n",
       "</style>\n",
       "<table border=\"1\" class=\"dataframe\">\n",
       "  <thead>\n",
       "    <tr style=\"text-align: right;\">\n",
       "      <th></th>\n",
       "      <th>id</th>\n",
       "      <th>stroke</th>\n",
       "    </tr>\n",
       "  </thead>\n",
       "  <tbody>\n",
       "    <tr>\n",
       "      <th>0</th>\n",
       "      <td>9046</td>\n",
       "      <td>1</td>\n",
       "    </tr>\n",
       "    <tr>\n",
       "      <th>1</th>\n",
       "      <td>51676</td>\n",
       "      <td>1</td>\n",
       "    </tr>\n",
       "    <tr>\n",
       "      <th>2</th>\n",
       "      <td>31112</td>\n",
       "      <td>1</td>\n",
       "    </tr>\n",
       "    <tr>\n",
       "      <th>3</th>\n",
       "      <td>60182</td>\n",
       "      <td>1</td>\n",
       "    </tr>\n",
       "    <tr>\n",
       "      <th>4</th>\n",
       "      <td>1665</td>\n",
       "      <td>1</td>\n",
       "    </tr>\n",
       "  </tbody>\n",
       "</table>\n",
       "</div>"
      ],
      "text/plain": [
       "      id  stroke\n",
       "0   9046       1\n",
       "1  51676       1\n",
       "2  31112       1\n",
       "3  60182       1\n",
       "4   1665       1"
      ]
     },
     "execution_count": 212,
     "metadata": {},
     "output_type": "execute_result"
    }
   ],
   "source": [
    "print(y.shape)\n",
    "y.head()"
   ]
  },
  {
   "cell_type": "markdown",
   "id": "66add3dd",
   "metadata": {},
   "source": [
    "### Separar Datos"
   ]
  },
  {
   "cell_type": "code",
   "execution_count": 213,
   "id": "84206ab7",
   "metadata": {},
   "outputs": [],
   "source": [
    "Xt, Xv, yt, yv = train_test_split( X, y, train_size = 0.7 )"
   ]
  },
  {
   "cell_type": "code",
   "execution_count": 214,
   "id": "f3d32306",
   "metadata": {},
   "outputs": [
    {
     "data": {
      "text/plain": [
       "((3404, 13), (1460, 13), (3404, 2), (1460, 2))"
      ]
     },
     "execution_count": 214,
     "metadata": {},
     "output_type": "execute_result"
    }
   ],
   "source": [
    "Xt.shape, Xv.shape, yt.shape, yv.shape"
   ]
  },
  {
   "cell_type": "code",
   "execution_count": 215,
   "id": "2490c470",
   "metadata": {},
   "outputs": [],
   "source": [
    "Xt = Xt.merge( yt , on = um , how='inner' ).reset_index(drop=True)"
   ]
  },
  {
   "cell_type": "markdown",
   "id": "8341d707",
   "metadata": {},
   "source": [
    "## Mejores variables - Discretizadas"
   ]
  },
  {
   "cell_type": "code",
   "execution_count": 216,
   "id": "a14ac00d",
   "metadata": {},
   "outputs": [],
   "source": [
    "iv = pd.DataFrame(map( lambda v: calculo_iv( Xt, v , tgt , um[0] ) , vari  ) , columns=['variable','iv'])"
   ]
  },
  {
   "cell_type": "code",
   "execution_count": 217,
   "id": "e8445df9",
   "metadata": {},
   "outputs": [],
   "source": [
    "iv['raiz'] = iv['variable'].map( lambda x: '_'.join(x.split('_')[1:-1]  ) )"
   ]
  },
  {
   "cell_type": "code",
   "execution_count": 218,
   "id": "e5c5afb4",
   "metadata": {},
   "outputs": [],
   "source": [
    "iv = iv.sort_values(by=['raiz','iv'],ascending=[1,0]).reset_index(drop=True)"
   ]
  },
  {
   "cell_type": "code",
   "execution_count": 219,
   "id": "31848c88",
   "metadata": {},
   "outputs": [],
   "source": [
    "iv['id'] = iv.groupby('raiz').cumcount()+1"
   ]
  },
  {
   "cell_type": "code",
   "execution_count": 220,
   "id": "7573a649",
   "metadata": {},
   "outputs": [
    {
     "data": {
      "text/html": [
       "<div>\n",
       "<style scoped>\n",
       "    .dataframe tbody tr th:only-of-type {\n",
       "        vertical-align: middle;\n",
       "    }\n",
       "\n",
       "    .dataframe tbody tr th {\n",
       "        vertical-align: top;\n",
       "    }\n",
       "\n",
       "    .dataframe thead th {\n",
       "        text-align: right;\n",
       "    }\n",
       "</style>\n",
       "<table border=\"1\" class=\"dataframe\">\n",
       "  <thead>\n",
       "    <tr style=\"text-align: right;\">\n",
       "      <th></th>\n",
       "      <th>variable</th>\n",
       "      <th>iv</th>\n",
       "      <th>raiz</th>\n",
       "      <th>id</th>\n",
       "    </tr>\n",
       "  </thead>\n",
       "  <tbody>\n",
       "    <tr>\n",
       "      <th>0</th>\n",
       "      <td>d_age_6</td>\n",
       "      <td>inf</td>\n",
       "      <td>age</td>\n",
       "      <td>1</td>\n",
       "    </tr>\n",
       "    <tr>\n",
       "      <th>1</th>\n",
       "      <td>d_age_5</td>\n",
       "      <td>2.192078</td>\n",
       "      <td>age</td>\n",
       "      <td>2</td>\n",
       "    </tr>\n",
       "    <tr>\n",
       "      <th>2</th>\n",
       "      <td>d_age_3</td>\n",
       "      <td>2.151389</td>\n",
       "      <td>age</td>\n",
       "      <td>3</td>\n",
       "    </tr>\n",
       "    <tr>\n",
       "      <th>3</th>\n",
       "      <td>d_age_4</td>\n",
       "      <td>1.999924</td>\n",
       "      <td>age</td>\n",
       "      <td>4</td>\n",
       "    </tr>\n",
       "    <tr>\n",
       "      <th>4</th>\n",
       "      <td>d_age_2</td>\n",
       "      <td>1.602954</td>\n",
       "      <td>age</td>\n",
       "      <td>5</td>\n",
       "    </tr>\n",
       "  </tbody>\n",
       "</table>\n",
       "</div>"
      ],
      "text/plain": [
       "  variable        iv raiz  id\n",
       "0  d_age_6       inf  age   1\n",
       "1  d_age_5  2.192078  age   2\n",
       "2  d_age_3  2.151389  age   3\n",
       "3  d_age_4  1.999924  age   4\n",
       "4  d_age_2  1.602954  age   5"
      ]
     },
     "execution_count": 220,
     "metadata": {},
     "output_type": "execute_result"
    }
   ],
   "source": [
    "iv"
   ]
  },
  {
   "cell_type": "code",
   "execution_count": 109,
   "id": "6c7a60a5",
   "metadata": {},
   "outputs": [],
   "source": [
    "iv = iv.loc[iv['id']==1]"
   ]
  },
  {
   "cell_type": "code",
   "execution_count": 111,
   "id": "dff7e141",
   "metadata": {},
   "outputs": [],
   "source": [
    "besti = iv['variable'].tolist()"
   ]
  },
  {
   "cell_type": "code",
   "execution_count": 112,
   "id": "a8aced5b",
   "metadata": {},
   "outputs": [
    {
     "data": {
      "text/plain": [
       "(1, ['d_age_6'])"
      ]
     },
     "execution_count": 112,
     "metadata": {},
     "output_type": "execute_result"
    }
   ],
   "source": [
    "len(besti), besti"
   ]
  },
  {
   "cell_type": "markdown",
   "id": "c69d675f",
   "metadata": {},
   "source": [
    "## Mejores variables - Normalizadas"
   ]
  },
  {
   "cell_type": "code",
   "execution_count": 114,
   "id": "74355eb7",
   "metadata": {},
   "outputs": [],
   "source": [
    "ivd = pd.DataFrame(map( lambda v: calculo_iv( Xt, v , tgt , um[0] ) , varn  ) , columns=['variable','iv'])"
   ]
  },
  {
   "cell_type": "code",
   "execution_count": 115,
   "id": "0155d569",
   "metadata": {},
   "outputs": [
    {
     "data": {
      "text/html": [
       "<div>\n",
       "<style scoped>\n",
       "    .dataframe tbody tr th:only-of-type {\n",
       "        vertical-align: middle;\n",
       "    }\n",
       "\n",
       "    .dataframe tbody tr th {\n",
       "        vertical-align: top;\n",
       "    }\n",
       "\n",
       "    .dataframe thead th {\n",
       "        text-align: right;\n",
       "    }\n",
       "</style>\n",
       "<table border=\"1\" class=\"dataframe\">\n",
       "  <thead>\n",
       "    <tr style=\"text-align: right;\">\n",
       "      <th></th>\n",
       "      <th>variable</th>\n",
       "      <th>iv</th>\n",
       "    </tr>\n",
       "  </thead>\n",
       "  <tbody>\n",
       "    <tr>\n",
       "      <th>0</th>\n",
       "      <td>n_gender</td>\n",
       "      <td>0.001424</td>\n",
       "    </tr>\n",
       "    <tr>\n",
       "      <th>1</th>\n",
       "      <td>n_hypertension</td>\n",
       "      <td>0.170747</td>\n",
       "    </tr>\n",
       "    <tr>\n",
       "      <th>2</th>\n",
       "      <td>n_heart_disease</td>\n",
       "      <td>0.140065</td>\n",
       "    </tr>\n",
       "    <tr>\n",
       "      <th>3</th>\n",
       "      <td>n_ever_married</td>\n",
       "      <td>0.280559</td>\n",
       "    </tr>\n",
       "    <tr>\n",
       "      <th>4</th>\n",
       "      <td>n_work_type</td>\n",
       "      <td>0.328914</td>\n",
       "    </tr>\n",
       "    <tr>\n",
       "      <th>5</th>\n",
       "      <td>n_Residence_type</td>\n",
       "      <td>0.008034</td>\n",
       "    </tr>\n",
       "    <tr>\n",
       "      <th>6</th>\n",
       "      <td>n_smoking_status</td>\n",
       "      <td>0.100563</td>\n",
       "    </tr>\n",
       "  </tbody>\n",
       "</table>\n",
       "</div>"
      ],
      "text/plain": [
       "           variable        iv\n",
       "0          n_gender  0.001424\n",
       "1    n_hypertension  0.170747\n",
       "2   n_heart_disease  0.140065\n",
       "3    n_ever_married  0.280559\n",
       "4       n_work_type  0.328914\n",
       "5  n_Residence_type  0.008034\n",
       "6  n_smoking_status  0.100563"
      ]
     },
     "execution_count": 115,
     "metadata": {},
     "output_type": "execute_result"
    }
   ],
   "source": [
    "ivd"
   ]
  },
  {
   "cell_type": "code",
   "execution_count": 116,
   "id": "b87e6ba6",
   "metadata": {},
   "outputs": [],
   "source": [
    "iv = pd.concat( [ivd, iv] , ignore_index=True )"
   ]
  },
  {
   "cell_type": "code",
   "execution_count": 117,
   "id": "29d0da46",
   "metadata": {},
   "outputs": [
    {
     "data": {
      "text/html": [
       "<div>\n",
       "<style scoped>\n",
       "    .dataframe tbody tr th:only-of-type {\n",
       "        vertical-align: middle;\n",
       "    }\n",
       "\n",
       "    .dataframe tbody tr th {\n",
       "        vertical-align: top;\n",
       "    }\n",
       "\n",
       "    .dataframe thead th {\n",
       "        text-align: right;\n",
       "    }\n",
       "</style>\n",
       "<table border=\"1\" class=\"dataframe\">\n",
       "  <thead>\n",
       "    <tr style=\"text-align: right;\">\n",
       "      <th></th>\n",
       "      <th>variable</th>\n",
       "      <th>iv</th>\n",
       "      <th>raiz</th>\n",
       "      <th>id</th>\n",
       "    </tr>\n",
       "  </thead>\n",
       "  <tbody>\n",
       "    <tr>\n",
       "      <th>0</th>\n",
       "      <td>n_gender</td>\n",
       "      <td>0.001424</td>\n",
       "      <td>NaN</td>\n",
       "      <td>NaN</td>\n",
       "    </tr>\n",
       "    <tr>\n",
       "      <th>1</th>\n",
       "      <td>n_hypertension</td>\n",
       "      <td>0.170747</td>\n",
       "      <td>NaN</td>\n",
       "      <td>NaN</td>\n",
       "    </tr>\n",
       "    <tr>\n",
       "      <th>2</th>\n",
       "      <td>n_heart_disease</td>\n",
       "      <td>0.140065</td>\n",
       "      <td>NaN</td>\n",
       "      <td>NaN</td>\n",
       "    </tr>\n",
       "    <tr>\n",
       "      <th>3</th>\n",
       "      <td>n_ever_married</td>\n",
       "      <td>0.280559</td>\n",
       "      <td>NaN</td>\n",
       "      <td>NaN</td>\n",
       "    </tr>\n",
       "    <tr>\n",
       "      <th>4</th>\n",
       "      <td>n_work_type</td>\n",
       "      <td>0.328914</td>\n",
       "      <td>NaN</td>\n",
       "      <td>NaN</td>\n",
       "    </tr>\n",
       "    <tr>\n",
       "      <th>5</th>\n",
       "      <td>n_Residence_type</td>\n",
       "      <td>0.008034</td>\n",
       "      <td>NaN</td>\n",
       "      <td>NaN</td>\n",
       "    </tr>\n",
       "    <tr>\n",
       "      <th>6</th>\n",
       "      <td>n_smoking_status</td>\n",
       "      <td>0.100563</td>\n",
       "      <td>NaN</td>\n",
       "      <td>NaN</td>\n",
       "    </tr>\n",
       "    <tr>\n",
       "      <th>7</th>\n",
       "      <td>d_age_6</td>\n",
       "      <td>inf</td>\n",
       "      <td>age</td>\n",
       "      <td>1.0</td>\n",
       "    </tr>\n",
       "  </tbody>\n",
       "</table>\n",
       "</div>"
      ],
      "text/plain": [
       "           variable        iv raiz   id\n",
       "0          n_gender  0.001424  NaN  NaN\n",
       "1    n_hypertension  0.170747  NaN  NaN\n",
       "2   n_heart_disease  0.140065  NaN  NaN\n",
       "3    n_ever_married  0.280559  NaN  NaN\n",
       "4       n_work_type  0.328914  NaN  NaN\n",
       "5  n_Residence_type  0.008034  NaN  NaN\n",
       "6  n_smoking_status  0.100563  NaN  NaN\n",
       "7           d_age_6       inf  age  1.0"
      ]
     },
     "execution_count": 117,
     "metadata": {},
     "output_type": "execute_result"
    }
   ],
   "source": [
    "iv"
   ]
  },
  {
   "cell_type": "code",
   "execution_count": 118,
   "id": "824faec0",
   "metadata": {},
   "outputs": [],
   "source": [
    "iv = iv.loc[ ~np.isinf(iv['iv']) ].reset_index()"
   ]
  },
  {
   "cell_type": "code",
   "execution_count": 120,
   "id": "1ab2887c",
   "metadata": {},
   "outputs": [],
   "source": [
    "iv = iv[['variable','iv']].sort_values(by='iv',ascending=False).reset_index(drop=True)"
   ]
  },
  {
   "cell_type": "code",
   "execution_count": 121,
   "id": "28bf7fd0",
   "metadata": {},
   "outputs": [
    {
     "data": {
      "text/html": [
       "<div>\n",
       "<style scoped>\n",
       "    .dataframe tbody tr th:only-of-type {\n",
       "        vertical-align: middle;\n",
       "    }\n",
       "\n",
       "    .dataframe tbody tr th {\n",
       "        vertical-align: top;\n",
       "    }\n",
       "\n",
       "    .dataframe thead th {\n",
       "        text-align: right;\n",
       "    }\n",
       "</style>\n",
       "<table border=\"1\" class=\"dataframe\">\n",
       "  <thead>\n",
       "    <tr style=\"text-align: right;\">\n",
       "      <th></th>\n",
       "      <th>variable</th>\n",
       "      <th>iv</th>\n",
       "    </tr>\n",
       "  </thead>\n",
       "  <tbody>\n",
       "    <tr>\n",
       "      <th>0</th>\n",
       "      <td>n_work_type</td>\n",
       "      <td>0.328914</td>\n",
       "    </tr>\n",
       "    <tr>\n",
       "      <th>1</th>\n",
       "      <td>n_ever_married</td>\n",
       "      <td>0.280559</td>\n",
       "    </tr>\n",
       "    <tr>\n",
       "      <th>2</th>\n",
       "      <td>n_hypertension</td>\n",
       "      <td>0.170747</td>\n",
       "    </tr>\n",
       "    <tr>\n",
       "      <th>3</th>\n",
       "      <td>n_heart_disease</td>\n",
       "      <td>0.140065</td>\n",
       "    </tr>\n",
       "    <tr>\n",
       "      <th>4</th>\n",
       "      <td>n_smoking_status</td>\n",
       "      <td>0.100563</td>\n",
       "    </tr>\n",
       "    <tr>\n",
       "      <th>5</th>\n",
       "      <td>n_Residence_type</td>\n",
       "      <td>0.008034</td>\n",
       "    </tr>\n",
       "    <tr>\n",
       "      <th>6</th>\n",
       "      <td>n_gender</td>\n",
       "      <td>0.001424</td>\n",
       "    </tr>\n",
       "  </tbody>\n",
       "</table>\n",
       "</div>"
      ],
      "text/plain": [
       "           variable        iv\n",
       "0       n_work_type  0.328914\n",
       "1    n_ever_married  0.280559\n",
       "2    n_hypertension  0.170747\n",
       "3   n_heart_disease  0.140065\n",
       "4  n_smoking_status  0.100563\n",
       "5  n_Residence_type  0.008034\n",
       "6          n_gender  0.001424"
      ]
     },
     "execution_count": 121,
     "metadata": {},
     "output_type": "execute_result"
    }
   ],
   "source": [
    "iv"
   ]
  },
  {
   "cell_type": "code",
   "execution_count": 122,
   "id": "45a4bc96",
   "metadata": {},
   "outputs": [],
   "source": [
    "best = iv.loc[ (iv['iv'] > 0.08 ) & ( iv['iv'] < 0.3 ) ]['variable'].tolist()"
   ]
  },
  {
   "cell_type": "code",
   "execution_count": 123,
   "id": "f52b727c",
   "metadata": {},
   "outputs": [
    {
     "data": {
      "text/plain": [
       "(4,\n",
       " ['n_ever_married', 'n_hypertension', 'n_heart_disease', 'n_smoking_status'])"
      ]
     },
     "execution_count": 123,
     "metadata": {},
     "output_type": "execute_result"
    }
   ],
   "source": [
    "len(best) , best"
   ]
  },
  {
   "cell_type": "markdown",
   "id": "9d3d2d27",
   "metadata": {},
   "source": [
    "## Transformación WoE"
   ]
  },
  {
   "cell_type": "code",
   "execution_count": 124,
   "id": "b0aec081",
   "metadata": {},
   "outputs": [
    {
     "data": {
      "text/plain": [
       "((4864, 5), (4864, 2))"
      ]
     },
     "execution_count": 124,
     "metadata": {},
     "output_type": "execute_result"
    }
   ],
   "source": [
    "X = X[um + best].reset_index(drop=True)\n",
    "X.shape , y.shape"
   ]
  },
  {
   "cell_type": "markdown",
   "id": "1ba6c035",
   "metadata": {},
   "source": [
    "### Partimos datos"
   ]
  },
  {
   "cell_type": "code",
   "execution_count": 125,
   "id": "26b8176f",
   "metadata": {},
   "outputs": [],
   "source": [
    "Xt, Xv, yt, yv = train_test_split( X, y, train_size = 0.7 )"
   ]
  },
  {
   "cell_type": "code",
   "execution_count": 126,
   "id": "5af6dd60",
   "metadata": {},
   "outputs": [
    {
     "data": {
      "text/plain": [
       "((3404, 5), (1460, 5), (3404, 2), (1460, 2))"
      ]
     },
     "execution_count": 126,
     "metadata": {},
     "output_type": "execute_result"
    }
   ],
   "source": [
    "Xt.shape, Xv.shape, yt.shape, yv.shape"
   ]
  },
  {
   "cell_type": "code",
   "execution_count": 127,
   "id": "ad783571",
   "metadata": {},
   "outputs": [],
   "source": [
    "Xt = Xt.merge( yt , on = um , how='inner' ).reset_index(drop=True)"
   ]
  },
  {
   "cell_type": "markdown",
   "id": "d70e6623",
   "metadata": {},
   "source": [
    "## Mapa WoE"
   ]
  },
  {
   "cell_type": "code",
   "execution_count": 129,
   "id": "46d385d4",
   "metadata": {},
   "outputs": [],
   "source": [
    "mapa_woe = list( map( lambda v: codificacion_woe( Xt, v , tgt , um[0] ) , best )  ) "
   ]
  },
  {
   "cell_type": "code",
   "execution_count": 141,
   "id": "f1b27bb9",
   "metadata": {},
   "outputs": [
    {
     "data": {
      "text/plain": [
       "[('n_ever_married', {'No': 0.8705535177821951, 'Yes': -0.2652555128675033}),\n",
       " ('n_hypertension', {'0': 0.21228945642732047, '1': -1.0821713873153183}),\n",
       " ('n_heart_disease', {'0': 0.1272831517612676, '1': -1.2168201905945717}),\n",
       " ('n_smoking_status',\n",
       "  {'Unknown': 0.2769162148981646,\n",
       "   'formerly smoked': -0.540343450977734,\n",
       "   'never smoked': 0.19138691823751366,\n",
       "   'smokes': -0.10714584222060344})]"
      ]
     },
     "execution_count": 141,
     "metadata": {},
     "output_type": "execute_result"
    }
   ],
   "source": [
    "mapa_woe"
   ]
  },
  {
   "cell_type": "code",
   "execution_count": 130,
   "id": "ac5c7fd9",
   "metadata": {},
   "outputs": [],
   "source": [
    "for v, mapa in mapa_woe:\n",
    "    Xt[f'w_{v}'] = Xt[v].replace(mapa)\n",
    "    Xv[f'w_{v}'] = Xv[v].replace(mapa)"
   ]
  },
  {
   "cell_type": "code",
   "execution_count": 131,
   "id": "94e3b41f",
   "metadata": {},
   "outputs": [],
   "source": [
    "varw = Xt.filter(like='w_').columns.tolist()"
   ]
  },
  {
   "cell_type": "code",
   "execution_count": 133,
   "id": "a7c2aee6",
   "metadata": {},
   "outputs": [
    {
     "data": {
      "text/plain": [
       "(4,\n",
       " ['w_n_ever_married',\n",
       "  'w_n_hypertension',\n",
       "  'w_n_heart_disease',\n",
       "  'w_n_smoking_status'])"
      ]
     },
     "execution_count": 133,
     "metadata": {},
     "output_type": "execute_result"
    }
   ],
   "source": [
    "len(varw), varw"
   ]
  },
  {
   "cell_type": "markdown",
   "id": "99041f5c",
   "metadata": {},
   "source": [
    "## TAD"
   ]
  },
  {
   "cell_type": "code",
   "execution_count": 135,
   "id": "90550635",
   "metadata": {},
   "outputs": [],
   "source": [
    "tad = Xt[um + varw].merge(yt, on=um, how='inner').reset_index(drop=True)"
   ]
  },
  {
   "cell_type": "code",
   "execution_count": 140,
   "id": "3d0a14fb",
   "metadata": {},
   "outputs": [
    {
     "data": {
      "text/plain": [
       "stroke\n",
       "0         3237\n",
       "1          167\n",
       "dtype: int64"
      ]
     },
     "execution_count": 140,
     "metadata": {},
     "output_type": "execute_result"
    }
   ],
   "source": [
    "tad[tgt].value_counts()"
   ]
  },
  {
   "cell_type": "code",
   "execution_count": 221,
   "id": "d12df7e9",
   "metadata": {},
   "outputs": [
    {
     "data": {
      "text/html": [
       "<div>\n",
       "<style scoped>\n",
       "    .dataframe tbody tr th:only-of-type {\n",
       "        vertical-align: middle;\n",
       "    }\n",
       "\n",
       "    .dataframe tbody tr th {\n",
       "        vertical-align: top;\n",
       "    }\n",
       "\n",
       "    .dataframe thead th {\n",
       "        text-align: right;\n",
       "    }\n",
       "</style>\n",
       "<table border=\"1\" class=\"dataframe\">\n",
       "  <thead>\n",
       "    <tr style=\"text-align: right;\">\n",
       "      <th></th>\n",
       "      <th>id</th>\n",
       "      <th>w_n_ever_married</th>\n",
       "      <th>w_n_hypertension</th>\n",
       "      <th>w_n_heart_disease</th>\n",
       "      <th>w_n_smoking_status</th>\n",
       "      <th>stroke</th>\n",
       "    </tr>\n",
       "  </thead>\n",
       "  <tbody>\n",
       "    <tr>\n",
       "      <th>0</th>\n",
       "      <td>11908</td>\n",
       "      <td>-0.265256</td>\n",
       "      <td>0.212289</td>\n",
       "      <td>0.127283</td>\n",
       "      <td>-0.540343</td>\n",
       "      <td>0</td>\n",
       "    </tr>\n",
       "    <tr>\n",
       "      <th>1</th>\n",
       "      <td>6928</td>\n",
       "      <td>-0.265256</td>\n",
       "      <td>0.212289</td>\n",
       "      <td>0.127283</td>\n",
       "      <td>0.191387</td>\n",
       "      <td>0</td>\n",
       "    </tr>\n",
       "    <tr>\n",
       "      <th>2</th>\n",
       "      <td>53195</td>\n",
       "      <td>0.870554</td>\n",
       "      <td>0.212289</td>\n",
       "      <td>0.127283</td>\n",
       "      <td>0.191387</td>\n",
       "      <td>0</td>\n",
       "    </tr>\n",
       "    <tr>\n",
       "      <th>3</th>\n",
       "      <td>35330</td>\n",
       "      <td>-0.265256</td>\n",
       "      <td>0.212289</td>\n",
       "      <td>0.127283</td>\n",
       "      <td>-0.107146</td>\n",
       "      <td>0</td>\n",
       "    </tr>\n",
       "    <tr>\n",
       "      <th>4</th>\n",
       "      <td>17827</td>\n",
       "      <td>-0.265256</td>\n",
       "      <td>0.212289</td>\n",
       "      <td>0.127283</td>\n",
       "      <td>-0.540343</td>\n",
       "      <td>0</td>\n",
       "    </tr>\n",
       "    <tr>\n",
       "      <th>...</th>\n",
       "      <td>...</td>\n",
       "      <td>...</td>\n",
       "      <td>...</td>\n",
       "      <td>...</td>\n",
       "      <td>...</td>\n",
       "      <td>...</td>\n",
       "    </tr>\n",
       "    <tr>\n",
       "      <th>3399</th>\n",
       "      <td>55591</td>\n",
       "      <td>-0.265256</td>\n",
       "      <td>0.212289</td>\n",
       "      <td>0.127283</td>\n",
       "      <td>0.191387</td>\n",
       "      <td>0</td>\n",
       "    </tr>\n",
       "    <tr>\n",
       "      <th>3400</th>\n",
       "      <td>5464</td>\n",
       "      <td>-0.265256</td>\n",
       "      <td>0.212289</td>\n",
       "      <td>0.127283</td>\n",
       "      <td>0.276916</td>\n",
       "      <td>0</td>\n",
       "    </tr>\n",
       "    <tr>\n",
       "      <th>3401</th>\n",
       "      <td>65116</td>\n",
       "      <td>-0.265256</td>\n",
       "      <td>-1.082171</td>\n",
       "      <td>0.127283</td>\n",
       "      <td>-0.107146</td>\n",
       "      <td>0</td>\n",
       "    </tr>\n",
       "    <tr>\n",
       "      <th>3402</th>\n",
       "      <td>13365</td>\n",
       "      <td>-0.265256</td>\n",
       "      <td>0.212289</td>\n",
       "      <td>0.127283</td>\n",
       "      <td>-0.107146</td>\n",
       "      <td>0</td>\n",
       "    </tr>\n",
       "    <tr>\n",
       "      <th>3403</th>\n",
       "      <td>31840</td>\n",
       "      <td>0.870554</td>\n",
       "      <td>0.212289</td>\n",
       "      <td>0.127283</td>\n",
       "      <td>0.276916</td>\n",
       "      <td>0</td>\n",
       "    </tr>\n",
       "  </tbody>\n",
       "</table>\n",
       "<p>3404 rows × 6 columns</p>\n",
       "</div>"
      ],
      "text/plain": [
       "         id  w_n_ever_married  w_n_hypertension  w_n_heart_disease  \\\n",
       "0     11908         -0.265256          0.212289           0.127283   \n",
       "1      6928         -0.265256          0.212289           0.127283   \n",
       "2     53195          0.870554          0.212289           0.127283   \n",
       "3     35330         -0.265256          0.212289           0.127283   \n",
       "4     17827         -0.265256          0.212289           0.127283   \n",
       "...     ...               ...               ...                ...   \n",
       "3399  55591         -0.265256          0.212289           0.127283   \n",
       "3400   5464         -0.265256          0.212289           0.127283   \n",
       "3401  65116         -0.265256         -1.082171           0.127283   \n",
       "3402  13365         -0.265256          0.212289           0.127283   \n",
       "3403  31840          0.870554          0.212289           0.127283   \n",
       "\n",
       "      w_n_smoking_status  stroke  \n",
       "0              -0.540343       0  \n",
       "1               0.191387       0  \n",
       "2               0.191387       0  \n",
       "3              -0.107146       0  \n",
       "4              -0.540343       0  \n",
       "...                  ...     ...  \n",
       "3399            0.191387       0  \n",
       "3400            0.276916       0  \n",
       "3401           -0.107146       0  \n",
       "3402           -0.107146       0  \n",
       "3403            0.276916       0  \n",
       "\n",
       "[3404 rows x 6 columns]"
      ]
     },
     "execution_count": 221,
     "metadata": {},
     "output_type": "execute_result"
    }
   ],
   "source": [
    "tad"
   ]
  },
  {
   "cell_type": "code",
   "execution_count": null,
   "id": "ce2823bc",
   "metadata": {},
   "outputs": [],
   "source": []
  },
  {
   "cell_type": "code",
   "execution_count": null,
   "id": "56a48532",
   "metadata": {},
   "outputs": [],
   "source": []
  },
  {
   "cell_type": "code",
   "execution_count": null,
   "id": "5b765f9e",
   "metadata": {},
   "outputs": [],
   "source": []
  }
 ],
 "metadata": {
  "kernelspec": {
   "display_name": "Python 3 (ipykernel)",
   "language": "python",
   "name": "python3"
  },
  "language_info": {
   "codemirror_mode": {
    "name": "ipython",
    "version": 3
   },
   "file_extension": ".py",
   "mimetype": "text/x-python",
   "name": "python",
   "nbconvert_exporter": "python",
   "pygments_lexer": "ipython3",
   "version": "3.10.6"
  },
  "toc": {
   "base_numbering": 1,
   "nav_menu": {},
   "number_sections": true,
   "sideBar": true,
   "skip_h1_title": false,
   "title_cell": "Table of Contents",
   "title_sidebar": "Contents",
   "toc_cell": false,
   "toc_position": {
    "height": "calc(100% - 180px)",
    "left": "10px",
    "top": "150px",
    "width": "255.028px"
   },
   "toc_section_display": true,
   "toc_window_display": true
  }
 },
 "nbformat": 4,
 "nbformat_minor": 5
}
