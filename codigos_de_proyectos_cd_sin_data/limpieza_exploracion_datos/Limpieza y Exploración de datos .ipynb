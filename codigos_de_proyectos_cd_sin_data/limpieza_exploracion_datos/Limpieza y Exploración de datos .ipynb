{
 "cells": [
  {
   "cell_type": "markdown",
   "metadata": {},
   "source": [
    "# Librerias"
   ]
  },
  {
   "cell_type": "code",
   "execution_count": 3,
   "metadata": {},
   "outputs": [],
   "source": [
    "import pandas as pd\n",
    "import numpy as np\n",
    "\n",
    "import os\n",
    "\n",
    "import matplotlib.pyplot as plt\n",
    "\n",
    "\n",
    "from IPython.display import display\n",
    "pd.options.display.float_format = '{:,.2f}'.format"
   ]
  },
  {
   "cell_type": "markdown",
   "metadata": {},
   "source": [
    "# Introducción"
   ]
  },
  {
   "cell_type": "markdown",
   "metadata": {},
   "source": [
    "- Dataset ecobicis CDMX\n",
    "- Extracción, exploración y limpieza de datos\n",
    "- Problemática: Oferta / Demanda\n",
    "- ¿ dónde poner más bicis ?\n",
    "- Conocer desabasto , zona\n",
    "- tiempos\n",
    "- genero\n",
    "- tiempo de vida bicis* \n",
    "- robo bicis*"
   ]
  },
  {
   "cell_type": "markdown",
   "metadata": {},
   "source": [
    "# Lectura / Extracción de datos"
   ]
  },
  {
   "cell_type": "code",
   "execution_count": 4,
   "metadata": {},
   "outputs": [],
   "source": [
    "ruta = '/home/luis/Documentos/entornos/Ciencia de datos_git/limpieza_exploracion_datos/datos_eco_bici/ecobici(1)'"
   ]
  },
  {
   "cell_type": "code",
   "execution_count": 5,
   "metadata": {},
   "outputs": [],
   "source": [
    "lst_nombre_archi = os.listdir(ruta)"
   ]
  },
  {
   "cell_type": "code",
   "execution_count": 6,
   "metadata": {
    "scrolled": true
   },
   "outputs": [],
   "source": [
    "lst_viajes = [nom for nom in lst_nombre_archi if nom[:2] == '20']"
   ]
  },
  {
   "cell_type": "code",
   "execution_count": 7,
   "metadata": {
    "scrolled": true
   },
   "outputs": [
    {
     "name": "stdout",
     "output_type": "stream",
     "text": [
      "0\n"
     ]
    },
    {
     "name": "stderr",
     "output_type": "stream",
     "text": [
      "/tmp/ipykernel_9069/3524327410.py:4: DtypeWarning: Columns (2) have mixed types. Specify dtype option on import or set low_memory=False.\n",
      "  df = pd.read_csv( os.path.join(ruta , lst_viajes[i] ) )\n"
     ]
    },
    {
     "name": "stdout",
     "output_type": "stream",
     "text": [
      "1\n"
     ]
    },
    {
     "name": "stderr",
     "output_type": "stream",
     "text": [
      "/tmp/ipykernel_9069/3524327410.py:6: DtypeWarning: Columns (2) have mixed types. Specify dtype option on import or set low_memory=False.\n",
      "  df = pd.concat( [df , pd.read_csv( os.path.join(ruta , lst_viajes[i] ) ) ] , ignore_index=True)\n"
     ]
    },
    {
     "name": "stdout",
     "output_type": "stream",
     "text": [
      "2\n",
      "3\n"
     ]
    },
    {
     "name": "stderr",
     "output_type": "stream",
     "text": [
      "/tmp/ipykernel_9069/3524327410.py:6: DtypeWarning: Columns (2) have mixed types. Specify dtype option on import or set low_memory=False.\n",
      "  df = pd.concat( [df , pd.read_csv( os.path.join(ruta , lst_viajes[i] ) ) ] , ignore_index=True)\n"
     ]
    },
    {
     "name": "stdout",
     "output_type": "stream",
     "text": [
      "4\n",
      "5\n",
      "6\n",
      "7\n"
     ]
    },
    {
     "name": "stderr",
     "output_type": "stream",
     "text": [
      "/tmp/ipykernel_9069/3524327410.py:6: DtypeWarning: Columns (2) have mixed types. Specify dtype option on import or set low_memory=False.\n",
      "  df = pd.concat( [df , pd.read_csv( os.path.join(ruta , lst_viajes[i] ) ) ] , ignore_index=True)\n"
     ]
    },
    {
     "name": "stdout",
     "output_type": "stream",
     "text": [
      "8\n"
     ]
    },
    {
     "name": "stderr",
     "output_type": "stream",
     "text": [
      "/tmp/ipykernel_9069/3524327410.py:6: DtypeWarning: Columns (2) have mixed types. Specify dtype option on import or set low_memory=False.\n",
      "  df = pd.concat( [df , pd.read_csv( os.path.join(ruta , lst_viajes[i] ) ) ] , ignore_index=True)\n"
     ]
    },
    {
     "name": "stdout",
     "output_type": "stream",
     "text": [
      "9\n",
      "10\n",
      "11\n"
     ]
    },
    {
     "name": "stderr",
     "output_type": "stream",
     "text": [
      "/tmp/ipykernel_9069/3524327410.py:6: DtypeWarning: Columns (2) have mixed types. Specify dtype option on import or set low_memory=False.\n",
      "  df = pd.concat( [df , pd.read_csv( os.path.join(ruta , lst_viajes[i] ) ) ] , ignore_index=True)\n"
     ]
    },
    {
     "name": "stdout",
     "output_type": "stream",
     "text": [
      "12\n",
      "13\n"
     ]
    },
    {
     "name": "stderr",
     "output_type": "stream",
     "text": [
      "/tmp/ipykernel_9069/3524327410.py:6: DtypeWarning: Columns (2) have mixed types. Specify dtype option on import or set low_memory=False.\n",
      "  df = pd.concat( [df , pd.read_csv( os.path.join(ruta , lst_viajes[i] ) ) ] , ignore_index=True)\n"
     ]
    },
    {
     "name": "stdout",
     "output_type": "stream",
     "text": [
      "14\n",
      "15\n",
      "16\n",
      "17\n",
      "18\n"
     ]
    },
    {
     "name": "stderr",
     "output_type": "stream",
     "text": [
      "/tmp/ipykernel_9069/3524327410.py:6: DtypeWarning: Columns (2) have mixed types. Specify dtype option on import or set low_memory=False.\n",
      "  df = pd.concat( [df , pd.read_csv( os.path.join(ruta , lst_viajes[i] ) ) ] , ignore_index=True)\n"
     ]
    },
    {
     "name": "stdout",
     "output_type": "stream",
     "text": [
      "19\n"
     ]
    },
    {
     "name": "stderr",
     "output_type": "stream",
     "text": [
      "/tmp/ipykernel_9069/3524327410.py:6: DtypeWarning: Columns (2,6,9) have mixed types. Specify dtype option on import or set low_memory=False.\n",
      "  df = pd.concat( [df , pd.read_csv( os.path.join(ruta , lst_viajes[i] ) ) ] , ignore_index=True)\n"
     ]
    },
    {
     "name": "stdout",
     "output_type": "stream",
     "text": [
      "20\n",
      "21\n"
     ]
    },
    {
     "name": "stderr",
     "output_type": "stream",
     "text": [
      "/tmp/ipykernel_9069/3524327410.py:6: DtypeWarning: Columns (2) have mixed types. Specify dtype option on import or set low_memory=False.\n",
      "  df = pd.concat( [df , pd.read_csv( os.path.join(ruta , lst_viajes[i] ) ) ] , ignore_index=True)\n"
     ]
    },
    {
     "name": "stdout",
     "output_type": "stream",
     "text": [
      "22\n"
     ]
    },
    {
     "name": "stderr",
     "output_type": "stream",
     "text": [
      "/tmp/ipykernel_9069/3524327410.py:6: DtypeWarning: Columns (2) have mixed types. Specify dtype option on import or set low_memory=False.\n",
      "  df = pd.concat( [df , pd.read_csv( os.path.join(ruta , lst_viajes[i] ) ) ] , ignore_index=True)\n"
     ]
    },
    {
     "name": "stdout",
     "output_type": "stream",
     "text": [
      "23\n"
     ]
    }
   ],
   "source": [
    "for i, archi in enumerate(lst_viajes):\n",
    "    print(i)\n",
    "    if i == 0:\n",
    "        df = pd.read_csv( os.path.join(ruta , lst_viajes[i] ) )\n",
    "    else:\n",
    "        df = pd.concat( [df , pd.read_csv( os.path.join(ruta , lst_viajes[i] ) ) ] , ignore_index=True)"
   ]
  },
  {
   "cell_type": "code",
   "execution_count": 8,
   "metadata": {},
   "outputs": [],
   "source": [
    "archi_estaciones = 'estaciones-de-ecobici.csv'"
   ]
  },
  {
   "cell_type": "code",
   "execution_count": 9,
   "metadata": {},
   "outputs": [],
   "source": [
    "cat_estaciones = pd.read_csv( os.path.join( ruta , archi_estaciones ) ) "
   ]
  },
  {
   "cell_type": "code",
   "execution_count": 10,
   "metadata": {
    "scrolled": true
   },
   "outputs": [
    {
     "data": {
      "text/html": [
       "<div>\n",
       "<style scoped>\n",
       "    .dataframe tbody tr th:only-of-type {\n",
       "        vertical-align: middle;\n",
       "    }\n",
       "\n",
       "    .dataframe tbody tr th {\n",
       "        vertical-align: top;\n",
       "    }\n",
       "\n",
       "    .dataframe thead th {\n",
       "        text-align: right;\n",
       "    }\n",
       "</style>\n",
       "<table border=\"1\" class=\"dataframe\">\n",
       "  <thead>\n",
       "    <tr style=\"text-align: right;\">\n",
       "      <th></th>\n",
       "      <th>ID</th>\n",
       "      <th>Nombre</th>\n",
       "      <th>Dirección</th>\n",
       "      <th>Número</th>\n",
       "      <th>Código postal</th>\n",
       "      <th>districtCode</th>\n",
       "      <th>Colonia</th>\n",
       "      <th>altitude</th>\n",
       "      <th>nearbyStations/0</th>\n",
       "      <th>location/lat</th>\n",
       "      <th>location/lon</th>\n",
       "      <th>Tipo de estación</th>\n",
       "      <th>nearbyStations/1</th>\n",
       "      <th>nearbyStations/2</th>\n",
       "      <th>nearbyStations/3</th>\n",
       "      <th>nearbyStations/4</th>\n",
       "      <th>nearbyStations/5</th>\n",
       "      <th>punto_geo</th>\n",
       "    </tr>\n",
       "  </thead>\n",
       "  <tbody>\n",
       "    <tr>\n",
       "      <th>0</th>\n",
       "      <td>416</td>\n",
       "      <td>416 RECREO-PARROQUÍA</td>\n",
       "      <td>416 - Recreo-Parroquía</td>\n",
       "      <td>S/N</td>\n",
       "      <td>3,104.00</td>\n",
       "      <td>1</td>\n",
       "      <td>Ampliación Granada</td>\n",
       "      <td>NaN</td>\n",
       "      <td>390</td>\n",
       "      <td>19.37</td>\n",
       "      <td>-99.18</td>\n",
       "      <td>BIKE</td>\n",
       "      <td>391.00</td>\n",
       "      <td>415.00</td>\n",
       "      <td>NaN</td>\n",
       "      <td>NaN</td>\n",
       "      <td>NaN</td>\n",
       "      <td>19.371308,-99.177607</td>\n",
       "    </tr>\n",
       "    <tr>\n",
       "      <th>1</th>\n",
       "      <td>440</td>\n",
       "      <td>440 REAL DE MAYORAZGO-PUENTE XOCO</td>\n",
       "      <td>440 - Real De Mayorazgo-Puente Xoco</td>\n",
       "      <td>S/N</td>\n",
       "      <td>3,330.00</td>\n",
       "      <td>1</td>\n",
       "      <td>Ampliación Granada</td>\n",
       "      <td>NaN</td>\n",
       "      <td>433</td>\n",
       "      <td>19.36</td>\n",
       "      <td>-99.17</td>\n",
       "      <td>BIKE</td>\n",
       "      <td>439.00</td>\n",
       "      <td>441.00</td>\n",
       "      <td>NaN</td>\n",
       "      <td>NaN</td>\n",
       "      <td>NaN</td>\n",
       "      <td>19.36065,-99.168669</td>\n",
       "    </tr>\n",
       "    <tr>\n",
       "      <th>2</th>\n",
       "      <td>70</td>\n",
       "      <td>70 PARQUE MEXICO-MICHOACAN</td>\n",
       "      <td>070 - Parque México - Michoacan</td>\n",
       "      <td>S/N</td>\n",
       "      <td>6,100.00</td>\n",
       "      <td>1</td>\n",
       "      <td>Ampliación Granada</td>\n",
       "      <td>NaN</td>\n",
       "      <td>69</td>\n",
       "      <td>19.41</td>\n",
       "      <td>-99.17</td>\n",
       "      <td>BIKE,TPV</td>\n",
       "      <td>71.00</td>\n",
       "      <td>76.00</td>\n",
       "      <td>NaN</td>\n",
       "      <td>NaN</td>\n",
       "      <td>NaN</td>\n",
       "      <td>19.411272,-99.169718</td>\n",
       "    </tr>\n",
       "    <tr>\n",
       "      <th>3</th>\n",
       "      <td>325</td>\n",
       "      <td>325 PROVIDENCIA -AVENIDA DEL VALLE</td>\n",
       "      <td>325 - Providencia -Avenida Del Valle</td>\n",
       "      <td>S/N</td>\n",
       "      <td>3,100.00</td>\n",
       "      <td>1</td>\n",
       "      <td>Ampliación Granada</td>\n",
       "      <td>NaN</td>\n",
       "      <td>316</td>\n",
       "      <td>19.39</td>\n",
       "      <td>-99.17</td>\n",
       "      <td>BIKE</td>\n",
       "      <td>335.00</td>\n",
       "      <td>336.00</td>\n",
       "      <td>NaN</td>\n",
       "      <td>NaN</td>\n",
       "      <td>NaN</td>\n",
       "      <td>19.3881779,-99.1696894</td>\n",
       "    </tr>\n",
       "    <tr>\n",
       "      <th>4</th>\n",
       "      <td>252</td>\n",
       "      <td>252 VICTOR HUGO-SHAKESPEARE</td>\n",
       "      <td>252 - Víctor Hugo-Shakespeare</td>\n",
       "      <td>S/N</td>\n",
       "      <td>11,510.00</td>\n",
       "      <td>2</td>\n",
       "      <td>Anzures</td>\n",
       "      <td>NaN</td>\n",
       "      <td>249</td>\n",
       "      <td>19.43</td>\n",
       "      <td>-99.18</td>\n",
       "      <td>BIKE</td>\n",
       "      <td>251.00</td>\n",
       "      <td>253.00</td>\n",
       "      <td>NaN</td>\n",
       "      <td>NaN</td>\n",
       "      <td>NaN</td>\n",
       "      <td>19.427575,-99.17702</td>\n",
       "    </tr>\n",
       "    <tr>\n",
       "      <th>...</th>\n",
       "      <td>...</td>\n",
       "      <td>...</td>\n",
       "      <td>...</td>\n",
       "      <td>...</td>\n",
       "      <td>...</td>\n",
       "      <td>...</td>\n",
       "      <td>...</td>\n",
       "      <td>...</td>\n",
       "      <td>...</td>\n",
       "      <td>...</td>\n",
       "      <td>...</td>\n",
       "      <td>...</td>\n",
       "      <td>...</td>\n",
       "      <td>...</td>\n",
       "      <td>...</td>\n",
       "      <td>...</td>\n",
       "      <td>...</td>\n",
       "      <td>...</td>\n",
       "    </tr>\n",
       "    <tr>\n",
       "      <th>475</th>\n",
       "      <td>156</td>\n",
       "      <td>156 TEPIC-AMENALCO</td>\n",
       "      <td>156 - Tepic-Amenalco</td>\n",
       "      <td>S/N</td>\n",
       "      <td>NaN</td>\n",
       "      <td>ROM</td>\n",
       "      <td>Roma Sur</td>\n",
       "      <td>NaN</td>\n",
       "      <td>153</td>\n",
       "      <td>19.41</td>\n",
       "      <td>-99.16</td>\n",
       "      <td>BIKE</td>\n",
       "      <td>155.00</td>\n",
       "      <td>162.00</td>\n",
       "      <td>NaN</td>\n",
       "      <td>NaN</td>\n",
       "      <td>NaN</td>\n",
       "      <td>19.407121,-99.162202</td>\n",
       "    </tr>\n",
       "    <tr>\n",
       "      <th>476</th>\n",
       "      <td>162</td>\n",
       "      <td>162 TEHUANTEPEC-MEDELLÍN</td>\n",
       "      <td>162 - Tehuantepec-Medellín</td>\n",
       "      <td>S/N</td>\n",
       "      <td>NaN</td>\n",
       "      <td>ROM</td>\n",
       "      <td>Roma Sur</td>\n",
       "      <td>NaN</td>\n",
       "      <td>161</td>\n",
       "      <td>19.40</td>\n",
       "      <td>-99.16</td>\n",
       "      <td>BIKE</td>\n",
       "      <td>165.00</td>\n",
       "      <td>NaN</td>\n",
       "      <td>NaN</td>\n",
       "      <td>NaN</td>\n",
       "      <td>NaN</td>\n",
       "      <td>19.404907,-99.162485</td>\n",
       "    </tr>\n",
       "    <tr>\n",
       "      <th>477</th>\n",
       "      <td>410</td>\n",
       "      <td>410 PROLONGACIÓN TAJÍN-PROLONGACIÓN REPÚBLICAS</td>\n",
       "      <td>410 - Prolongación Tajín-Prolongación Repúblicas</td>\n",
       "      <td>S/N</td>\n",
       "      <td>3,310.00</td>\n",
       "      <td>SCA</td>\n",
       "      <td>Santa Cruz Atoyac</td>\n",
       "      <td>NaN</td>\n",
       "      <td>407</td>\n",
       "      <td>19.37</td>\n",
       "      <td>-99.16</td>\n",
       "      <td>BIKE</td>\n",
       "      <td>408.00</td>\n",
       "      <td>409.00</td>\n",
       "      <td>NaN</td>\n",
       "      <td>NaN</td>\n",
       "      <td>NaN</td>\n",
       "      <td>19.36564,-99.158063</td>\n",
       "    </tr>\n",
       "    <tr>\n",
       "      <th>478</th>\n",
       "      <td>411</td>\n",
       "      <td>411 PARROQUIA-AVENIDA MÉXICO-COYOACAN</td>\n",
       "      <td>411 - Parroquia-Avenida México-Coyoacan</td>\n",
       "      <td>S/N</td>\n",
       "      <td>3,310.00</td>\n",
       "      <td>SCA</td>\n",
       "      <td>Santa Cruz Atoyac</td>\n",
       "      <td>NaN</td>\n",
       "      <td>412</td>\n",
       "      <td>19.37</td>\n",
       "      <td>-99.16</td>\n",
       "      <td>BIKE</td>\n",
       "      <td>425.00</td>\n",
       "      <td>427.00</td>\n",
       "      <td>NaN</td>\n",
       "      <td>NaN</td>\n",
       "      <td>NaN</td>\n",
       "      <td>19.367864,-99.163626</td>\n",
       "    </tr>\n",
       "    <tr>\n",
       "      <th>479</th>\n",
       "      <td>380</td>\n",
       "      <td>380 MORAS-SAN LORENZO</td>\n",
       "      <td>380 - Moras-San Lorenzo</td>\n",
       "      <td>S/N</td>\n",
       "      <td>3,200.00</td>\n",
       "      <td>TLA</td>\n",
       "      <td>Tlacoquemecatl</td>\n",
       "      <td>NaN</td>\n",
       "      <td>392</td>\n",
       "      <td>19.37</td>\n",
       "      <td>-99.17</td>\n",
       "      <td>BIKE</td>\n",
       "      <td>393.00</td>\n",
       "      <td>394.00</td>\n",
       "      <td>NaN</td>\n",
       "      <td>NaN</td>\n",
       "      <td>NaN</td>\n",
       "      <td>19.374876,-99.173512</td>\n",
       "    </tr>\n",
       "  </tbody>\n",
       "</table>\n",
       "<p>480 rows × 18 columns</p>\n",
       "</div>"
      ],
      "text/plain": [
       "      ID                                          Nombre  \\\n",
       "0    416                            416 RECREO-PARROQUÍA   \n",
       "1    440               440 REAL DE MAYORAZGO-PUENTE XOCO   \n",
       "2     70                      70 PARQUE MEXICO-MICHOACAN   \n",
       "3    325              325 PROVIDENCIA -AVENIDA DEL VALLE   \n",
       "4    252                     252 VICTOR HUGO-SHAKESPEARE   \n",
       "..   ...                                             ...   \n",
       "475  156                              156 TEPIC-AMENALCO   \n",
       "476  162                        162 TEHUANTEPEC-MEDELLÍN   \n",
       "477  410  410 PROLONGACIÓN TAJÍN-PROLONGACIÓN REPÚBLICAS   \n",
       "478  411           411 PARROQUIA-AVENIDA MÉXICO-COYOACAN   \n",
       "479  380                           380 MORAS-SAN LORENZO   \n",
       "\n",
       "                                            Dirección Número  Código postal  \\\n",
       "0                              416 - Recreo-Parroquía    S/N       3,104.00   \n",
       "1                 440 - Real De Mayorazgo-Puente Xoco    S/N       3,330.00   \n",
       "2                     070 - Parque México - Michoacan    S/N       6,100.00   \n",
       "3                325 - Providencia -Avenida Del Valle    S/N       3,100.00   \n",
       "4                       252 - Víctor Hugo-Shakespeare    S/N      11,510.00   \n",
       "..                                                ...    ...            ...   \n",
       "475                              156 - Tepic-Amenalco    S/N            NaN   \n",
       "476                        162 - Tehuantepec-Medellín    S/N            NaN   \n",
       "477  410 - Prolongación Tajín-Prolongación Repúblicas    S/N       3,310.00   \n",
       "478           411 - Parroquia-Avenida México-Coyoacan    S/N       3,310.00   \n",
       "479                           380 - Moras-San Lorenzo    S/N       3,200.00   \n",
       "\n",
       "    districtCode             Colonia  altitude  nearbyStations/0  \\\n",
       "0              1  Ampliación Granada       NaN               390   \n",
       "1              1  Ampliación Granada       NaN               433   \n",
       "2              1  Ampliación Granada       NaN                69   \n",
       "3              1  Ampliación Granada       NaN               316   \n",
       "4              2             Anzures       NaN               249   \n",
       "..           ...                 ...       ...               ...   \n",
       "475          ROM            Roma Sur       NaN               153   \n",
       "476          ROM            Roma Sur       NaN               161   \n",
       "477          SCA   Santa Cruz Atoyac       NaN               407   \n",
       "478          SCA   Santa Cruz Atoyac       NaN               412   \n",
       "479          TLA      Tlacoquemecatl       NaN               392   \n",
       "\n",
       "     location/lat  location/lon Tipo de estación  nearbyStations/1  \\\n",
       "0           19.37        -99.18             BIKE            391.00   \n",
       "1           19.36        -99.17             BIKE            439.00   \n",
       "2           19.41        -99.17         BIKE,TPV             71.00   \n",
       "3           19.39        -99.17             BIKE            335.00   \n",
       "4           19.43        -99.18             BIKE            251.00   \n",
       "..            ...           ...              ...               ...   \n",
       "475         19.41        -99.16             BIKE            155.00   \n",
       "476         19.40        -99.16             BIKE            165.00   \n",
       "477         19.37        -99.16             BIKE            408.00   \n",
       "478         19.37        -99.16             BIKE            425.00   \n",
       "479         19.37        -99.17             BIKE            393.00   \n",
       "\n",
       "     nearbyStations/2  nearbyStations/3  nearbyStations/4  nearbyStations/5  \\\n",
       "0              415.00               NaN               NaN               NaN   \n",
       "1              441.00               NaN               NaN               NaN   \n",
       "2               76.00               NaN               NaN               NaN   \n",
       "3              336.00               NaN               NaN               NaN   \n",
       "4              253.00               NaN               NaN               NaN   \n",
       "..                ...               ...               ...               ...   \n",
       "475            162.00               NaN               NaN               NaN   \n",
       "476               NaN               NaN               NaN               NaN   \n",
       "477            409.00               NaN               NaN               NaN   \n",
       "478            427.00               NaN               NaN               NaN   \n",
       "479            394.00               NaN               NaN               NaN   \n",
       "\n",
       "                  punto_geo  \n",
       "0      19.371308,-99.177607  \n",
       "1       19.36065,-99.168669  \n",
       "2      19.411272,-99.169718  \n",
       "3    19.3881779,-99.1696894  \n",
       "4       19.427575,-99.17702  \n",
       "..                      ...  \n",
       "475    19.407121,-99.162202  \n",
       "476    19.404907,-99.162485  \n",
       "477     19.36564,-99.158063  \n",
       "478    19.367864,-99.163626  \n",
       "479    19.374876,-99.173512  \n",
       "\n",
       "[480 rows x 18 columns]"
      ]
     },
     "execution_count": 10,
     "metadata": {},
     "output_type": "execute_result"
    }
   ],
   "source": [
    "cat_estaciones"
   ]
  },
  {
   "cell_type": "markdown",
   "metadata": {},
   "source": [
    "# Inspección / Exploración "
   ]
  },
  {
   "cell_type": "code",
   "execution_count": 11,
   "metadata": {},
   "outputs": [
    {
     "data": {
      "text/html": [
       "<div>\n",
       "<style scoped>\n",
       "    .dataframe tbody tr th:only-of-type {\n",
       "        vertical-align: middle;\n",
       "    }\n",
       "\n",
       "    .dataframe tbody tr th {\n",
       "        vertical-align: top;\n",
       "    }\n",
       "\n",
       "    .dataframe thead th {\n",
       "        text-align: right;\n",
       "    }\n",
       "</style>\n",
       "<table border=\"1\" class=\"dataframe\">\n",
       "  <thead>\n",
       "    <tr style=\"text-align: right;\">\n",
       "      <th></th>\n",
       "      <th>Genero_Usuario</th>\n",
       "      <th>Edad_Usuario</th>\n",
       "      <th>Bici</th>\n",
       "      <th>Ciclo_Estacion_Retiro</th>\n",
       "      <th>Fecha_Retiro</th>\n",
       "      <th>Hora_Retiro</th>\n",
       "      <th>Ciclo_Estacion_Arribo</th>\n",
       "      <th>Fecha_Arribo</th>\n",
       "      <th>Hora_Arribo</th>\n",
       "      <th>Unnamed: 9</th>\n",
       "    </tr>\n",
       "  </thead>\n",
       "  <tbody>\n",
       "    <tr>\n",
       "      <th>0</th>\n",
       "      <td>M</td>\n",
       "      <td>49</td>\n",
       "      <td>3307</td>\n",
       "      <td>365</td>\n",
       "      <td>01/03/2018</td>\n",
       "      <td>0:00:10</td>\n",
       "      <td>169</td>\n",
       "      <td>01/03/2018</td>\n",
       "      <td>0:13:05</td>\n",
       "      <td>NaN</td>\n",
       "    </tr>\n",
       "    <tr>\n",
       "      <th>1</th>\n",
       "      <td>F</td>\n",
       "      <td>29</td>\n",
       "      <td>9218</td>\n",
       "      <td>137</td>\n",
       "      <td>01/03/2018</td>\n",
       "      <td>0:00:13</td>\n",
       "      <td>308</td>\n",
       "      <td>01/03/2018</td>\n",
       "      <td>0:18:34</td>\n",
       "      <td>NaN</td>\n",
       "    </tr>\n",
       "    <tr>\n",
       "      <th>2</th>\n",
       "      <td>F</td>\n",
       "      <td>30</td>\n",
       "      <td>3945</td>\n",
       "      <td>54</td>\n",
       "      <td>01/03/2018</td>\n",
       "      <td>0:00:17</td>\n",
       "      <td>191</td>\n",
       "      <td>01/03/2018</td>\n",
       "      <td>0:12:13</td>\n",
       "      <td>NaN</td>\n",
       "    </tr>\n",
       "    <tr>\n",
       "      <th>3</th>\n",
       "      <td>M</td>\n",
       "      <td>25</td>\n",
       "      <td>9971</td>\n",
       "      <td>130</td>\n",
       "      <td>01/03/2018</td>\n",
       "      <td>0:00:47</td>\n",
       "      <td>271</td>\n",
       "      <td>01/03/2018</td>\n",
       "      <td>0:12:40</td>\n",
       "      <td>NaN</td>\n",
       "    </tr>\n",
       "    <tr>\n",
       "      <th>4</th>\n",
       "      <td>M</td>\n",
       "      <td>20</td>\n",
       "      <td>10551</td>\n",
       "      <td>415</td>\n",
       "      <td>01/03/2018</td>\n",
       "      <td>0:00:56</td>\n",
       "      <td>433</td>\n",
       "      <td>01/03/2018</td>\n",
       "      <td>0:05:18</td>\n",
       "      <td>NaN</td>\n",
       "    </tr>\n",
       "  </tbody>\n",
       "</table>\n",
       "</div>"
      ],
      "text/plain": [
       "  Genero_Usuario  Edad_Usuario   Bici  Ciclo_Estacion_Retiro Fecha_Retiro  \\\n",
       "0              M            49   3307                    365   01/03/2018   \n",
       "1              F            29   9218                    137   01/03/2018   \n",
       "2              F            30   3945                     54   01/03/2018   \n",
       "3              M            25   9971                    130   01/03/2018   \n",
       "4              M            20  10551                    415   01/03/2018   \n",
       "\n",
       "  Hora_Retiro Ciclo_Estacion_Arribo Fecha_Arribo Hora_Arribo Unnamed: 9  \n",
       "0     0:00:10                   169   01/03/2018     0:13:05        NaN  \n",
       "1     0:00:13                   308   01/03/2018     0:18:34        NaN  \n",
       "2     0:00:17                   191   01/03/2018     0:12:13        NaN  \n",
       "3     0:00:47                   271   01/03/2018     0:12:40        NaN  \n",
       "4     0:00:56                   433   01/03/2018     0:05:18        NaN  "
      ]
     },
     "execution_count": 11,
     "metadata": {},
     "output_type": "execute_result"
    }
   ],
   "source": [
    "df.head()"
   ]
  },
  {
   "cell_type": "code",
   "execution_count": 12,
   "metadata": {},
   "outputs": [
    {
     "data": {
      "text/plain": [
       "(17104573, 10)"
      ]
     },
     "execution_count": 12,
     "metadata": {},
     "output_type": "execute_result"
    }
   ],
   "source": [
    "df.shape"
   ]
  },
  {
   "cell_type": "code",
   "execution_count": 13,
   "metadata": {
    "scrolled": true
   },
   "outputs": [
    {
     "name": "stdout",
     "output_type": "stream",
     "text": [
      "Genero_Usuario [<class 'str'>] \n",
      "\n",
      "Edad_Usuario [<class 'int'>] \n",
      "\n",
      "Bici [<class 'int'>, <class 'str'>] \n",
      "\n",
      "Ciclo_Estacion_Retiro [<class 'int'>] \n",
      "\n",
      "Fecha_Retiro [<class 'str'>] \n",
      "\n",
      "Hora_Retiro [<class 'str'>] \n",
      "\n",
      "Ciclo_Estacion_Arribo [<class 'int'>, <class 'str'>] \n",
      "\n",
      "Fecha_Arribo [<class 'str'>] \n",
      "\n",
      "Hora_Arribo [<class 'str'>] \n",
      "\n",
      "Unnamed: 9 [<class 'float'>, <class 'str'>] \n",
      "\n"
     ]
    }
   ],
   "source": [
    "for c in df.columns:\n",
    "    print(c , df[c].map(type).unique().tolist() , \"\\n\" )"
   ]
  },
  {
   "cell_type": "code",
   "execution_count": 14,
   "metadata": {},
   "outputs": [
    {
     "data": {
      "text/plain": [
       "<class 'int'>    13098199\n",
       "<class 'str'>     4006374\n",
       "Name: Bici, dtype: int64"
      ]
     },
     "execution_count": 14,
     "metadata": {},
     "output_type": "execute_result"
    }
   ],
   "source": [
    "df['Bici'].map(type).value_counts()"
   ]
  },
  {
   "cell_type": "code",
   "execution_count": 15,
   "metadata": {},
   "outputs": [
    {
     "data": {
      "text/plain": [
       "<class 'int'>   0.77\n",
       "<class 'str'>   0.23\n",
       "Name: Bici, dtype: float64"
      ]
     },
     "execution_count": 15,
     "metadata": {},
     "output_type": "execute_result"
    }
   ],
   "source": [
    "df['Bici'].map(type).value_counts(True)"
   ]
  },
  {
   "cell_type": "code",
   "execution_count": 16,
   "metadata": {},
   "outputs": [],
   "source": [
    "df['Bici'] = df['Bici'].astype(str)"
   ]
  },
  {
   "cell_type": "code",
   "execution_count": 17,
   "metadata": {},
   "outputs": [],
   "source": [
    "df = df.loc[df['Ciclo_Estacion_Arribo'] != '32:11.8'].reset_index(drop=True).copy()"
   ]
  },
  {
   "cell_type": "code",
   "execution_count": 18,
   "metadata": {
    "scrolled": true
   },
   "outputs": [],
   "source": [
    "df['Ciclo_Estacion_Arribo'] = pd.to_numeric( df['Ciclo_Estacion_Arribo'])"
   ]
  },
  {
   "cell_type": "code",
   "execution_count": 19,
   "metadata": {},
   "outputs": [],
   "source": [
    "df.drop(columns={'Unnamed: 9'},inplace=True)"
   ]
  },
  {
   "cell_type": "code",
   "execution_count": 20,
   "metadata": {},
   "outputs": [
    {
     "data": {
      "text/plain": [
       "Genero_Usuario           object\n",
       "Edad_Usuario              int64\n",
       "Bici                     object\n",
       "Ciclo_Estacion_Retiro     int64\n",
       "Fecha_Retiro             object\n",
       "Hora_Retiro              object\n",
       "Ciclo_Estacion_Arribo     int64\n",
       "Fecha_Arribo             object\n",
       "Hora_Arribo              object\n",
       "dtype: object"
      ]
     },
     "execution_count": 20,
     "metadata": {},
     "output_type": "execute_result"
    }
   ],
   "source": [
    "df.dtypes"
   ]
  },
  {
   "cell_type": "code",
   "execution_count": 21,
   "metadata": {},
   "outputs": [],
   "source": [
    "df = df.loc[ (~df['Fecha_Retiro'].isnull() )  & (~df['Fecha_Arribo'].isnull() )].reset_index(drop=True).copy()"
   ]
  },
  {
   "cell_type": "code",
   "execution_count": 22,
   "metadata": {},
   "outputs": [
    {
     "data": {
      "text/html": [
       "<div>\n",
       "<style scoped>\n",
       "    .dataframe tbody tr th:only-of-type {\n",
       "        vertical-align: middle;\n",
       "    }\n",
       "\n",
       "    .dataframe tbody tr th {\n",
       "        vertical-align: top;\n",
       "    }\n",
       "\n",
       "    .dataframe thead th {\n",
       "        text-align: right;\n",
       "    }\n",
       "</style>\n",
       "<table border=\"1\" class=\"dataframe\">\n",
       "  <thead>\n",
       "    <tr style=\"text-align: right;\">\n",
       "      <th></th>\n",
       "      <th>Genero_Usuario</th>\n",
       "      <th>Edad_Usuario</th>\n",
       "      <th>Bici</th>\n",
       "      <th>Ciclo_Estacion_Retiro</th>\n",
       "      <th>Fecha_Retiro</th>\n",
       "      <th>Hora_Retiro</th>\n",
       "      <th>Ciclo_Estacion_Arribo</th>\n",
       "      <th>Fecha_Arribo</th>\n",
       "      <th>Hora_Arribo</th>\n",
       "    </tr>\n",
       "  </thead>\n",
       "  <tbody>\n",
       "    <tr>\n",
       "      <th>0</th>\n",
       "      <td>M</td>\n",
       "      <td>49</td>\n",
       "      <td>3307</td>\n",
       "      <td>365</td>\n",
       "      <td>01/03/2018</td>\n",
       "      <td>0:00:10</td>\n",
       "      <td>169</td>\n",
       "      <td>01/03/2018</td>\n",
       "      <td>0:13:05</td>\n",
       "    </tr>\n",
       "    <tr>\n",
       "      <th>1</th>\n",
       "      <td>F</td>\n",
       "      <td>29</td>\n",
       "      <td>9218</td>\n",
       "      <td>137</td>\n",
       "      <td>01/03/2018</td>\n",
       "      <td>0:00:13</td>\n",
       "      <td>308</td>\n",
       "      <td>01/03/2018</td>\n",
       "      <td>0:18:34</td>\n",
       "    </tr>\n",
       "    <tr>\n",
       "      <th>2</th>\n",
       "      <td>F</td>\n",
       "      <td>30</td>\n",
       "      <td>3945</td>\n",
       "      <td>54</td>\n",
       "      <td>01/03/2018</td>\n",
       "      <td>0:00:17</td>\n",
       "      <td>191</td>\n",
       "      <td>01/03/2018</td>\n",
       "      <td>0:12:13</td>\n",
       "    </tr>\n",
       "    <tr>\n",
       "      <th>3</th>\n",
       "      <td>M</td>\n",
       "      <td>25</td>\n",
       "      <td>9971</td>\n",
       "      <td>130</td>\n",
       "      <td>01/03/2018</td>\n",
       "      <td>0:00:47</td>\n",
       "      <td>271</td>\n",
       "      <td>01/03/2018</td>\n",
       "      <td>0:12:40</td>\n",
       "    </tr>\n",
       "    <tr>\n",
       "      <th>4</th>\n",
       "      <td>M</td>\n",
       "      <td>20</td>\n",
       "      <td>10551</td>\n",
       "      <td>415</td>\n",
       "      <td>01/03/2018</td>\n",
       "      <td>0:00:56</td>\n",
       "      <td>433</td>\n",
       "      <td>01/03/2018</td>\n",
       "      <td>0:05:18</td>\n",
       "    </tr>\n",
       "    <tr>\n",
       "      <th>...</th>\n",
       "      <td>...</td>\n",
       "      <td>...</td>\n",
       "      <td>...</td>\n",
       "      <td>...</td>\n",
       "      <td>...</td>\n",
       "      <td>...</td>\n",
       "      <td>...</td>\n",
       "      <td>...</td>\n",
       "      <td>...</td>\n",
       "    </tr>\n",
       "    <tr>\n",
       "      <th>17104567</th>\n",
       "      <td>M</td>\n",
       "      <td>23</td>\n",
       "      <td>3934</td>\n",
       "      <td>74</td>\n",
       "      <td>30/08/2018</td>\n",
       "      <td>23:58:18</td>\n",
       "      <td>136</td>\n",
       "      <td>31/08/2018</td>\n",
       "      <td>0:07:22</td>\n",
       "    </tr>\n",
       "    <tr>\n",
       "      <th>17104568</th>\n",
       "      <td>M</td>\n",
       "      <td>36</td>\n",
       "      <td>11359</td>\n",
       "      <td>73</td>\n",
       "      <td>30/08/2018</td>\n",
       "      <td>23:58:44</td>\n",
       "      <td>162</td>\n",
       "      <td>31/08/2018</td>\n",
       "      <td>0:07:22</td>\n",
       "    </tr>\n",
       "    <tr>\n",
       "      <th>17104569</th>\n",
       "      <td>F</td>\n",
       "      <td>42</td>\n",
       "      <td>7296</td>\n",
       "      <td>128</td>\n",
       "      <td>30/08/2018</td>\n",
       "      <td>23:58:50</td>\n",
       "      <td>151</td>\n",
       "      <td>31/08/2018</td>\n",
       "      <td>0:06:43</td>\n",
       "    </tr>\n",
       "    <tr>\n",
       "      <th>17104570</th>\n",
       "      <td>M</td>\n",
       "      <td>32</td>\n",
       "      <td>11327</td>\n",
       "      <td>303</td>\n",
       "      <td>30/08/2018</td>\n",
       "      <td>23:59:23</td>\n",
       "      <td>287</td>\n",
       "      <td>31/08/2018</td>\n",
       "      <td>0:05:27</td>\n",
       "    </tr>\n",
       "    <tr>\n",
       "      <th>17104571</th>\n",
       "      <td>F</td>\n",
       "      <td>35</td>\n",
       "      <td>1886</td>\n",
       "      <td>137</td>\n",
       "      <td>30/08/2018</td>\n",
       "      <td>23:59:53</td>\n",
       "      <td>162</td>\n",
       "      <td>31/08/2018</td>\n",
       "      <td>0:12:19</td>\n",
       "    </tr>\n",
       "  </tbody>\n",
       "</table>\n",
       "<p>17104572 rows × 9 columns</p>\n",
       "</div>"
      ],
      "text/plain": [
       "         Genero_Usuario  Edad_Usuario   Bici  Ciclo_Estacion_Retiro  \\\n",
       "0                     M            49   3307                    365   \n",
       "1                     F            29   9218                    137   \n",
       "2                     F            30   3945                     54   \n",
       "3                     M            25   9971                    130   \n",
       "4                     M            20  10551                    415   \n",
       "...                 ...           ...    ...                    ...   \n",
       "17104567              M            23   3934                     74   \n",
       "17104568              M            36  11359                     73   \n",
       "17104569              F            42   7296                    128   \n",
       "17104570              M            32  11327                    303   \n",
       "17104571              F            35   1886                    137   \n",
       "\n",
       "         Fecha_Retiro Hora_Retiro  Ciclo_Estacion_Arribo Fecha_Arribo  \\\n",
       "0          01/03/2018     0:00:10                    169   01/03/2018   \n",
       "1          01/03/2018     0:00:13                    308   01/03/2018   \n",
       "2          01/03/2018     0:00:17                    191   01/03/2018   \n",
       "3          01/03/2018     0:00:47                    271   01/03/2018   \n",
       "4          01/03/2018     0:00:56                    433   01/03/2018   \n",
       "...               ...         ...                    ...          ...   \n",
       "17104567   30/08/2018    23:58:18                    136   31/08/2018   \n",
       "17104568   30/08/2018    23:58:44                    162   31/08/2018   \n",
       "17104569   30/08/2018    23:58:50                    151   31/08/2018   \n",
       "17104570   30/08/2018    23:59:23                    287   31/08/2018   \n",
       "17104571   30/08/2018    23:59:53                    162   31/08/2018   \n",
       "\n",
       "         Hora_Arribo  \n",
       "0            0:13:05  \n",
       "1            0:18:34  \n",
       "2            0:12:13  \n",
       "3            0:12:40  \n",
       "4            0:05:18  \n",
       "...              ...  \n",
       "17104567     0:07:22  \n",
       "17104568     0:07:22  \n",
       "17104569     0:06:43  \n",
       "17104570     0:05:27  \n",
       "17104571     0:12:19  \n",
       "\n",
       "[17104572 rows x 9 columns]"
      ]
     },
     "execution_count": 22,
     "metadata": {},
     "output_type": "execute_result"
    }
   ],
   "source": [
    "df"
   ]
  },
  {
   "cell_type": "code",
   "execution_count": 23,
   "metadata": {
    "scrolled": true
   },
   "outputs": [],
   "source": [
    "df['fh_retiro'] = pd.to_datetime( df['Fecha_Retiro'].map( lambda x: x[-4:]+'-'+x[3:5]+'-'+x[:2]  ) + ' ' + \n",
    "                                  df['Hora_Retiro'].map(lambda x: '0'+x if len(x) == 7 else x ) , errors = 'coerce' )"
   ]
  },
  {
   "cell_type": "code",
   "execution_count": 24,
   "metadata": {},
   "outputs": [],
   "source": [
    "df['fh_arribo'] = pd.to_datetime( df['Fecha_Arribo'].map( lambda x: x[-4:]+'-'+x[3:5]+'-'+x[:2]  ) + ' ' + \n",
    "                                  df['Hora_Arribo'].map(lambda x: '0'+x if len(x) == 7 else x ) ,  errors = 'coerce' )"
   ]
  },
  {
   "cell_type": "code",
   "execution_count": null,
   "metadata": {},
   "outputs": [],
   "source": [
    "df = df.loc[ (~df.fh_retiro.isnull() )& (~df.fh_arribo.isnull() )].reset_index(drop=True).copy()"
   ]
  },
  {
   "cell_type": "code",
   "execution_count": null,
   "metadata": {},
   "outputs": [],
   "source": [
    "df['Genero_Usuario'].value_counts(),  df['Genero_Usuario'].value_counts(True)"
   ]
  },
  {
   "cell_type": "code",
   "execution_count": null,
   "metadata": {},
   "outputs": [],
   "source": [
    "df.shape"
   ]
  },
  {
   "cell_type": "code",
   "execution_count": null,
   "metadata": {},
   "outputs": [],
   "source": [
    "cols = ['Bici','Genero_Usuario','Edad_Usuario','Ciclo_Estacion_Retiro','fh_retiro','Ciclo_Estacion_Arribo','fh_arribo']"
   ]
  },
  {
   "cell_type": "code",
   "execution_count": null,
   "metadata": {},
   "outputs": [],
   "source": [
    "df[cols].head(5)"
   ]
  },
  {
   "cell_type": "code",
   "execution_count": null,
   "metadata": {
    "cell_style": "split"
   },
   "outputs": [],
   "source": [
    "df[cols].dtypes"
   ]
  },
  {
   "cell_type": "code",
   "execution_count": null,
   "metadata": {
    "cell_style": "split",
    "scrolled": true
   },
   "outputs": [],
   "source": [
    "df.describe(percentiles=[0.01,0.99])"
   ]
  },
  {
   "cell_type": "code",
   "execution_count": null,
   "metadata": {},
   "outputs": [],
   "source": [
    "df = df[cols].copy()"
   ]
  },
  {
   "cell_type": "code",
   "execution_count": null,
   "metadata": {},
   "outputs": [],
   "source": [
    "df.head()"
   ]
  },
  {
   "cell_type": "code",
   "execution_count": null,
   "metadata": {
    "scrolled": true
   },
   "outputs": [],
   "source": [
    "cat_estaciones"
   ]
  },
  {
   "cell_type": "code",
   "execution_count": null,
   "metadata": {},
   "outputs": [],
   "source": [
    "cat_estaciones.head()"
   ]
  },
  {
   "cell_type": "code",
   "execution_count": null,
   "metadata": {},
   "outputs": [],
   "source": [
    "cat_estaciones.dtypes"
   ]
  },
  {
   "cell_type": "code",
   "execution_count": null,
   "metadata": {
    "scrolled": true
   },
   "outputs": [],
   "source": [
    "cat_estaciones['Colonia'].value_counts()"
   ]
  },
  {
   "cell_type": "code",
   "execution_count": null,
   "metadata": {
    "scrolled": true
   },
   "outputs": [],
   "source": [
    "cat_estaciones = cat_estaciones[['ID','Nombre','Dirección','Colonia','Tipo de estación','location/lat','location/lon']].copy()"
   ]
  },
  {
   "cell_type": "code",
   "execution_count": null,
   "metadata": {
    "cell_style": "split",
    "scrolled": false
   },
   "outputs": [],
   "source": [
    "cat_estaciones.head()"
   ]
  },
  {
   "cell_type": "code",
   "execution_count": null,
   "metadata": {
    "cell_style": "split"
   },
   "outputs": [],
   "source": [
    "df.head()"
   ]
  },
  {
   "cell_type": "code",
   "execution_count": null,
   "metadata": {
    "scrolled": true
   },
   "outputs": [],
   "source": [
    "df.merge( cat_estaciones , left_on=['Ciclo_Estacion_Retiro'] , right_on=['ID'] , how='left' ).drop('ID',axis=1).reset_index(drop=True)"
   ]
  },
  {
   "cell_type": "code",
   "execution_count": null,
   "metadata": {},
   "outputs": [],
   "source": [
    "pd.to_pickle(df,os.path.join( ruta , 'df_ecobici_G19.pkl' ) , protocol=4 )"
   ]
  },
  {
   "cell_type": "code",
   "execution_count": null,
   "metadata": {},
   "outputs": [],
   "source": [
    "df = pd.read_pickle( os.path.join(ruta, 'df_ecobici_G19.pkl') )"
   ]
  },
  {
   "cell_type": "markdown",
   "metadata": {},
   "source": [
    "# Gráficas simples"
   ]
  },
  {
   "cell_type": "code",
   "execution_count": null,
   "metadata": {},
   "outputs": [],
   "source": [
    "aux = df.sample(n=10000).reset_index(drop=True)"
   ]
  },
  {
   "cell_type": "code",
   "execution_count": null,
   "metadata": {},
   "outputs": [],
   "source": [
    "aux.shape"
   ]
  },
  {
   "cell_type": "code",
   "execution_count": null,
   "metadata": {},
   "outputs": [],
   "source": [
    "aux.head()"
   ]
  },
  {
   "cell_type": "code",
   "execution_count": null,
   "metadata": {},
   "outputs": [],
   "source": [
    "df_aux = df['fh_retiro'].map( lambda x: x.hour ).value_counts(True).sort_index()"
   ]
  },
  {
   "cell_type": "code",
   "execution_count": null,
   "metadata": {
    "cell_style": "split",
    "scrolled": true
   },
   "outputs": [],
   "source": [
    "aux['fh_retiro'].map( lambda x: x.hour ).value_counts(True).sort_index().plot(kind='bar')"
   ]
  },
  {
   "cell_type": "code",
   "execution_count": null,
   "metadata": {
    "cell_style": "split"
   },
   "outputs": [],
   "source": [
    "df_aux.plot(kind='bar')"
   ]
  },
  {
   "cell_type": "code",
   "execution_count": null,
   "metadata": {},
   "outputs": [],
   "source": [
    "aux['fh_retiro'].map(lambda x: x.hour).value_counts(True).sort_index().plot(marker='o')"
   ]
  },
  {
   "cell_type": "code",
   "execution_count": null,
   "metadata": {},
   "outputs": [],
   "source": [
    "import cufflinks as cf\n",
    "cf.go_offline()"
   ]
  },
  {
   "cell_type": "code",
   "execution_count": null,
   "metadata": {},
   "outputs": [],
   "source": [
    "aux['fh_retiro'].map(lambda x: x.hour).value_counts(True).sort_index().iplot()"
   ]
  },
  {
   "cell_type": "code",
   "execution_count": null,
   "metadata": {
    "scrolled": true
   },
   "outputs": [],
   "source": [
    "aux['fh_retiro'].map(lambda x: x.hour).value_counts(True).sort_index().iplot(title='Ecobicis',\n",
    "                                                                            xTitle='Horas',\n",
    "                                                                            yTitle='% viajes',\n",
    "                                                                            kind='scatter',\n",
    "                                                                            mode='lines+markers')"
   ]
  },
  {
   "cell_type": "code",
   "execution_count": null,
   "metadata": {
    "scrolled": true
   },
   "outputs": [],
   "source": [
    "aux['fh_retiro'].map(lambda x: x.hour).value_counts(True).sort_index().iplot(title='Ecobicis',\n",
    "                                                                            xTitle='Horas',\n",
    "                                                                            yTitle='% viajes',\n",
    "                                                                            kind='histogram',\n",
    "                                                                            mode='lines+markers')"
   ]
  },
  {
   "cell_type": "code",
   "execution_count": null,
   "metadata": {},
   "outputs": [],
   "source": [
    "aux['hr_retiro'] = aux['fh_retiro'].map(lambda x: x.hour)"
   ]
  },
  {
   "cell_type": "code",
   "execution_count": null,
   "metadata": {},
   "outputs": [],
   "source": [
    "aux.iplot(kind=\"scatter\",theme='white', x=\"hr_retiro\",y=\"Edad_Usuario\",categories='Genero_Usuario')"
   ]
  }
 ],
 "metadata": {
  "kernelspec": {
   "display_name": "Python 3 (ipykernel)",
   "language": "python",
   "name": "python3"
  },
  "language_info": {
   "codemirror_mode": {
    "name": "ipython",
    "version": 3
   },
   "file_extension": ".py",
   "mimetype": "text/x-python",
   "name": "python",
   "nbconvert_exporter": "python",
   "pygments_lexer": "ipython3",
   "version": "3.10.6"
  },
  "latex_envs": {
   "LaTeX_envs_menu_present": true,
   "autoclose": false,
   "autocomplete": true,
   "bibliofile": "biblio.bib",
   "cite_by": "apalike",
   "current_citInitial": 1,
   "eqLabelWithNumbers": true,
   "eqNumInitial": 1,
   "hotkeys": {
    "equation": "Ctrl-E",
    "itemize": "Ctrl-I"
   },
   "labels_anchors": false,
   "latex_user_defs": false,
   "report_style_numbering": false,
   "user_envs_cfg": false
  },
  "toc": {
   "base_numbering": 1,
   "nav_menu": {},
   "number_sections": true,
   "sideBar": true,
   "skip_h1_title": false,
   "title_cell": "Table of Contents",
   "title_sidebar": "Contents",
   "toc_cell": false,
   "toc_position": {
    "height": "calc(100% - 180px)",
    "left": "10px",
    "top": "150px",
    "width": "165px"
   },
   "toc_section_display": true,
   "toc_window_display": false
  }
 },
 "nbformat": 4,
 "nbformat_minor": 4
}
